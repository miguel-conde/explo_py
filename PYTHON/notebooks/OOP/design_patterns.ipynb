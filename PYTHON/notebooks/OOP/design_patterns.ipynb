{
 "cells": [
  {
   "cell_type": "code",
   "execution_count": 1,
   "metadata": {},
   "outputs": [],
   "source": [
    "\n",
    "%load_ext autoreload\n",
    "%autoreload 2"
   ]
  },
  {
   "cell_type": "markdown",
   "metadata": {},
   "source": [
    "+ [Drawing a UML Diagram in the VS Code](https://towardsdatascience.com/drawing-a-uml-diagram-in-the-vs-code-53c2e67deffe)\n",
    "+ [PlantUML at a Glance](https://plantuml.com/)\n",
    "+ [Refactoring Guru - Patrones de Diseño](https://refactoring.guru/es/design-patterns)\n",
    "+ [Patrones de Diseño en Python (I) — Introducción](https://jaimesendraberenguer.medium.com/patrones-de-dise%C3%B1o-en-python-i-introducci%C3%B3n-26b2893eea30)\n",
    "+ [Patrones de Diseño en Python (II) — Patrones Creacionales](https://jaimesendraberenguer.medium.com/patrones-de-dise%C3%B1o-en-python-ii-patrones-de-creaci%C3%B3n-b6d643edcead)"
   ]
  },
  {
   "cell_type": "markdown",
   "metadata": {},
   "source": [
    "\n",
    "# Mini-Course Summary: UML and Design Patterns with Python\n",
    "\n",
    "Chapter 1: Introduction to UML for Python Developers\n",
    "1. Overview of UML\n",
    "2. Importance of UML in software development\n",
    "3. Basic UML diagrams relevant to Python programming (Class diagrams, Sequence diagrams)\n",
    "\n",
    "Chapter 2: Deep Dive into Class Diagrams\n",
    "1. Detailed explanation of class diagrams\n",
    "2. Attributes, methods, and relationships (association, aggregation, composition, inheritance)\n",
    "3. Creating class diagrams for Python classes\n",
    "\n",
    "Chapter 3: Sequence Diagrams and Use Case Diagrams\n",
    "1. Understanding sequence diagrams: objects and interactions\n",
    "2. Use case diagrams: identifying actors and use cases in a system\n",
    "3. Practical examples in Python\n",
    "\n",
    "Chapter 4: Introduction to Design Patterns\n",
    "1. What are design patterns?\n",
    "2. Categories of design patterns: Creational, Structural, Behavioral\n",
    "3. The significance of design patterns in Python\n",
    "\n",
    "Chapter 5: Creational Patterns in Python\n",
    "1. Singleton Pattern\n",
    "2. Factory Method\n",
    "3. Abstract Factory\n",
    "4. Builder Pattern\n",
    "5. Prototype Pattern\n",
    "6. Practical coding examples in Python\n",
    "\n",
    "Chapter 6: Structural Patterns in Python\n",
    "1. Adapter Pattern\n",
    "2. Composite Pattern\n",
    "3. Proxy Pattern\n",
    "4. Flyweight Pattern\n",
    "5. Bridge Pattern\n",
    "6. Decorator Pattern\n",
    "7. Practical coding examples in Python\n",
    "\n",
    "Chapter 7: Behavioral Patterns in Python\n",
    "1. Strategy Pattern\n",
    "2. Observer Pattern\n",
    "3. Command Pattern\n",
    "4. Iterator Pattern\n",
    "5. State Pattern\n",
    "6. Template Method\n",
    "7. Visitor Pattern\n",
    "8. Practical coding examples in Python\n",
    "\n",
    "Chapter 8: Applying UML and Design Patterns to a Project\n",
    "1. Case study: Designing a Python application using UML diagrams\n",
    "2. Implementing selected design patterns in the project\n",
    "3. Refactoring and optimization using design patterns\n",
    "\n",
    "Chapter 9: Best Practices and Common Pitfalls\n",
    "1. Best practices in using UML and design patterns\n",
    "2. Common pitfalls and how to avoid them\n",
    "3. Resources for further learning"
   ]
  },
  {
   "cell_type": "markdown",
   "metadata": {},
   "source": [
    "# Chapter 1: Introduction to UML for Python Developers\n",
    "\n",
    "## Overview of UML\n",
    "\n",
    "Unified Modeling Language (UML) is a standardized modeling language consisting of an integrated set of diagrams, developed to specify, visualize, construct, and document the artifacts of a software system. UML is not specific to any programming language, which allows it to be used in a variety of software development projects. It helps in planning the system structure, detailing the functionality, and communicating among the project's stakeholders.\n",
    "\n",
    "Importance of UML in Software Development\n",
    "UML plays a crucial role in the software development process for several reasons:\n",
    "\n",
    "1. Clarifies System Architecture: UML provides a blueprint of the system architecture, helping developers and stakeholders understand the system at a high level.\n",
    "2. Improves Communication: The graphical nature of UML diagrams facilitates better communication among developers, analysts, and non-technical stakeholders, ensuring that everyone has a common understanding of the system.\n",
    "3. Facilitates System Design: UML helps in the detailed design of software components, making the transition from concept to code more straightforward.\n",
    "4. Supports Problem Solving: By visualizing complex systems, UML helps in identifying and solving potential issues before they become problematic during implementation.\n",
    "5. Enables Reusability: The use of UML encourages modularity and reusability through its design, which can lead to a reduction in development time and costs.\n",
    "\n",
    "## Basic UML Diagrams Relevant to Python Programming\n",
    "\n",
    "In the context of Python programming, two primary types of UML diagrams are particularly useful: Class Diagrams and Sequence Diagrams.\n",
    "\n",
    "1. **Class Diagrams**: These diagrams are static structure diagrams that describe the structure of a system by showing the system's classes, their attributes, operations (or methods), and the relationships among the objects. In Python, classes are a fundamental part of object-oriented programming (OOP), making class diagrams essential for designing and understanding how different parts of your application interact.\n",
    "\n",
    "2. **Sequence Diagrams**: These diagrams are dynamic behavior diagrams that show how objects interact with each other in a particular sequence of time. They capture the interaction between objects in the context of a collaboration. Sequence diagrams are particularly useful in Python for visualizing the flow of control in complex functions, understanding how different objects communicate over time, and identifying potential bottlenecks or inefficiencies in the interaction sequences.\n",
    "\n",
    "Both class and sequence diagrams provide a visual way to understand and document the design of a software system. They are invaluable tools for Python developers, especially when working on large or complex projects where understanding the interaction between different parts of the system becomes critical.\n",
    "\n",
    "## Practical Application\n",
    "To practically apply the concepts discussed, we'll progressively learn how to create and interpret these diagrams with examples relevant to Python programming. This will include exercises for creating UML diagrams based on Python code and vice versa, translating UML diagrams into Python code.\n",
    "\n",
    "This foundational knowledge of UML will be essential as we move forward to more complex diagrams and design patterns in subsequent chapters."
   ]
  },
  {
   "cell_type": "markdown",
   "metadata": {},
   "source": [
    "# Chapter 2: Deep Dive into Class Diagrams\n",
    "\n",
    "Class diagrams are a cornerstone of object-oriented design and modeling. They allow developers to visualize the structure of a system by showcasing the system's classes, their attributes and methods, and the relationships among classes. In this chapter, we'll explore class diagrams in detail, focusing on their application in Python.\n",
    "\n",
    "## Detailed Explanation of Class Diagrams\n",
    "Class diagrams consist of rectangles divided into three parts:\n",
    "\n",
    "1. The top part contains the class's name.\n",
    "2. The middle part lists the attributes (or properties) of the class.\n",
    "3. The bottom part shows the methods (or operations) the class can take or perform.\n",
    "\n",
    "Attributes represent the data contained within objects of the class, while methods represent the behavior or functionality the objects can exhibit.\n",
    "\n",
    "## Attributes and Methods\n",
    "\n",
    "In a Python class, attributes can be instance variables or class variables. Instance variables are tied to a particular instance of a class, whereas class variables are shared among all instances of the class.\n",
    "\n",
    "Methods in Python classes can be instance methods (which operate on an instance of the class), class methods (which operate on the class itself), or static methods (which don't operate on the class or an instance of the class).\n",
    "\n",
    "## Relationships in Class Diagrams\n",
    "\n",
    "Class diagrams also detail the relationships between classes, which are crucial for understanding how different parts of your system interact. The main types of relationships are:\n",
    "\n",
    "1. **Association**: A general link between two classes that shows interactions between them without implying ownership. For example, a Teacher class might be associated with a Course class, indicating teachers teach courses.\n",
    "\n",
    "2. **Aggregation**: A special form of association that represents a \"has-a\" relationship where the child can exist independently of the parent. For example, a Library class might contain Books, but Books can exist outside of the Library.\n",
    "\n",
    "3. **Composition**: A stronger form of aggregation that represents a \"part-of\" relationship where the child cannot exist without the parent. For example, a House might be composed of Rooms, where Rooms cannot exist without a House.\n",
    "\n",
    "4. **Inheritance**: Represents an \"is-a\" relationship where one class is a subclass of another and inherits its attributes and methods. For example, a Cat class might inherit from an Animal class.\n",
    "\n",
    "## Creating Class Diagrams for Python Classes\n",
    "\n",
    "Creating a class diagram for Python classes involves identifying the classes in your system and then detailing their attributes, methods, and relationships as described above.\n",
    "\n",
    "Let's consider a simple example involving a Person class and a Student subclass that inherits from Person:"
   ]
  },
  {
   "cell_type": "code",
   "execution_count": null,
   "metadata": {},
   "outputs": [],
   "source": [
    "class Person:\n",
    "    def __init__(self, name, age):\n",
    "        self.name = name\n",
    "        self.age = age\n",
    "\n",
    "    def greet(self):\n",
    "        return f\"Hello, my name is {self.name}.\"\n",
    "\n",
    "class Student(Person):\n",
    "    def __init__(self, name, age, student_id):\n",
    "        super().__init__(name, age)\n",
    "        self.student_id = student_id\n",
    "\n",
    "    def study(self):\n",
    "        return \"Studying hard!\"\n"
   ]
  },
  {
   "cell_type": "markdown",
   "metadata": {},
   "source": [
    "For this example, the class diagram would include:\n",
    "\n",
    "+ A `Person` class with attributes `name` and `age`, and a method `greet()`.\n",
    "+ A `Student` class that inherits from `Person`, adds an attribute `student_id`, and a method `study()`.\n",
    "\n",
    "The diagram would show the inheritance relationship between `Person` and `Student`, indicating that `Student` is a specialized form of `Person`.\n",
    "\n",
    "## Exercise\n",
    "\n",
    "Try to create a class diagram for a small system you're familiar with or interested in. Consider the classes you'd need, their attributes and methods, and how they relate to each other. If you'd like, share your scenario, and we can discuss how to model it."
   ]
  },
  {
   "cell_type": "markdown",
   "metadata": {},
   "source": [
    "# Chapter 3: Sequence Diagrams and Use Case Diagrams\n",
    "\n",
    "## Understanding Sequence Diagrams: Objects and Interactions\n",
    "Sequence diagrams are a type of interaction diagram that shows how objects operate with one another and in what order. They are a key tool in detailed modeling, capturing the dynamic behavior of a system. The main components of a sequence diagram include:\n",
    "\n",
    "+ **Objects**: These are instances of classes participating in the interaction. They are represented by rectangles at the top, with the object name and class name (optional).\n",
    "+ **Lifelines**: A vertical dashed line that represents the object's presence over time.\n",
    "+ **Messages**: Horizontal arrows that show the communication between objects. The direction of the arrow indicates the direction of the message flow.\n",
    "+ **Activation Bars**: Thin rectangles on a lifeline that represent the time an object is performing an action.\n",
    "\n",
    "Sequence diagrams are particularly useful for visualizing the sequence of messages passed between various objects in a system to accomplish a specific functionality.\n",
    "\n",
    "## Use Case Diagrams: Identifying Actors and Use Cases in a System\n",
    "\n",
    "Use case diagrams are a type of behavioral diagram defined by and created from a Use-case analysis. They help identify the interactions between a system and its external entities (actors). Here are the main components:\n",
    "\n",
    "+ **Actors**: Represent roles that users or other systems play as they interact with the system. Actors are external to the system.\n",
    "+ **Use Cases**: Represent the functions or services provided by the system to an actor. Each use case represents a specific goal that an actor can achieve with the system.\n",
    "+ **System Boundary**: A rectangle that frames a set of interactions between actors and the system, defining the scope of the system.\n",
    "+ **Relationships**: Lines and arrows that illustrate the relationships between actors and use cases or among use cases themselves.\n",
    "\n",
    "Use case diagrams are excellent for understanding the functional requirements of a system, determining external and internal factors influencing the system, and facilitating communication among stakeholders.\n",
    "\n",
    "## Practical Examples in Python\n",
    "\n",
    "Let's create a hypothetical scenario involving a library system to explore sequence diagrams and use case diagrams with a Python context.\n",
    "\n",
    "### Sequence Diagram Example:\n",
    "\n",
    "Imagine a simple system where a user (object) interacts with a library management system to borrow a book. The sequence might involve the user searching for a book, selecting a book, and then checking it out.\n",
    "\n",
    "1. **User**: Initiates the search for a book by title.\n",
    "2. **Library System**: Processes the search and returns the results.\n",
    "3. **User**: Selects a book from the search results.\n",
    "4. **Library System**: Checks if the book is available and processes the checkout.\n",
    "\n",
    "In Python, these interactions might be represented by method calls between objects of classes like `User`, `LibrarySystem`, and `Book`.\n",
    "\n",
    "### Use Case Diagram Example:\n",
    "\n",
    "For the same library system, use case diagrams can be used to represent different functionalities available to various actors.\n",
    "\n",
    "1. **Actors**: User, Librarian\n",
    "2. **Use Cases for User**: Search for a book, Borrow a book, Return a book\n",
    "3. **Use Cases for Librarian**: Add new book, Remove book, Update book information\n",
    "\n",
    "This use case diagram helps in identifying the functionalities the system needs to provide and how different actors interact with these functionalities."
   ]
  },
  {
   "cell_type": "markdown",
   "metadata": {},
   "source": [
    "# Chapter 4: Introduction to Design Patterns\n",
    "\n",
    "## What Are Design Patterns?\n",
    "\n",
    "Design patterns are typical solutions to common problems in software design. Each pattern is like a blueprint that you can customize to solve a particular design problem in your code. They are not finished designs that can be transformed directly into code but are descriptions or templates for how to solve a problem in a way that can be reused in different situations. Design patterns can speed up the development process by providing tested, proven development paradigms.\n",
    "\n",
    "## Categories of Design Patterns\n",
    "\n",
    "Design patterns are typically split into three categories:\n",
    "\n",
    "1. **Creational Patterns**: These patterns provide various object creation mechanisms, which increase the flexibility and reuse of existing code. For example, they can help to isolate the details of how objects are created from their main system. Creational patterns include:\n",
    "\n",
    "+ Singleton\n",
    "+ Factory Method\n",
    "+ Abstract Factory\n",
    "+ Builder\n",
    "+ Prototype\n",
    "\n",
    "2. **Structural Patterns**: These patterns explain how to assemble objects and classes into larger structures, while keeping these structures flexible and efficient. Structural patterns help ensure that if one part of a system changes, the entire system doesn't need to do the same. Examples include:\n",
    "\n",
    "+ Adapter\n",
    "+ Composite\n",
    "+ Proxy\n",
    "+ Flyweight\n",
    "+ Bridge\n",
    "+ Decorator\n",
    "\n",
    "3. **Behavioral Patterns**: These patterns are all about class's objects communication. They help define how objects interact in a way that increases their flexibility in carrying out communication. Some examples of behavioral patterns are:\n",
    "\n",
    "+ Observer\n",
    "+ Strategy\n",
    "+ Command\n",
    "+ Iterator\n",
    "+ State\n",
    "+ Visitor\n",
    "+ Mediator\n",
    "+ Memento\n",
    "\n",
    "## The Significance of Design Patterns in Python\n",
    "\n",
    "Design patterns are especially useful in Python due to the language's flexibility and emphasis on readability and simplicity. Implementing design patterns in Python often results in more efficient code, less duplication of logic, and a clearer separation of concerns. Moreover, because Python supports multiple programming paradigms (including procedural, object-oriented, and functional programming), it can effectively utilize a wide range of design patterns.\n",
    "\n",
    "+ **Enhanced Code Reusability and Readability**: By using design patterns, Python developers can write more modular and reusable code. This makes the codebase easier to understand and maintain.\n",
    "+ **Solving Design Problems**: Design patterns provide a tested and proven solution to common design problems, saving developers time and effort in the software development process.\n",
    "+ **Facilitating Best Practices**: Employing design patterns encourages the use of best practices in Python programming, making the code more robust and scalable.\n",
    "\n",
    "Design patterns in Python are not only about code efficiency; they're also about fostering a culture of clean, sustainable development practices. As you become more familiar with these patterns, you'll start recognizing them in existing libraries and frameworks, which will further enhance your ability to work with and design sophisticated software systems.\n",
    "\n",
    "In the next chapters, we'll dive into each category of design patterns, starting with Creational patterns, and explore how they can be applied in Python through practical examples and coding exercises."
   ]
  },
  {
   "cell_type": "markdown",
   "metadata": {},
   "source": [
    "# Chapter 5: Creational Patterns in Python\n",
    "\n",
    "Creational design patterns focus on handling object creation mechanisms where objects are created in a manner suitable for the situation. The basic form of object creation could result in design problems or add complexity to the design. Creational design patterns solve this problem by somehow controlling this object creation.\n",
    "\n",
    "## Singleton Pattern\n",
    "\n",
    "The Singleton Pattern ensures a class has only one instance and provides a global point of access to it. This is useful when exactly one object is needed to coordinate actions across the system.\n",
    "\n",
    "**Python Example**:"
   ]
  },
  {
   "cell_type": "code",
   "execution_count": 1,
   "metadata": {},
   "outputs": [],
   "source": [
    "class Singleton:\n",
    "    _instance = None\n",
    "\n",
    "    def __new__(cls):\n",
    "        if cls._instance is None:\n",
    "            cls._instance = super(Singleton, cls).__new__(cls)\n",
    "            # Put any initialization here.\n",
    "        return cls._instance"
   ]
  },
  {
   "cell_type": "code",
   "execution_count": 2,
   "metadata": {},
   "outputs": [],
   "source": [
    "# Usage\n",
    "singleton1 = Singleton()\n",
    "singleton2 = Singleton()\n",
    "\n",
    "assert singleton1 is singleton2"
   ]
  },
  {
   "cell_type": "markdown",
   "metadata": {},
   "source": [
    "**Alternativa**:"
   ]
  },
  {
   "cell_type": "code",
   "execution_count": 3,
   "metadata": {},
   "outputs": [],
   "source": [
    "class Singleton():\n",
    "\n",
    "    _instance = None\n",
    "    _value = 0\n",
    "\n",
    "    @classmethod\n",
    "    def get_instance(cls): # Constructor alternativo que retorna una nueva instancia\n",
    "        if not cls._instance:\n",
    "            cls._instance = cls()\n",
    "        return cls._instance\n",
    "\n",
    "    def get_value(self):\n",
    "        return self._value\n",
    "\n",
    "    def set_value(self, v):\n",
    "        self._value = v"
   ]
  },
  {
   "cell_type": "code",
   "execution_count": 4,
   "metadata": {},
   "outputs": [
    {
     "name": "stdout",
     "output_type": "stream",
     "text": [
      "¿A es el mismo objeto que B?:  True\n"
     ]
    }
   ],
   "source": [
    "A = Singleton.get_instance()\n",
    "B = Singleton.get_instance()\n",
    "print(\"¿A es el mismo objeto que B?: \", A is B)"
   ]
  },
  {
   "cell_type": "code",
   "execution_count": 5,
   "metadata": {},
   "outputs": [
    {
     "name": "stdout",
     "output_type": "stream",
     "text": [
      "A: <__main__.Singleton object at 0x00000255E1BE1750>\n",
      "B: <__main__.Singleton object at 0x00000255E1BE1750>\n"
     ]
    }
   ],
   "source": [
    "print(f'A: {A._instance}\\nB: {B._instance}')"
   ]
  },
  {
   "cell_type": "code",
   "execution_count": 6,
   "metadata": {},
   "outputs": [
    {
     "name": "stdout",
     "output_type": "stream",
     "text": [
      "10\n"
     ]
    }
   ],
   "source": [
    "B.set_value(10)\n",
    "print(A.get_value())"
   ]
  },
  {
   "cell_type": "code",
   "execution_count": 19,
   "metadata": {},
   "outputs": [],
   "source": [
    "# Modify previous class to have a read-only attribute\n",
    "class Singleton():\n",
    "\n",
    "    _instance = None\n",
    "    __value = 0\n",
    "\n",
    "    @classmethod\n",
    "    def get_instance(cls): # Constructor alternativo que retorna una nueva instancia\n",
    "        if not cls._instance:\n",
    "            cls._instance = cls()\n",
    "        return cls._instance\n",
    "\n",
    "    def get_value(self):\n",
    "        return self.__value\n",
    "\n",
    "    @property\n",
    "    def value(self):\n",
    "        return self.__value\n",
    "\n",
    "    # def set_value(self, v):\n",
    "    #     self._value = v"
   ]
  },
  {
   "cell_type": "code",
   "execution_count": 20,
   "metadata": {},
   "outputs": [
    {
     "data": {
      "text/plain": [
       "0"
      ]
     },
     "execution_count": 20,
     "metadata": {},
     "output_type": "execute_result"
    }
   ],
   "source": [
    "C = Singleton.get_instance()\n",
    "C._value = 10\n",
    "C.value"
   ]
  },
  {
   "cell_type": "markdown",
   "metadata": {},
   "source": [
    "**Singleton como decorador**:\n"
   ]
  },
  {
   "cell_type": "code",
   "execution_count": 7,
   "metadata": {},
   "outputs": [],
   "source": [
    "def singleton(cls):\n",
    "\n",
    "    instances = dict()\n",
    "\n",
    "    def wrap(*args, **kwargs):\n",
    "        if cls not in instances:\n",
    "            instances[cls] = cls(*args, **kwargs)\n",
    "        return instances[cls]\n",
    "\n",
    "    return wrap"
   ]
  },
  {
   "cell_type": "markdown",
   "metadata": {},
   "source": [
    "Clase Admin aplicando el Decorador Singleton:"
   ]
  },
  {
   "cell_type": "code",
   "execution_count": 8,
   "metadata": {},
   "outputs": [],
   "source": [
    "@singleton\n",
    "class Admin():\n",
    "\n",
    "    def __init__(self, name, hours):\n",
    "        self.name = name\n",
    "        self.hours = hours\n",
    "        _value = 0\n",
    "\n",
    "    def get_value(self):\n",
    "        return self._value\n",
    "\n",
    "    def set_value(self, v):\n",
    "        self._value = v"
   ]
  },
  {
   "cell_type": "code",
   "execution_count": 10,
   "metadata": {},
   "outputs": [
    {
     "name": "stdout",
     "output_type": "stream",
     "text": [
      "¿admin1 es el mismo objeto que admin2?:  True\n"
     ]
    }
   ],
   "source": [
    "admin1 = Admin(\"Jaime\", 1)\n",
    "admin2 = Admin(\"Jordi\", 4)\n",
    "\n",
    "print(\"¿admin1 es el mismo objeto que admin2?: \", admin1 is admin2)"
   ]
  },
  {
   "cell_type": "code",
   "execution_count": 11,
   "metadata": {},
   "outputs": [
    {
     "data": {
      "text/plain": [
       "2"
      ]
     },
     "execution_count": 11,
     "metadata": {},
     "output_type": "execute_result"
    }
   ],
   "source": [
    "admin1.set_value(2)\n",
    "admin2.get_value()"
   ]
  },
  {
   "cell_type": "markdown",
   "metadata": {},
   "source": [
    "La instancia es la misma, por tanto los parametros introducidos en el admin2 no tienen efecto:"
   ]
  },
  {
   "cell_type": "code",
   "execution_count": 12,
   "metadata": {},
   "outputs": [
    {
     "data": {
      "text/plain": [
       "('Jaime', 'Jaime', 1, 1)"
      ]
     },
     "execution_count": 12,
     "metadata": {},
     "output_type": "execute_result"
    }
   ],
   "source": [
    "admin1.name, admin2.name, admin1.hours, admin2.hours"
   ]
  },
  {
   "cell_type": "code",
   "execution_count": 16,
   "metadata": {},
   "outputs": [
    {
     "data": {
      "text/plain": [
       "1000000"
      ]
     },
     "execution_count": 16,
     "metadata": {},
     "output_type": "execute_result"
    }
   ],
   "source": [
    "admin1._value = 1000000\n",
    "admin2._value"
   ]
  },
  {
   "cell_type": "code",
   "execution_count": 24,
   "metadata": {},
   "outputs": [],
   "source": [
    "# Define a Sinleton class for global variables 'PI' and 'E'. They must be read-only\n",
    "class Singleton():\n",
    "\n",
    "    _instance = None\n",
    "    _PI = 3.1416\n",
    "    _E = 2.7182\n",
    "    nombre = \"soy el original\"\n",
    "\n",
    "    @classmethod\n",
    "    def get_instance(cls): # Constructor alternativo que retorna una nueva instancia\n",
    "        if not cls._instance:\n",
    "            cls._instance = cls()\n",
    "        return cls._instance\n",
    "\n",
    "    @property\n",
    "    def PI(self):\n",
    "        return self._PI\n",
    "\n",
    "    @property\n",
    "    def E(self):\n",
    "        return self._E\n"
   ]
  },
  {
   "cell_type": "code",
   "execution_count": 26,
   "metadata": {},
   "outputs": [
    {
     "data": {
      "text/plain": [
       "3.1416"
      ]
     },
     "execution_count": 26,
     "metadata": {},
     "output_type": "execute_result"
    }
   ],
   "source": [
    "s1 = Singleton()\n",
    "s2 = Singleton()\n",
    "\n",
    "s1._PI = 7\n",
    "s2.PI"
   ]
  },
  {
   "cell_type": "code",
   "execution_count": 27,
   "metadata": {},
   "outputs": [
    {
     "data": {
      "text/plain": [
       "('soy el original', 'soy el original')"
      ]
     },
     "execution_count": 27,
     "metadata": {},
     "output_type": "execute_result"
    }
   ],
   "source": [
    "s1.nombre, s2.nombre"
   ]
  },
  {
   "cell_type": "code",
   "execution_count": 30,
   "metadata": {},
   "outputs": [
    {
     "data": {
      "text/plain": [
       "False"
      ]
     },
     "execution_count": 30,
     "metadata": {},
     "output_type": "execute_result"
    }
   ],
   "source": [
    "s3 = Singleton.get_instance()\n",
    "s3.nombre = \"soy el clon\"\n",
    "s3 is s1"
   ]
  }
 ],
 "metadata": {
  "kernelspec": {
   "display_name": ".venv",
   "language": "python",
   "name": "python3"
  },
  "language_info": {
   "codemirror_mode": {
    "name": "ipython",
    "version": 3
   },
   "file_extension": ".py",
   "mimetype": "text/x-python",
   "name": "python",
   "nbconvert_exporter": "python",
   "pygments_lexer": "ipython3",
   "version": "3.11.2"
  },
  "orig_nbformat": 4
 },
 "nbformat": 4,
 "nbformat_minor": 2
}
