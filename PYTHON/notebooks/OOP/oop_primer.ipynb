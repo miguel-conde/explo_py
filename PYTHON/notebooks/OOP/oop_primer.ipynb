{
 "cells": [
  {
   "cell_type": "code",
   "execution_count": 1,
   "metadata": {},
   "outputs": [],
   "source": [
    "import pandas as pd\n",
    "import numpy as np\n",
    "import matplotlib.pyplot as plt\n",
    "import seaborn as sns\n",
    "\n",
    "from utils import globalsettings as gs"
   ]
  },
  {
   "attachments": {},
   "cell_type": "markdown",
   "metadata": {},
   "source": [
    "# Basics"
   ]
  },
  {
   "cell_type": "code",
   "execution_count": 4,
   "metadata": {},
   "outputs": [
    {
     "name": "stdout",
     "output_type": "stream",
     "text": [
      "Este es un Toyota Corolla\n"
     ]
    }
   ],
   "source": [
    "# CLASE\n",
    "class Coche:\n",
    "    def __init__(self, marca, modelo):\n",
    "        self.marca = marca\n",
    "        self.modelo = modelo\n",
    "\n",
    "    def describir(self):\n",
    "        return f\"Este es un {self.marca} {self.modelo}\"\n",
    "\n",
    "# INSTANCIA\n",
    "mi_coche = Coche(\"Toyota\", \"Corolla\")\n",
    "print(mi_coche.describir())  # Output: Este es un Toyota Corolla\n"
   ]
  },
  {
   "cell_type": "code",
   "execution_count": 5,
   "metadata": {},
   "outputs": [
    {
     "name": "stdout",
     "output_type": "stream",
     "text": [
      "Este es un Tesla Model S\n",
      "Este coche tiene una batería de 100 kWh\n"
     ]
    }
   ],
   "source": [
    "# HERENCIA\n",
    "\n",
    "class CocheElectrico(Coche):\n",
    "    def __init__(self, marca, modelo, bateria):\n",
    "        super().__init__(marca, modelo)\n",
    "        self.bateria = bateria\n",
    "\n",
    "    def describir_bateria(self):\n",
    "        return f\"Este coche tiene una batería de {self.bateria} kWh\"\n",
    "\n",
    "mi_tesla = CocheElectrico(\"Tesla\", \"Model S\", 100)\n",
    "print(mi_tesla.describir()) \n",
    "print(mi_tesla.describir_bateria())  # Output: Este coche tiene una batería de 100 kWh\n"
   ]
  },
  {
   "cell_type": "code",
   "execution_count": null,
   "metadata": {},
   "outputs": [],
   "source": [
    "# ENCAPSULAMIENTO\n",
    "# La encapsulación se refiere a restringir el acceso a ciertos detalles de una clase y permitir solo el acceso a través de métodos bien definidos.\n",
    "\n",
    "class CuentaBancaria:\n",
    "    def __init__(self, saldo):\n",
    "        self.__saldo = saldo\n",
    "\n",
    "    def depositar(self, cantidad):\n",
    "        self.__saldo += cantidad\n",
    "\n",
    "    def consultar_saldo(self):\n",
    "        return self.__saldo\n",
    "\n",
    "# Aquí, __saldo es un atributo privado, y solo se puede acceder o modificar a través de los métodos depositar y consultar_saldo."
   ]
  },
  {
   "cell_type": "code",
   "execution_count": 6,
   "metadata": {},
   "outputs": [
    {
     "name": "stdout",
     "output_type": "stream",
     "text": [
      "Este es un Toyota Corolla\n",
      "Este es un Tesla Model S\n"
     ]
    }
   ],
   "source": [
    "# POLIMORFISMO\n",
    "# El polimorfismo permite que objetos de diferentes clases sean tratados como objetos de una clase común. \n",
    "\n",
    "def describir_vehiculo(vehiculo):\n",
    "    print(vehiculo.describir())\n",
    "\n",
    "# Tanto Coche como CocheElectrico tienen un método describir()\n",
    "describir_vehiculo(mi_coche)\n",
    "describir_vehiculo(mi_tesla)\n"
   ]
  },
  {
   "attachments": {},
   "cell_type": "markdown",
   "metadata": {},
   "source": [
    "# Nombres de atributos y métodos\n",
    "## Protegidos"
   ]
  },
  {
   "cell_type": "code",
   "execution_count": 7,
   "metadata": {},
   "outputs": [],
   "source": [
    "# Un nombre de atributo o método que comienza con un solo subrayado se considera \"protegido\". \n",
    "# Esto es una convención y no impide el acceso desde fuera de la clase, pero indica al desarrollador que el atributo o método no debe accederse directamente.\n",
    "class Ejemplo:\n",
    "    def __init__(self):\n",
    "        self._atributo_protegido = 5\n"
   ]
  },
  {
   "attachments": {},
   "cell_type": "markdown",
   "metadata": {},
   "source": [
    "## Privados"
   ]
  },
  {
   "cell_type": "code",
   "execution_count": 8,
   "metadata": {},
   "outputs": [
    {
     "name": "stdout",
     "output_type": "stream",
     "text": [
      "10\n"
     ]
    }
   ],
   "source": [
    "# Un nombre de atributo o método que comienza con un doble subrayado se considera \"privado\". \n",
    "# Python cambia el nombre de estos atributos de manera que sea más difícil acceder a ellos desde fuera de la clase. Esto se llama \"name mangling\", y aunque no hace que \n",
    "# el atributo sea completamente inaccesible, sí lo oculta.\n",
    "class Ejemplo:\n",
    "    def __init__(self):\n",
    "        self.__atributo_privado = 10\n",
    "\n",
    "obj = Ejemplo()\n",
    "# Acceder al atributo privado utilizando la convención de \"name mangling\"\n",
    "print(obj._Ejemplo__atributo_privado)  # Output: 10\n"
   ]
  },
  {
   "attachments": {},
   "cell_type": "markdown",
   "metadata": {},
   "source": [
    "## Especiales"
   ]
  },
  {
   "cell_type": "code",
   "execution_count": 9,
   "metadata": {},
   "outputs": [],
   "source": [
    "# Los nombres que tienen un doble subrayado tanto al principio como al final se utilizan para métodos especiales en Python, \n",
    "# como __init__, __str__, __call__, etc. \n",
    "# Estos métodos tienen significados específicos en la clase y son parte de la sintaxis de Python.\n",
    "class Ejemplo:\n",
    "    def __init__(self, valor):\n",
    "        self.valor = valor\n",
    "\n",
    "    def __str__(self):\n",
    "        return f\"Ejemplo con valor {self.valor}\"\n"
   ]
  },
  {
   "attachments": {},
   "cell_type": "markdown",
   "metadata": {},
   "source": [
    "### Métodos especiales"
   ]
  },
  {
   "attachments": {},
   "cell_type": "markdown",
   "metadata": {},
   "source": [
    "Los métodos especiales en Python, también conocidos como métodos mágicos o dunder (por \"double underscore\") métodos, permiten definir comportamientos personalizados para las clases. Estos métodos se reconocen por tener dos subrayados al principio y al final del nombre (__nombre__). Aquí hay algunos de los principales métodos especiales:\n",
    "\n",
    "1. `__init__(self, ...)`\n",
    "Este método se llama automáticamente cuando se crea una nueva instancia de una clase. Se utiliza para inicializar los atributos de la instancia.\n",
    "\n",
    "2. `__str__(self)`\n",
    "Este método debe devolver una cadena y se llama cuando se utiliza la función str() en una instancia de la clase. Es útil para una representación legible por humanos del objeto.\n",
    "\n",
    "3. `__repr__(self)`\n",
    "Este método debe devolver una cadena y se llama cuando se utiliza la función repr() en una instancia de la clase. Debería devolver una representación que, idealmente, permita recrear el objeto.\n",
    "\n",
    "4. `__add__(self, other)`\n",
    "Este método permite definir el comportamiento del operador de suma (+) para las instancias de la clase.\n",
    "\n",
    "5. `__sub__(self, other)`\n",
    "Similar a __add__, este método define el comportamiento del operador de resta (-).\n",
    "\n",
    "6. `__eq__(self, other)`\n",
    "Este método define el comportamiento del operador de igualdad (==) para comparar instancias de la clase.\n",
    "\n",
    "7. `__lt__(self, other)`, `__le__(self, other)`, etc.\n",
    "Estos métodos definen los operadores de comparación (<, <=, etc.).\n",
    "\n",
    "8. `__getitem__(self, key)`\n",
    "Este método permite acceder a los elementos de la instancia usando la notación de corchetes, como en los diccionarios y listas.\n",
    "\n",
    "9. `__setitem__(self, key, value)`\n",
    "Similar a __getitem__, este método permite asignar valores usando la notación de corchetes.\n",
    "\n",
    "10. `__call__(self, ...)`\n",
    "Este método permite que las instancias de la clase sean \"llamables\" como funciones.\n",
    "\n",
    "11. `__del__(self)`\n",
    "Este método se llama cuando se elimina una instancia de la clase (por ejemplo, mediante la función del)."
   ]
  },
  {
   "cell_type": "code",
   "execution_count": 10,
   "metadata": {},
   "outputs": [
    {
     "name": "stdout",
     "output_type": "stream",
     "text": [
      "Vector(5, 7)\n"
     ]
    }
   ],
   "source": [
    "class Vector:\n",
    "    def __init__(self, x, y):\n",
    "        self.x = x\n",
    "        self.y = y\n",
    "\n",
    "    def __str__(self):\n",
    "        return f\"Vector({self.x}, {self.y})\"\n",
    "\n",
    "    def __add__(self, other):\n",
    "        return Vector(self.x + other.x, self.y + other.y)\n",
    "\n",
    "v1 = Vector(2, 3)\n",
    "v2 = Vector(3, 4)\n",
    "print(v1 + v2)  # Output: Vector(5, 7)\n"
   ]
  },
  {
   "cell_type": "code",
   "execution_count": 11,
   "metadata": {},
   "outputs": [
    {
     "name": "stdout",
     "output_type": "stream",
     "text": [
      "Punto(3, 4)\n",
      "Punto(3, 4)\n"
     ]
    }
   ],
   "source": [
    "# El método __repr__ se utiliza para proporcionar una representación de cadena \"oficial\" de un objeto. \n",
    "# La idea es que, si fuera posible, esta representación de cadena debería ser una expresión válida de Python que pueda usarse para recrear el objeto.\n",
    "\n",
    "class Punto:\n",
    "    def __init__(self, x, y):\n",
    "        self.x = x\n",
    "        self.y = y\n",
    "\n",
    "    def __repr__(self):\n",
    "        return f\"Punto({self.x}, {self.y})\"\n",
    "\n",
    "p = Punto(3, 4)\n",
    "representacion = repr(p)\n",
    "\n",
    "# La representación es \"Punto(3, 4)\"\n",
    "print(representacion)\n",
    "\n",
    "# Se puede usar eval para recrear el objeto\n",
    "nuevo_punto = eval(representacion)\n",
    "print(nuevo_punto)  # Output: Punto(3, 4)\n"
   ]
  },
  {
   "attachments": {},
   "cell_type": "markdown",
   "metadata": {},
   "source": [
    "En este ejemplo, el método `__repr__` devuelve una cadena que se parece a la llamada al constructor de la clase Punto. Esto significa que podríamos utilizar la función eval en esta cadena para recrear una nueva instancia de la clase Punto con los mismos valores de x e y.\n",
    "\n",
    "La práctica de hacer que `__repr__` devuelva una cadena que pueda usarse para recrear el objeto no es obligatoria, pero es una convención útil y a menudo recomendada."
   ]
  },
  {
   "attachments": {},
   "cell_type": "markdown",
   "metadata": {},
   "source": [
    "Los métodos `__str__` y `__repr__` en Python tienen propósitos relacionados pero distintos:"
   ]
  },
  {
   "cell_type": "code",
   "execution_count": null,
   "metadata": {},
   "outputs": [],
   "source": [
    "class Punto:\n",
    "    def __init__(self, x, y):\n",
    "        self.x = x\n",
    "        self.y = y\n",
    "\n",
    "    def __str__(self):\n",
    "        return f\"({self.x}, {self.y})\"\n",
    "\n",
    "    def __repr__(self):\n",
    "        return f\"Punto({self.x}, {self.y})\"\n",
    "\n",
    "p = Punto(2, 3)\n",
    "\n",
    "# Utilizando la función str() o simplemente print() se llama a __str__\n",
    "print(str(p))  # Output: (2, 3)\n",
    "print(p)       # Output: (2, 3)\n",
    "\n",
    "# Utilizando la función repr() se llama a __repr__\n",
    "print(repr(p)) # Output: Punto(2, 3)\n"
   ]
  },
  {
   "attachments": {},
   "cell_type": "markdown",
   "metadata": {},
   "source": [
    " Los métodos especiales `__getitem__` y `__setitem__` permiten que las instancias de una clase se comporten como contenedores, lo que significa que puedes acceder y modificar sus elementos usando la notación de corchetes ([]), similar a las listas y los diccionarios."
   ]
  },
  {
   "cell_type": "code",
   "execution_count": 12,
   "metadata": {},
   "outputs": [
    {
     "name": "stdout",
     "output_type": "stream",
     "text": [
      "42\n",
      "{'a': 42}\n"
     ]
    }
   ],
   "source": [
    "class Contenedor:\n",
    "    def __init__(self):\n",
    "        self._datos = {}\n",
    "\n",
    "    def __getitem__(self, clave):\n",
    "        return self._datos[clave]\n",
    "\n",
    "    def __setitem__(self, clave, valor):\n",
    "        self._datos[clave] = valor\n",
    "\n",
    "    def __repr__(self):\n",
    "        return repr(self._datos)\n",
    "\n",
    "contenedor = Contenedor()\n",
    "contenedor['a'] = 42  # Llama a __setitem__\n",
    "print(contenedor['a']) # Llama a __getitem__, imprime: 42\n",
    "print(contenedor)      # Imprime: {'a': 42}\n"
   ]
  },
  {
   "cell_type": "code",
   "execution_count": 15,
   "metadata": {},
   "outputs": [
    {
     "data": {
      "text/plain": [
       "\"{'a': 42}\""
      ]
     },
     "execution_count": 15,
     "metadata": {},
     "output_type": "execute_result"
    }
   ],
   "source": [
    "repr(contenedor._datos)"
   ]
  },
  {
   "cell_type": "code",
   "execution_count": 14,
   "metadata": {},
   "outputs": [
    {
     "data": {
      "text/plain": [
       "{'a': 42}"
      ]
     },
     "execution_count": 14,
     "metadata": {},
     "output_type": "execute_result"
    }
   ],
   "source": [
    "eval(repr(contenedor))"
   ]
  },
  {
   "attachments": {},
   "cell_type": "markdown",
   "metadata": {},
   "source": [
    "El método especial `__call__` permite que una instancia de una clase sea \"llamable\", es decir, se pueda invocar como una función. Esto puede ser útil para crear objetos que se comporten como funciones, pero que también puedan mantener un estado interno o tener métodos adicionales."
   ]
  },
  {
   "cell_type": "code",
   "execution_count": 16,
   "metadata": {},
   "outputs": [
    {
     "name": "stdout",
     "output_type": "stream",
     "text": [
      "1\n",
      "6\n",
      "1\n"
     ]
    }
   ],
   "source": [
    "class Contador:\n",
    "    def __init__(self):\n",
    "        self._cuenta = 0\n",
    "\n",
    "    def __call__(self, incremento=1):\n",
    "        self._cuenta += incremento\n",
    "        return self._cuenta\n",
    "\n",
    "    def reset(self):\n",
    "        self._cuenta = 0\n",
    "\n",
    "contador = Contador()\n",
    "print(contador())        # Llama a __call__ sin argumentos, imprime: 1\n",
    "print(contador(5))       # Llama a __call__ con incremento=5, imprime: 6\n",
    "contador.reset()         # Llama al método reset para reiniciar el contador\n",
    "print(contador())        # Llama a __call__ de nuevo, imprime: 1\n"
   ]
  },
  {
   "attachments": {},
   "cell_type": "markdown",
   "metadata": {},
   "source": [
    "El método especial `__del__` se llama cuando una instancia de una clase está a punto de ser destruida. Es el destructor de la clase y se puede utilizar para limpiar recursos o realizar otras tareas de finalización.\n",
    "\n",
    "Es importante tener en cuenta que no se garantiza que `__del__` sea llamado inmediatamente después de que un objeto ya no sea necesario; depende del recolector de basura de Python. Además, no se debe confiar en `__del__` para cerrar recursos importantes como archivos o conexiones de red; para eso, es mejor utilizar un administrador de contexto (como la declaración `with`)."
   ]
  },
  {
   "cell_type": "code",
   "execution_count": 17,
   "metadata": {},
   "outputs": [
    {
     "name": "stdout",
     "output_type": "stream",
     "text": [
      "Objeto 1 ha sido creado.\n",
      "Objeto 2 ha sido creado.\n",
      "Objeto 1 está siendo destruido.\n"
     ]
    }
   ],
   "source": [
    "class MiClase:\n",
    "    def __init__(self, nombre):\n",
    "        self.nombre = nombre\n",
    "        print(f\"{self.nombre} ha sido creado.\")\n",
    "\n",
    "    def __del__(self):\n",
    "        print(f\"{self.nombre} está siendo destruido.\")\n",
    "\n",
    "obj1 = MiClase(\"Objeto 1\")\n",
    "obj2 = MiClase(\"Objeto 2\")\n",
    "\n",
    "# Eliminando explícitamente obj1\n",
    "del obj1\n",
    "\n",
    "# Al finalizar el programa, se llamará al destructor de obj2\n"
   ]
  },
  {
   "attachments": {},
   "cell_type": "markdown",
   "metadata": {},
   "source": [
    "Cuando el programa termine, también verás el mensaje *\"Objeto 2 está siendo destruido.\"*, ya que el recolector de basura de Python destruirá el objeto antes de que finalice el programa.\n",
    "\n",
    "La utilidad de `__del__` a menudo es limitada, y su uso incorrecto puede llevar a problemas, especialmente en programas complejos. En muchos casos, es mejor utilizar un método de limpieza explícito o un administrador de contexto en lugar de depender del destructor."
   ]
  },
  {
   "attachments": {},
   "cell_type": "markdown",
   "metadata": {},
   "source": [
    "# Tipos de Métodos y Atributos"
   ]
  },
  {
   "attachments": {},
   "cell_type": "markdown",
   "metadata": {},
   "source": [
    "Métodos\n",
    "\n",
    "Métodos de Instancia:\n",
    "\n",
    "+ Actúan sobre una instancia de la clase (un objeto).\n",
    "+ Tienen acceso a atributos de la instancia y de la clase.\n",
    "+ El primer argumento es self, que es una referencia a la instancia actual.\n",
    "\n",
    "Métodos de Clase:\n",
    "\n",
    "+ Actúan sobre la clase en sí misma, no sobre instancias.\n",
    "+ Tienen acceso a atributos de la clase, pero no a atributos de la instancia.\n",
    "+ Definidos usando el decorador `@classmethod`.\n",
    "+ El primer argumento es cls, que es una referencia a la clase.\n",
    "\n",
    "Métodos Estáticos:\n",
    "\n",
    "+ No actúan ni sobre la clase ni sobre las instancias.\n",
    "+ No tienen acceso a atributos de la clase o de la instancia.\n",
    "+ Definidos usando el decorador `@staticmethod`.\n",
    "+ Utilizados cuando un método está lógicamente contenido en una clase pero no necesita acceder a la clase o sus instancias.\n",
    "\n",
    "Atributos\n",
    "\n",
    "Atributos de Instancia:\n",
    "\n",
    "+ Son específicos de cada instancia (objeto) de la clase.\n",
    "+ Definidos dentro de los métodos de instancia, generalmente en `__init__`.\n",
    "+ Ejemplo: self.nombre = \"Alice\".\n",
    "\n",
    "Atributos de Clase:\n",
    "\n",
    "+ Son compartidos por todas las instancias de la clase.\n",
    "+ Definidos dentro de la clase, pero fuera de los métodos.\n",
    "+ Ejemplo: atributo_clase = 42.\n",
    "\n",
    "Atributos de Sólo Lectura:\n",
    "\n",
    "+ A menudo definidos usando el decorador `@property`.\n",
    "+ Permiten que un método sea accedido como un atributo, pero no puede ser modificado directamente.\n",
    "\n",
    "Atributos Privados:\n",
    "\n",
    "+ Nombrados con un guión bajo al principio (por ejemplo, _atributo_privado).\n",
    "+ No son realmente privados en Python, pero la convención indica que no deben ser accedidos directamente fuera de la clase.\n",
    "+ Pueden ser utilizados para encapsular detalles de implementación.\n",
    "\n",
    "Métodos Especiales\n",
    "\n",
    "Además de los tipos anteriores, hay métodos especiales que permiten definir comportamientos personalizados para operaciones comunes en Python, como la representación de cadena (`__str__` y `__repr__`), la llamada a la instancia como una función (`__call__`), la comparación de objetos (`__eq__`, `__lt__`, etc.), y muchos más."
   ]
  },
  {
   "attachments": {},
   "cell_type": "markdown",
   "metadata": {},
   "source": [
    "# Decoradores\n",
    "\n",
    "Los decoradores en Python son una poderosa y flexible característica que permite modificar o extender el comportamiento de funciones o métodos. Un decorador es una función de orden superior que toma una función (o un método) y devuelve otra función, posiblemente con un comportamiento alterado.\n",
    "\n",
    "Uso Básico de Decoradores"
   ]
  },
  {
   "cell_type": "code",
   "execution_count": 20,
   "metadata": {},
   "outputs": [
    {
     "name": "stdout",
     "output_type": "stream",
     "text": [
      "Algo está ocurriendo antes de llamar a la función.\n",
      "¡Hola!\n",
      "Algo está ocurriendo después de llamar a la función.\n"
     ]
    }
   ],
   "source": [
    "def mi_decorador(func):\n",
    "    def wrapper():\n",
    "        print(\"Algo está ocurriendo antes de llamar a la función.\")\n",
    "        func()\n",
    "        print(\"Algo está ocurriendo después de llamar a la función.\")\n",
    "    return wrapper\n",
    "\n",
    "@mi_decorador\n",
    "def decir_hola():\n",
    "    print(\"¡Hola!\")\n",
    "\n",
    "decir_hola()\n"
   ]
  },
  {
   "attachments": {},
   "cell_type": "markdown",
   "metadata": {},
   "source": [
    "Decoradores con Argumentos\n",
    "\n",
    "Los decoradores también pueden aceptar argumentos, lo que permite un comportamiento más personalizado. Aquí hay un ejemplo de un decorador que repite la ejecución de una función un número específico de veces:"
   ]
  },
  {
   "cell_type": "code",
   "execution_count": 21,
   "metadata": {},
   "outputs": [
    {
     "name": "stdout",
     "output_type": "stream",
     "text": [
      "¡Repetido!\n",
      "¡Repetido!\n",
      "¡Repetido!\n"
     ]
    }
   ],
   "source": [
    "def repetir(n):\n",
    "    def decorador(func):\n",
    "        def wrapper(*args, **kwargs):\n",
    "            for _ in range(n):\n",
    "                resultado = func(*args, **kwargs)\n",
    "            return resultado\n",
    "        return wrapper\n",
    "    return decorador\n",
    "\n",
    "@repetir(3)\n",
    "def decir_mensaje(mensaje):\n",
    "    print(mensaje)\n",
    "\n",
    "decir_mensaje(\"¡Repetido!\")\n"
   ]
  },
  {
   "attachments": {},
   "cell_type": "markdown",
   "metadata": {},
   "source": [
    "Decoradores en la Biblioteca Estándar\n",
    "\n",
    "Python incluye muchos decoradores en su biblioteca estándar, como:\n",
    "\n",
    "+ `@staticmethod`: Para definir un método estático en una clase.\n",
    "+ `@classmethod`: Para definir un método de clase en una clase.\n",
    "+ `@property`: Para definir métodos que se pueden acceder como atributos.\n",
    "+ `@functools.lru_cache`: Para memorizar el resultado de una función."
   ]
  },
  {
   "attachments": {},
   "cell_type": "markdown",
   "metadata": {},
   "source": [
    "Conservar Metadatos de la Función Decorada\n",
    "\n",
    "Cuando se decora una función, la función original es reemplazada por la función wrapper definida en el decorador. Esto puede llevar a la pérdida de metadatos, como el nombre y la documentación de la función original. El módulo `functools` proporciona el decorador `@functools.wraps`, que se puede usar para preservar estos metadatos:"
   ]
  },
  {
   "cell_type": "code",
   "execution_count": 22,
   "metadata": {},
   "outputs": [],
   "source": [
    "import functools\n",
    "\n",
    "def mi_decorador(func):\n",
    "    @functools.wraps(func)\n",
    "    def wrapper(*args, **kwargs):\n",
    "        # ...\n",
    "        return func(*args, **kwargs)\n",
    "    return wrapper\n"
   ]
  },
  {
   "attachments": {},
   "cell_type": "markdown",
   "metadata": {},
   "source": [
    "## Decoradores OOP\n",
    "\n",
    "En la programación orientada a objetos (OOP) en Python, hay varios decoradores que se utilizan comúnmente para modificar o extender el comportamiento de métodos y clases. Aquí hay una descripción de algunos de los más importantes:\n"
   ]
  },
  {
   "attachments": {},
   "cell_type": "markdown",
   "metadata": {},
   "source": [
    "\n",
    "1. @staticmethod\n",
    "Este decorador se utiliza para definir un método estático dentro de una clase. Un método estático no recibe ningún argumento especial como referencia a la instancia (self) o la clase (cls), y puede ser llamado directamente en la clase en lugar de en una instancia de la clase."
   ]
  },
  {
   "cell_type": "code",
   "execution_count": 23,
   "metadata": {},
   "outputs": [],
   "source": [
    "class MiClase:\n",
    "    @staticmethod\n",
    "    def mi_metodo_estatico(x, y):\n",
    "        return x + y\n",
    "\n",
    "resultado = MiClase.mi_metodo_estatico(3, 4)  # 7\n"
   ]
  },
  {
   "attachments": {},
   "cell_type": "markdown",
   "metadata": {},
   "source": [
    "2. @classmethod\n",
    "Este decorador se utiliza para definir un método de clase. Un método de clase toma una referencia a la clase (`cls`) como su primer argumento, en lugar de una referencia a la instancia (`self`). Es útil para métodos que afectan a la clase en su totalidad, en lugar de a una instancia específica."
   ]
  },
  {
   "cell_type": "code",
   "execution_count": 24,
   "metadata": {},
   "outputs": [
    {
     "name": "stdout",
     "output_type": "stream",
     "text": [
      "5\n"
     ]
    }
   ],
   "source": [
    "class MiClase:\n",
    "    atributo_clase = 0\n",
    "\n",
    "    @classmethod\n",
    "    def incrementar(cls, valor):\n",
    "        cls.atributo_clase += valor\n",
    "\n",
    "MiClase.incrementar(5)\n",
    "print(MiClase.atributo_clase)  # 5\n"
   ]
  },
  {
   "attachments": {},
   "cell_type": "markdown",
   "metadata": {},
   "source": [
    "3. @property\n",
    "Este decorador permite que los métodos de una clase se accedan como atributos, sin necesidad de llamarlos como una función. Es útil para definir atributos que se calculan a partir de otros atributos, sin tener que modificar la forma en que se accede a ellos."
   ]
  },
  {
   "cell_type": "code",
   "execution_count": 26,
   "metadata": {},
   "outputs": [
    {
     "name": "stdout",
     "output_type": "stream",
     "text": [
      "5\n",
      "10\n"
     ]
    }
   ],
   "source": [
    "class Circulo:\n",
    "    def __init__(self, radio):\n",
    "        self._radio = radio\n",
    "\n",
    "    @property\n",
    "    def radio(self):\n",
    "        return self._radio\n",
    "\n",
    "    @property\n",
    "    def diametro(self):\n",
    "        return self._radio * 2\n",
    "\n",
    "circulo = Circulo(5)\n",
    "print(circulo.radio) # 5\n",
    "print(circulo.diametro)  # 10\n"
   ]
  },
  {
   "attachments": {},
   "cell_type": "markdown",
   "metadata": {},
   "source": [
    "4. @atributo.setter\n",
    "\n",
    "Este decorador se utiliza junto con @property para definir un método que actúa como \"setter\" para un atributo. Permite controlar cómo se modifica un atributo."
   ]
  },
  {
   "cell_type": "code",
   "execution_count": 29,
   "metadata": {},
   "outputs": [
    {
     "name": "stdout",
     "output_type": "stream",
     "text": [
      "5\n",
      "10\n",
      "7\n",
      "14\n"
     ]
    }
   ],
   "source": [
    "class Circulo:\n",
    "    def __init__(self, radio):\n",
    "        self._radio = radio\n",
    "\n",
    "    @property\n",
    "    def radio(self):\n",
    "        return self._radio\n",
    "\n",
    "    @property\n",
    "    def diametro(self):\n",
    "        return self._radio * 2\n",
    "\n",
    "    @radio.setter\n",
    "    def radio(self, valor):\n",
    "        if valor < 0:\n",
    "            raise ValueError(\"El radio no puede ser negativo\")\n",
    "        self._radio = valor\n",
    "        \n",
    "circulo = Circulo(5)\n",
    "print(circulo.radio) # 5\n",
    "print(circulo.diametro)  # 10\n",
    "circulo.radio = 7\n",
    "print(circulo.radio) # 7\n",
    "print(circulo.diametro)  # 14"
   ]
  },
  {
   "attachments": {},
   "cell_type": "markdown",
   "metadata": {},
   "source": [
    "# Generadores\n",
    "\n",
    "Los generadores en Python son una forma elegante y eficiente de iterar sobre grandes secuencias de datos sin cargar toda la secuencia en la memoria a la vez. Un generador es un tipo especial de iterador que permite generar valores sobre la marcha utilizando la palabra clave `yield`."
   ]
  },
  {
   "attachments": {},
   "cell_type": "markdown",
   "metadata": {},
   "source": [
    "1. Funciones Generadoras\n",
    "\n",
    "Una función generadora es una función que contiene una o más declaraciones `yield`. Cuando se llama a una función generadora, no se ejecuta de inmediato; en su lugar, devuelve un objeto generador que controla la ejecución de la función."
   ]
  },
  {
   "cell_type": "code",
   "execution_count": 30,
   "metadata": {},
   "outputs": [
    {
     "name": "stdout",
     "output_type": "stream",
     "text": [
      "1\n",
      "2\n",
      "3\n",
      "4\n",
      "5\n"
     ]
    }
   ],
   "source": [
    "def contar_hasta(n):\n",
    "    i = 1\n",
    "    while i <= n:\n",
    "        yield i\n",
    "        i += 1\n",
    "\n",
    "contador = contar_hasta(5)\n",
    "for numero in contador:\n",
    "    print(numero)  # Imprime los números del 1 al 5\n"
   ]
  },
  {
   "attachments": {},
   "cell_type": "markdown",
   "metadata": {},
   "source": [
    "2. Uso de `yield`\n",
    "\n",
    "La declaración `yield` pausa la ejecución de la función y devuelve un valor al llamador. Cuando se reanuda la iteración, la ejecución se reanuda justo después de la declaración `yield`."
   ]
  },
  {
   "attachments": {},
   "cell_type": "markdown",
   "metadata": {},
   "source": [
    "3. Generadores de Expresiones\n",
    "\n",
    "Además de las funciones generadoras, también puedes crear generadores utilizando expresiones generadoras, que tienen una sintaxis similar a las comprensiones de listas."
   ]
  },
  {
   "cell_type": "code",
   "execution_count": 31,
   "metadata": {},
   "outputs": [
    {
     "name": "stdout",
     "output_type": "stream",
     "text": [
      "0\n",
      "1\n",
      "4\n",
      "9\n",
      "16\n",
      "25\n",
      "36\n",
      "49\n",
      "64\n",
      "81\n"
     ]
    }
   ],
   "source": [
    "cuadrados = (x**2 for x in range(10))\n",
    "for cuadrado in cuadrados:\n",
    "    print(cuadrado)  # Imprime los cuadrados de los números del 0 al 9\n"
   ]
  },
  {
   "attachments": {},
   "cell_type": "markdown",
   "metadata": {},
   "source": [
    "4. Ventajas de los Generadores\n",
    "\n",
    "+ Eficiencia de Memoria: Los generadores son útiles cuando estás trabajando con grandes cantidades de datos, ya que no necesitas cargar toda la secuencia en la memoria.\n",
    "+ Pereza: Los generadores son \"perezosos\", lo que significa que generan valores sobre la marcha y solo calculan el siguiente valor cuando se les pide.\n",
    "+ Composición: Puedes encadenar generadores juntos para crear tuberías de procesamiento de datos eficientes.\n"
   ]
  },
  {
   "attachments": {},
   "cell_type": "markdown",
   "metadata": {},
   "source": [
    "\n",
    "5. Limitaciones\n",
    "\n",
    "Los generadores solo pueden ser iterados una vez. Una vez que se agotan, no puedes reiniciarlos o reutilizarlos.\n",
    "No puedes acceder a los valores de un generador por índice o utilizar métodos de lista como `len()`.\n"
   ]
  },
  {
   "attachments": {},
   "cell_type": "markdown",
   "metadata": {},
   "source": [
    "\n",
    "6. Generadores en la Biblioteca Estándar\n",
    "\n",
    "Python incluye muchas funciones en su biblioteca estándar que retornan generadores, como `range()`, `zip()`, `map()`, `filter()`, y muchas más en el módulo `itertools`.\n",
    "\n",
    "En resumen, los generadores son una característica poderosa y versátil de Python que facilita el trabajo con secuencias grandes o infinitas de manera eficiente y legible."
   ]
  },
  {
   "attachments": {},
   "cell_type": "markdown",
   "metadata": {},
   "source": [
    "# Administradores de Contexto\n",
    "\n",
    "Los administradores de contexto en Python son una forma poderosa y flexible de gestionar recursos, como archivos, conexiones de red, y otros recursos que requieren una inicialización y una limpieza adecuadas. Los administradores de contexto se utilizan con la declaración with, y simplifican la gestión de recursos al asegurar que se liberen correctamente, incluso si ocurre una excepción.\n",
    "\n",
    "1. Uso de Administradores de Contexto\n",
    "\n",
    "El uso más común de los administradores de contexto es la lectura y escritura de archivos:"
   ]
  },
  {
   "attachments": {},
   "cell_type": "markdown",
   "metadata": {},
   "source": [
    "```\n",
    "with open('archivo.txt', 'r') as file:\n",
    "    contenido = file.read()\n",
    "    # Procesar el contenido del archivo\n",
    "\n",
    "# Aquí, el archivo ya está cerrado, incluso si ocurrió una excepción\n",
    "```\n"
   ]
  },
  {
   "attachments": {},
   "cell_type": "markdown",
   "metadata": {},
   "source": [
    "2. Crear un Administrador de Contexto Personalizado\n",
    "\n",
    "Puedes crear tu propio administrador de contexto definiendo una clase con los métodos `__enter__` y `__exit__`:\n",
    "\n",
    "`__enter__(self)`: Se llama al entrar en el bloque with. Puedes devolver un objeto que se utilizará dentro del bloque.\n",
    "\n",
    "`__exit__(self, exc_type, exc_value, traceback)`: Se llama al salir del bloque with, ya sea que haya terminado con éxito o haya ocurrido una excepción."
   ]
  },
  {
   "cell_type": "code",
   "execution_count": 18,
   "metadata": {},
   "outputs": [
    {
     "name": "stdout",
     "output_type": "stream",
     "text": [
      "Entrando en el contexto\n",
      "Dentro del bloque with\n",
      "Valor de retorno de __enter__: Valor de retorno de __enter__\n",
      "Saliendo del contexto\n"
     ]
    }
   ],
   "source": [
    "class MiAdministrador:\n",
    "    def __enter__(self):\n",
    "        print(\"Entrando en el contexto\")\n",
    "        return \"Valor de retorno de __enter__\"\n",
    "\n",
    "    def __exit__(self, exc_type, exc_value, traceback):\n",
    "        print(\"Saliendo del contexto\")\n",
    "        # Si retorna True, suprime la excepción, si hay alguna\n",
    "        return False\n",
    "\n",
    "with MiAdministrador() as valor:\n",
    "    print(\"Dentro del bloque with\")\n",
    "    print(\"Valor de retorno de __enter__:\", valor)\n",
    "\n",
    "# Salida:\n",
    "# Entrando en el contexto\n",
    "# Dentro del bloque with\n",
    "# Valor de retorno de __enter__: Valor de retorno de __enter__\n",
    "# Saliendo del contexto\n"
   ]
  },
  {
   "attachments": {},
   "cell_type": "markdown",
   "metadata": {},
   "source": [
    "3. `contextlib`\n",
    "\n",
    "El módulo `contextlib` en la biblioteca estándar de Python proporciona utilidades para trabajar con administradores de contexto, como el decorador `@contextmanager`, que permite escribir administradores de contexto usando generadores."
   ]
  },
  {
   "cell_type": "code",
   "execution_count": 19,
   "metadata": {},
   "outputs": [
    {
     "name": "stdout",
     "output_type": "stream",
     "text": [
      "Entrando en el contexto\n",
      "Dentro del bloque with\n",
      "Valor desde el generador: Valor desde el generador\n",
      "Saliendo del contexto\n"
     ]
    }
   ],
   "source": [
    "from contextlib import contextmanager\n",
    "\n",
    "@contextmanager\n",
    "def mi_administrador():\n",
    "    print(\"Entrando en el contexto\")\n",
    "    yield \"Valor desde el generador\"\n",
    "    print(\"Saliendo del contexto\")\n",
    "\n",
    "with mi_administrador() as valor:\n",
    "    print(\"Dentro del bloque with\")\n",
    "    print(\"Valor desde el generador:\", valor)\n"
   ]
  },
  {
   "attachments": {},
   "cell_type": "markdown",
   "metadata": {},
   "source": [
    "Los administradores de contexto hacen que el código sea más limpio y robusto, especialmente cuando se trabaja con recursos que requieren una gestión cuidadosa. Además, ayudan a garantizar que los recursos se liberen de manera oportuna y confiable, lo cual es vital en muchas aplicaciones."
   ]
  },
  {
   "attachments": {},
   "cell_type": "markdown",
   "metadata": {},
   "source": [
    "# Avanzado\n",
    "\n",
    "## Polimorfismo\n",
    "\n",
    "El polimorfismo es un concepto fundamental en la programación orientada a objetos (OOP) que se refiere a la capacidad de una variable, función o método de trabajar con múltiples tipos de datos. En Python, el polimorfismo se manifiesta de varias maneras, aprovechando la naturaleza dinámica y tipada de forma débil del lenguaje. "
   ]
  },
  {
   "attachments": {},
   "cell_type": "markdown",
   "metadata": {},
   "source": [
    "1. Polimorfismo con Funciones y Objetos\n",
    "\n",
    "En Python, una función puede aceptar cualquier objeto que tenga los métodos y atributos requeridos, sin importar su clase. Esto permite escribir funciones que pueden trabajar con diferentes tipos de datos."
   ]
  },
  {
   "cell_type": "code",
   "execution_count": 36,
   "metadata": {},
   "outputs": [
    {
     "name": "stdout",
     "output_type": "stream",
     "text": [
      "¡Guau!\n",
      "¡Miau!\n"
     ]
    }
   ],
   "source": [
    "def describir_animal(animal):\n",
    "    print(animal.sonido())\n",
    "\n",
    "class Perro:\n",
    "    def sonido(self):\n",
    "        return \"¡Guau!\"\n",
    "\n",
    "class Gato:\n",
    "    def sonido(self):\n",
    "        return \"¡Miau!\"\n",
    "\n",
    "perro = Perro()\n",
    "gato = Gato()\n",
    "\n",
    "describir_animal(perro)  # Salida: ¡Guau!\n",
    "describir_animal(gato)  # Salida: ¡Miau!\n"
   ]
  },
  {
   "attachments": {},
   "cell_type": "markdown",
   "metadata": {},
   "source": [
    "2. Polimorfismo en la Herencia\n",
    "\n",
    "El polimorfismo también se relaciona con la herencia, donde una clase derivada puede sobrescribir o extender métodos de su clase base. Esto significa que puedes utilizar objetos de la clase derivada donde se espera un objeto de la clase base y obtener el comportamiento específico de la clase derivada."
   ]
  },
  {
   "cell_type": "code",
   "execution_count": 37,
   "metadata": {},
   "outputs": [
    {
     "name": "stdout",
     "output_type": "stream",
     "text": [
      "La mayoría de las aves pueden volar.\n",
      "Los pingüinos no pueden volar.\n"
     ]
    }
   ],
   "source": [
    "class Ave:\n",
    "    def volar(self):\n",
    "        return \"La mayoría de las aves pueden volar.\"\n",
    "\n",
    "class Pingüino(Ave):\n",
    "    def volar(self):\n",
    "        return \"Los pingüinos no pueden volar.\"\n",
    "\n",
    "ave = Ave()\n",
    "pinguino = Pingüino()\n",
    "\n",
    "print(ave.volar())       # Salida: La mayoría de las aves pueden volar.\n",
    "print(pinguino.volar())  # Salida: Los pingüinos no pueden volar.\n"
   ]
  },
  {
   "attachments": {},
   "cell_type": "markdown",
   "metadata": {},
   "source": [
    "3. Polimorfismo con Métodos Especiales\n",
    "\n",
    "Python también utiliza el polimorfismo en sus métodos especiales, como `__add__`, `__len__`, etc. Esto permite a las clases definir su propio comportamiento para operaciones integradas como la suma y la longitud."
   ]
  },
  {
   "cell_type": "code",
   "execution_count": 38,
   "metadata": {},
   "outputs": [],
   "source": [
    "class Vector:\n",
    "    def __init__(self, x, y):\n",
    "        self.x = x\n",
    "        self.y = y\n",
    "\n",
    "    def __add__(self, otro):\n",
    "        return Vector(self.x + otro.x, self.y + otro.y)\n",
    "\n",
    "v1 = Vector(2, 3)\n",
    "v2 = Vector(3, 4)\n",
    "v3 = v1 + v2  # Utiliza el método __add__ de la clase Vector\n"
   ]
  },
  {
   "attachments": {},
   "cell_type": "markdown",
   "metadata": {},
   "source": [
    "4. Polimorfismo de Duck Typing\n",
    "\n",
    "Python utiliza el principio de \"duck typing\", que significa que no verifica el tipo de objeto en tiempo de compilación. En su lugar, verifica si el objeto tiene los métodos y atributos necesarios durante la ejecución. Esto permite un alto grado de polimorfismo, ya que cualquier objeto que cumpla con la interfaz requerida puede ser utilizado.\n",
    "\n"
   ]
  },
  {
   "attachments": {},
   "cell_type": "markdown",
   "metadata": {},
   "source": [
    "## Herencia\n",
    "\n",
    "La herencia es uno de los cuatro pilares fundamentales de la programación orientada a objetos (OOP), junto con la encapsulación, la abstracción y el polimorfismo. En Python, la herencia permite a una clase heredar atributos y métodos de otra clase, permitiendo la reutilización de código y la construcción de relaciones jerárquicas entre clases.\n"
   ]
  },
  {
   "attachments": {},
   "cell_type": "markdown",
   "metadata": {},
   "source": [
    "\n",
    "\n",
    "Herencia Simple\n",
    "\n",
    "La herencia simple significa que una clase deriva de una sola clase base. La clase derivada hereda todos los atributos y métodos de la clase base."
   ]
  },
  {
   "cell_type": "code",
   "execution_count": 32,
   "metadata": {},
   "outputs": [
    {
     "name": "stdout",
     "output_type": "stream",
     "text": [
      "¡Guau!\n"
     ]
    }
   ],
   "source": [
    "class Animal:\n",
    "    def sonido(self):\n",
    "        return \"¡Hace un sonido!\"\n",
    "\n",
    "class Perro(Animal):\n",
    "    def sonido(self):\n",
    "        return \"¡Guau!\"\n",
    "\n",
    "perro = Perro()\n",
    "print(perro.sonido())  # Salida: ¡Guau!\n"
   ]
  },
  {
   "attachments": {},
   "cell_type": "markdown",
   "metadata": {},
   "source": [
    "Herencia Múltiple\n",
    "\n",
    "Python admite la herencia múltiple, donde una clase puede heredar de múltiples clases base."
   ]
  },
  {
   "cell_type": "code",
   "execution_count": 39,
   "metadata": {},
   "outputs": [
    {
     "name": "stdout",
     "output_type": "stream",
     "text": [
      "Soy Alice.\n",
      "Estoy estudiando para mis exámenes.\n",
      "Estoy enseñando a mis estudiantes.\n",
      "Estoy trabajando en mi proyecto de investigación.\n"
     ]
    }
   ],
   "source": [
    "class Persona:\n",
    "    def __init__(self, nombre):\n",
    "        self.nombre = nombre\n",
    "\n",
    "    def presentacion(self):\n",
    "        return f\"Soy {self.nombre}.\"\n",
    "\n",
    "class Estudiante(Persona):\n",
    "    def estudiar(self):\n",
    "        return \"Estoy estudiando para mis exámenes.\"\n",
    "\n",
    "class Profesor(Persona):\n",
    "    def ensenar(self):\n",
    "        return \"Estoy enseñando a mis estudiantes.\"\n",
    "\n",
    "class AsistenteDeInvestigacion(Estudiante, Profesor):\n",
    "    def investigar(self):\n",
    "        return \"Estoy trabajando en mi proyecto de investigación.\"\n",
    "\n",
    "asistente = AsistenteDeInvestigacion(\"Alice\")\n",
    "print(asistente.presentacion())             # Salida: Soy Alice.\n",
    "print(asistente.estudiar())                 # Salida: Estoy estudiando para mis exámenes.\n",
    "print(asistente.ensenar())                  # Salida: Estoy enseñando a mis estudiantes.\n",
    "print(asistente.investigar())               # Salida: Estoy trabajando en mi proyecto de investigación.\n",
    "\n"
   ]
  },
  {
   "attachments": {},
   "cell_type": "markdown",
   "metadata": {},
   "source": [
    "Nota sobre el Orden de Resolución de Métodos (MRO)\n",
    "\n",
    "La herencia múltiple puede llevar a situaciones en las que el orden en que se buscan los métodos y atributos no es claro. Python utiliza un algoritmo llamado C3 para determinar el orden de resolución de métodos (MRO). Puedes acceder al MRO de una clase utilizando el método `.__mro__` o la función `mro()`:"
   ]
  },
  {
   "cell_type": "code",
   "execution_count": 40,
   "metadata": {},
   "outputs": [
    {
     "name": "stdout",
     "output_type": "stream",
     "text": [
      "[<class '__main__.AsistenteDeInvestigacion'>, <class '__main__.Estudiante'>, <class '__main__.Profesor'>, <class '__main__.Persona'>, <class 'object'>]\n"
     ]
    }
   ],
   "source": [
    "print(AsistenteDeInvestigacion.mro())\n"
   ]
  },
  {
   "attachments": {},
   "cell_type": "markdown",
   "metadata": {},
   "source": [
    "Sobrescritura de Métodos\n",
    "\n",
    "La clase derivada puede modificar un método heredado proporcionando una nueva implementación. Esto se llama sobrescritura de métodos.\n"
   ]
  },
  {
   "attachments": {},
   "cell_type": "markdown",
   "metadata": {},
   "source": [
    "\n",
    "Función `super()`\n",
    "\n",
    "La función `super()` se utiliza en la herencia para llamar a métodos en la clase base que han sido sobrescritos en la clase derivada. Es comúnmente utilizada en el método `__init__` para asegurar que la inicialización de la clase base se realice correctamente."
   ]
  },
  {
   "cell_type": "code",
   "execution_count": 34,
   "metadata": {},
   "outputs": [],
   "source": [
    "class Persona:\n",
    "    def __init__(self, nombre):\n",
    "        self.nombre = nombre\n",
    "\n",
    "class Empleado(Persona):\n",
    "    def __init__(self, nombre, salario):\n",
    "        super().__init__(nombre)\n",
    "        self.salario = salario\n"
   ]
  },
  {
   "attachments": {},
   "cell_type": "markdown",
   "metadata": {},
   "source": [
    "Herencia de Clases Abstractas\n",
    "\n",
    "Una clase abstracta es una clase que no puede ser instanciada por sí misma y debe ser subclasificada por otra clase. Se define utilizando el módulo `abc`."
   ]
  },
  {
   "cell_type": "code",
   "execution_count": 35,
   "metadata": {},
   "outputs": [],
   "source": [
    "from abc import ABC, abstractmethod\n",
    "\n",
    "class Figura(ABC):\n",
    "    @abstractmethod\n",
    "    def area(self):\n",
    "        pass\n",
    "\n",
    "class Circulo(Figura):\n",
    "    def __init__(self, radio):\n",
    "        self.radio = radio\n",
    "\n",
    "    def area(self):\n",
    "        return 3.14 * self.radio ** 2\n"
   ]
  },
  {
   "attachments": {},
   "cell_type": "markdown",
   "metadata": {},
   "source": [
    "Aunque Python es débilmente tipado, puedes definir interfaces y clases base abstractas para imponer que las clases derivadas implementen ciertos métodos."
   ]
  },
  {
   "attachments": {},
   "cell_type": "markdown",
   "metadata": {},
   "source": [
    "Polimorfismo\n",
    "\n",
    "El polimorfismo en la herencia se refiere a la capacidad de utilizar diferentes clases derivadas de manera intercambiable. Si varias clases derivadas implementan el mismo método, puedes utilizar objetos de esas clases de manera intercambiable y esperar que el método se comporte de manera consistente.\n"
   ]
  },
  {
   "attachments": {},
   "cell_type": "markdown",
   "metadata": {},
   "source": [
    "Mixins\n",
    "\n",
    "En la herencia múltiple, una clase mixin es una clase base que proporciona un aspecto o funcionalidad específicos pero no está destinada a ser instanciada por sí misma. Se utiliza para componer funcionalidades en clases derivadas.  \n",
    "\n",
    "Un mixin es una clase que contiene métodos para ser utilizados por otras clases sin tener que ser su clase padre. Los mixins proporcionan una forma de componer clases en piezas reutilizables y bien definidas.\n",
    "\n"
   ]
  },
  {
   "cell_type": "code",
   "execution_count": null,
   "metadata": {},
   "outputs": [],
   "source": [
    "class CapacidadDeVolar:\n",
    "    def volar(self):\n",
    "        return \"Estoy volando!\"\n",
    "\n",
    "class Avion(CapacidadDeVolar):\n",
    "    pass\n",
    "\n",
    "class Helicoptero(CapacidadDeVolar):\n",
    "    pass\n",
    "\n",
    "avion = Avion()\n",
    "print(avion.volar())  # Salida: Estoy volando!\n",
    "\n",
    "helicoptero = Helicoptero()\n",
    "print(helicoptero.volar())  # Salida: Estoy volando!\n"
   ]
  },
  {
   "attachments": {},
   "cell_type": "markdown",
   "metadata": {},
   "source": [
    "Composición\n",
    "\n",
    "En lugar de heredar de una clase, a veces es más apropiado incluir una instancia de esa clase como un atributo. Esto se llama composición y es una poderosa alternativa a la herencia en muchos casos."
   ]
  },
  {
   "cell_type": "code",
   "execution_count": 41,
   "metadata": {},
   "outputs": [
    {
     "name": "stdout",
     "output_type": "stream",
     "text": [
      "Toyota con Motor gasolina\n"
     ]
    }
   ],
   "source": [
    "class Motor:\n",
    "    def __init__(self, tipo):\n",
    "        self.tipo = tipo\n",
    "\n",
    "    def describir(self):\n",
    "        return f\"Motor {self.tipo}\"\n",
    "\n",
    "class Coche:\n",
    "    def __init__(self, marca, motor):\n",
    "        self.marca = marca\n",
    "        self.motor = motor\n",
    "\n",
    "    def describir(self):\n",
    "        return f\"{self.marca} con {self.motor.describir()}\"\n",
    "\n",
    "motor_gasolina = Motor(\"gasolina\")\n",
    "coche_familiar = Coche(\"Toyota\", motor_gasolina)\n",
    "\n",
    "print(coche_familiar.describir())  # Salida: Toyota con Motor gasolina\n"
   ]
  },
  {
   "attachments": {},
   "cell_type": "markdown",
   "metadata": {},
   "source": [
    "# Patrones de Diseño\n",
    "\n",
    "Los patrones de diseño son soluciones generales y reutilizables a problemas comunes en el diseño de software. No son plantillas o código listo para usar, sino más bien guías o esquemas para resolver problemas en diferentes situaciones. Los patrones de diseño pueden ayudar a mejorar la estructura, la eficiencia y la mantenibilidad del código.\n",
    "\n",
    "Los patrones de diseño se dividen generalmente en tres categorías principales:\n",
    "\n",
    "1. Patrones Creacionales\n",
    "\n",
    "Los patrones creacionales tratan con la inicialización y configuración de objetos. Estos patrones abstraen la creación de objetos, permitiendo que el sistema sea independiente de cómo los objetos están creados y representados.\n",
    "\n",
    "+ Singleton: Asegura que una clase tenga solo una instancia y proporciona un punto global de acceso a esa instancia.\n",
    "+ Factory Method: Define una interfaz para crear un objeto pero permite a las subclases alterar el tipo de objetos que se crearán.\n",
    "+ Abstract Factory: Proporciona una interfaz para crear familias de objetos relacionados sin especificar sus clases concretas.\n",
    "+ Builder: Permite construir un objeto complejo paso a paso.\n",
    "+ Prototype: Crea nuevos objetos copiando un objeto existente, conocido como prototipo.\n",
    "\n",
    "2. Patrones Estructurales\n",
    "\n",
    "Los patrones estructurales están preocupados por cómo las clases y los objetos se componen para formar estructuras más grandes. Simplifican la estructura al identificar relaciones simples y claras entre diferentes partes del sistema.\n",
    "\n",
    "+ Adapter: Permite que una interfaz existente funcione con otra interfaz incompatible.\n",
    "+ Bridge: Desacopla una abstracción de su implementación para que ambas puedan variar de forma independiente.\n",
    "+ Composite: Compone objetos en estructuras de árbol para representar jerarquías parte-todo.\n",
    "+ Decorator: Añade responsabilidades adicionales a un objeto de manera dinámica sin alterar su estructura.\n",
    "+ Proxy: Proporciona un sustituto o marcador de posición para controlar el acceso a otro objeto.\n",
    "+ Facade: Proporciona una interfaz unificada y simplificada a un conjunto de interfaces en un subsistema.\n",
    "\n",
    "3. Patrones de Comportamiento\n",
    "\n",
    "Los patrones de comportamiento se ocupan de la colaboración y responsabilidades entre objetos y clases. Estos patrones definen cómo deben comunicarse los objetos y cómo deben distribuirse las responsabilidades.\n",
    "\n",
    "+ Strategy: Define una familia de algoritmos y los hace intercambiables.\n",
    "+ Observer: Define una dependencia uno a muchos entre objetos para que cuando un objeto cambie de estado, todos sus dependientes sean notificados.\n",
    "+ Command: Encapsula una solicitud como un objeto, lo que permite parametrizar clientes con colas, solicitudes y operaciones.\n",
    "+ State: Permite a un objeto cambiar su comportamiento cuando su estado interno cambia.\n",
    "+ Memento: Captura y externaliza el estado interno de un objeto para que pueda restaurarse más tarde.\n",
    "+ Chain of Responsibility: Pasa una solicitud a lo largo de una cadena de manejadores.\n",
    "\n",
    "Conclusión\n",
    "\n",
    "Los patrones de diseño ofrecen soluciones probadas y comprobadas para problemas comunes de diseño de software. Ayudan a los desarrolladores a escribir código que sea flexible, escalable y mantenible. La comprensión y aplicación adecuada de los patrones de diseño puede mejorar significativamente la calidad del diseño y la implementación de un sistema.\n",
    "\n",
    "Es importante notar que los patrones de diseño no son una solución universal y deben ser utilizados en el contexto adecuado. La aplicación inapropiada de un patrón puede llevar a una mayor complejidad y problemas en el código."
   ]
  },
  {
   "attachments": {},
   "cell_type": "markdown",
   "metadata": {},
   "source": [
    "1. Singleton\n",
    "\n",
    "El patrón Singleton asegura que una clase tenga solo una instancia y proporciona un punto global de acceso a ella."
   ]
  },
  {
   "cell_type": "code",
   "execution_count": 42,
   "metadata": {},
   "outputs": [],
   "source": [
    "class Singleton:\n",
    "    _instance = None\n",
    "    \n",
    "    @classmethod\n",
    "    def instance(cls):\n",
    "        if cls._instance is None:\n",
    "            cls._instance = cls()\n",
    "        return cls._instance\n",
    "\n",
    "a = Singleton.instance()\n",
    "b = Singleton.instance()\n",
    "assert a is b  # Verdadero, ambas referencias apuntan a la misma instancia\n"
   ]
  },
  {
   "attachments": {},
   "cell_type": "markdown",
   "metadata": {},
   "source": [
    "2. Factory Method\n",
    "\n",
    "El patrón Factory Method proporciona una interfaz para crear un objeto en una superclase, pero permite a las subclases alterar el tipo de objetos que se crearán."
   ]
  },
  {
   "cell_type": "code",
   "execution_count": 43,
   "metadata": {},
   "outputs": [
    {
     "name": "stdout",
     "output_type": "stream",
     "text": [
      "Meow!\n"
     ]
    }
   ],
   "source": [
    "class Animal:\n",
    "    def speak(self):\n",
    "        pass\n",
    "\n",
    "class Dog(Animal):\n",
    "    def speak(self):\n",
    "        return \"Woof!\"\n",
    "\n",
    "class Cat(Animal):\n",
    "    def speak(self):\n",
    "        return \"Meow!\"\n",
    "\n",
    "def get_animal(animal=\"dog\"):\n",
    "    animals = dict(dog=Dog(), cat=Cat())\n",
    "    return animals[animal]\n",
    "\n",
    "animal = get_animal(\"cat\")\n",
    "print(animal.speak())  # Salida: Meow!\n"
   ]
  },
  {
   "attachments": {},
   "cell_type": "markdown",
   "metadata": {},
   "source": [
    "3. Observer\n",
    "\n",
    "El patrón Observer permite a un objeto notificar a otros objetos (observadores) cuando cambia su estado."
   ]
  },
  {
   "cell_type": "code",
   "execution_count": 44,
   "metadata": {},
   "outputs": [
    {
     "name": "stdout",
     "output_type": "stream",
     "text": [
      "Subject state changed\n"
     ]
    }
   ],
   "source": [
    "class Subject:\n",
    "    def __init__(self):\n",
    "        self._observers = []\n",
    "\n",
    "    def add_observer(self, observer):\n",
    "        self._observers.append(observer)\n",
    "\n",
    "    def notify(self):\n",
    "        for observer in self._observers:\n",
    "            observer.update(self)\n",
    "\n",
    "class Observer:\n",
    "    def update(self, subject):\n",
    "        print(\"Subject state changed\")\n",
    "\n",
    "subject = Subject()\n",
    "observer = Observer()\n",
    "subject.add_observer(observer)\n",
    "subject.notify()  # Salida: Subject state changed\n"
   ]
  },
  {
   "attachments": {},
   "cell_type": "markdown",
   "metadata": {},
   "source": [
    "4. Strategy\n",
    "\n",
    "El patrón Strategy define una familia de algoritmos y los hace intercambiables."
   ]
  },
  {
   "cell_type": "code",
   "execution_count": 45,
   "metadata": {},
   "outputs": [
    {
     "name": "stdout",
     "output_type": "stream",
     "text": [
      "5\n",
      "1\n"
     ]
    }
   ],
   "source": [
    "class AddStrategy:\n",
    "    def execute(self, a, b):\n",
    "        return a + b\n",
    "\n",
    "class SubtractStrategy:\n",
    "    def execute(self, a, b):\n",
    "        return a - b\n",
    "\n",
    "class Calculator:\n",
    "    def __init__(self, strategy):\n",
    "        self.strategy = strategy\n",
    "\n",
    "    def calculate(self, a, b):\n",
    "        return self.strategy.execute(a, b)\n",
    "\n",
    "calculator = Calculator(AddStrategy())\n",
    "print(calculator.calculate(3, 2))  # Salida: 5\n",
    "\n",
    "calculator.strategy = SubtractStrategy()\n",
    "print(calculator.calculate(3, 2))  # Salida: 1\n"
   ]
  },
  {
   "attachments": {},
   "cell_type": "markdown",
   "metadata": {},
   "source": [
    "# Excepciones y Manejo de Errores\n",
    "\n",
    "Las excepciones en la programación son eventos inesperados que ocurren durante la ejecución del programa y que alteran su flujo normal. Pueden surgir por diversos motivos, como errores en el código, problemas con los datos de entrada, fallos en la conexión a una base de datos, etc. El manejo de excepciones es un mecanismo que permite a los programas responder a estos eventos inesperados de manera controlada.\n",
    "\n",
    "En Python, el manejo de excepciones se lleva a cabo mediante bloques `try`, `except`, `else`, y `finally`.\n"
   ]
  },
  {
   "attachments": {},
   "cell_type": "markdown",
   "metadata": {},
   "source": [
    "\n",
    "Bloques `try` y `except`\n",
    "\n",
    "El bloque `try` contiene el código que podría generar una excepción, y el bloque `except` contiene el código que se ejecutará si se produce una excepción."
   ]
  },
  {
   "cell_type": "code",
   "execution_count": 46,
   "metadata": {},
   "outputs": [
    {
     "name": "stdout",
     "output_type": "stream",
     "text": [
      "No se puede dividir por cero.\n"
     ]
    }
   ],
   "source": [
    "try:\n",
    "    result = 10 / 0\n",
    "except ZeroDivisionError:\n",
    "    print(\"No se puede dividir por cero.\")\n"
   ]
  },
  {
   "attachments": {},
   "cell_type": "markdown",
   "metadata": {},
   "source": [
    "Puedes manejar diferentes tipos de excepciones usando múltiples bloques `except`:"
   ]
  },
  {
   "cell_type": "code",
   "execution_count": 50,
   "metadata": {},
   "outputs": [],
   "source": [
    "try:\n",
    "    # Código que podría generar una excepción\n",
    "    pass\n",
    "except TypeError:\n",
    "    # Manejo de excepción de tipo TypeError\n",
    "    pass\n",
    "except ValueError:\n",
    "    # Manejo de excepción de tipo ValueError\n",
    "    pass\n",
    "except Exception as e:\n",
    "    # Manejo de cualquier otra excepción, con acceso a la excepción a través de la variable e\n",
    "    pass\n"
   ]
  },
  {
   "attachments": {},
   "cell_type": "markdown",
   "metadata": {},
   "source": [
    "Bloque `else`\n",
    "\n",
    "El bloque `else` se ejecuta si el bloque `try` no genera ninguna excepción."
   ]
  },
  {
   "cell_type": "code",
   "execution_count": 51,
   "metadata": {},
   "outputs": [
    {
     "name": "stdout",
     "output_type": "stream",
     "text": [
      "División exitosa.\n"
     ]
    }
   ],
   "source": [
    "try:\n",
    "    result = 10 / 2\n",
    "except ZeroDivisionError:\n",
    "    print(\"No se puede dividir por cero.\")\n",
    "else:\n",
    "    print(\"División exitosa.\")\n"
   ]
  },
  {
   "attachments": {},
   "cell_type": "markdown",
   "metadata": {},
   "source": [
    "Bloque `finally`\n",
    "\n",
    "El bloque `finally` se ejecuta siempre, independientemente de si se produce una excepción o no. Es útil para la limpieza, como cerrar archivos o conexiones."
   ]
  },
  {
   "cell_type": "code",
   "execution_count": 52,
   "metadata": {},
   "outputs": [],
   "source": [
    "try:\n",
    "    # Código que podría generar una excepción\n",
    "    pass\n",
    "finally:\n",
    "    # Código que siempre se ejecutará\n",
    "    pass\n"
   ]
  },
  {
   "attachments": {},
   "cell_type": "markdown",
   "metadata": {},
   "source": [
    "Creación de Excepciones Personalizadas\n",
    "\n",
    "Puedes definir tus propias excepciones creando una clase que herede de la clase base `Exception`."
   ]
  },
  {
   "cell_type": "code",
   "execution_count": 53,
   "metadata": {},
   "outputs": [
    {
     "name": "stdout",
     "output_type": "stream",
     "text": [
      "Esto es una excepción personalizada.\n"
     ]
    }
   ],
   "source": [
    "class MiExcepcion(Exception):\n",
    "    pass\n",
    "\n",
    "try:\n",
    "    raise MiExcepcion(\"Esto es una excepción personalizada.\")\n",
    "except MiExcepcion as e:\n",
    "    print(str(e))  # Salida: Esto es una excepción personalizada.\n"
   ]
  },
  {
   "attachments": {},
   "cell_type": "markdown",
   "metadata": {},
   "source": [
    "En Python, las excepciones están organizadas en una jerarquía de clases, y hay muchas excepciones predefinidas que puedes utilizar en tu código. Aquí hay algunos tipos comunes de excepciones:\n",
    "\n",
    "Excepciones Integradas\n",
    "\n",
    "+ Exception: Clase base para todas las excepciones integradas (excepto SystemExit, KeyboardInterrupt, y GeneratorExit).\n",
    "+ ArithmeticError: Clase base para excepciones que ocurren por errores aritméticos.\n",
    "+ ZeroDivisionError: Se produce cuando se intenta dividir por cero.\n",
    "+ OverflowError: Se produce cuando el resultado de una operación aritmética es demasiado grande para ser representado.\n",
    "+ FloatingPointError: Se produce cuando se produce un error de punto flotante.\n",
    "+ LookupError: Clase base para errores de búsqueda en contenedores.\n",
    "+ IndexError: Se produce cuando se accede a un índice fuera de rango en una secuencia.\n",
    "+ KeyError: Se produce cuando se accede a una clave que no existe en un diccionario.\n",
    "+ FileNotFoundError: Se produce cuando se intenta abrir un archivo que no existe.\n",
    "+ PermissionError: Se produce cuando hay un error de permisos, como intentar abrir un archivo en modo de escritura sin los permisos necesarios.\n",
    "+ TypeError: Se produce cuando se realiza una operación o función en un tipo de objeto inapropiado.\n",
    "+ ValueError: Se produce cuando una función recibe un argumento con el tipo correcto pero un valor inapropiado.\n",
    "+ NameError: Se produce cuando se intenta acceder a una variable local o global que no está definida.\n",
    "+ UnboundLocalError: Subclase de NameError, se produce cuando una variable local se referencia antes de que se le haya asignado un valor.\n",
    "+ AttributeError: Se produce cuando se intenta acceder a un atributo o método que no existe en un objeto.\n",
    "+ SyntaxError: Se produce cuando hay un error en la sintaxis del código.\n",
    "+ RuntimeError: Clase base para excepciones que se producen durante la ejecución y no están clasificadas en ninguna de las categorías anteriores.\n",
    "+ ImportError: Se produce cuando una importación falla.\n",
    "+ ModuleNotFoundError: Subclase de ImportError, se produce cuando un módulo no se encuentra.\n",
    "\n",
    "Excepciones del Sistema\n",
    "\n",
    "+ SystemExit: Se produce cuando se llama a la función sys.exit().\n",
    "+ KeyboardInterrupt: Se produce cuando el usuario interrumpe la ejecución del programa (por lo general presionando Ctrl+C).\n",
    "+ GeneratorExit: Se produce cuando un generador o coroutine se cierra.\n",
    "\n",
    "Excepciones Personalizadas\n",
    "\n",
    "Además de las excepciones integradas, puedes definir tus propias excepciones creando clases que hereden de Exception o de alguna de sus subclases. Esto te permite manejar errores específicos de tu aplicación de manera más precisa.\n",
    "\n"
   ]
  },
  {
   "attachments": {},
   "cell_type": "markdown",
   "metadata": {},
   "source": [
    "La palabra clave `raise` en Python se utiliza para lanzar una excepción explícitamente. Puede ser útil en diversas situaciones, como cuando quieres forzar que se maneje una condición excepcional o cuando quieres proporcionar información de error más detallada.\n"
   ]
  },
  {
   "attachments": {},
   "cell_type": "markdown",
   "metadata": {},
   "source": [
    "\n",
    "Usos de `raise`\n",
    "\n",
    "Lanzar una Excepción Nueva: Puedes utilizar `raise` para lanzar una excepción de un tipo específico, proporcionando un mensaje de error opcional."
   ]
  },
  {
   "cell_type": "code",
   "execution_count": 54,
   "metadata": {},
   "outputs": [],
   "source": [
    "def divide(x, y):\n",
    "    if y == 0:\n",
    "        raise ZeroDivisionError(\"No se puede dividir por cero\")\n",
    "    return x / y\n"
   ]
  },
  {
   "attachments": {},
   "cell_type": "markdown",
   "metadata": {},
   "source": [
    "Volver a Lanzar una Excepción Capturada: Si capturas una excepción en un bloque `except`, puedes utilizar `raise` sin argumentos para volver a lanzar la misma excepción. Esto puede ser útil si quieres manejar parcialmente una excepción y luego pasarla a un nivel superior del código para un manejo adicional."
   ]
  },
  {
   "cell_type": "code",
   "execution_count": 57,
   "metadata": {},
   "outputs": [
    {
     "name": "stdout",
     "output_type": "stream",
     "text": [
      "Estoy en el except\n"
     ]
    },
    {
     "ename": "ZeroDivisionError",
     "evalue": "No se puede dividir por cero",
     "output_type": "error",
     "traceback": [
      "\u001b[1;31m---------------------------------------------------------------------------\u001b[0m",
      "\u001b[1;31mZeroDivisionError\u001b[0m                         Traceback (most recent call last)",
      "Cell \u001b[1;32mIn[57], line 2\u001b[0m\n\u001b[0;32m      1\u001b[0m \u001b[39mtry\u001b[39;00m:\n\u001b[1;32m----> 2\u001b[0m     divide(\u001b[39m10\u001b[39;49m, \u001b[39m0\u001b[39;49m)\n\u001b[0;32m      3\u001b[0m     \u001b[39mpass\u001b[39;00m\n\u001b[0;32m      4\u001b[0m \u001b[39mexcept\u001b[39;00m \u001b[39mZeroDivisionError\u001b[39;00m \u001b[39mas\u001b[39;00m e:\n\u001b[0;32m      5\u001b[0m     \u001b[39m# Manejo parcial de la excepción\u001b[39;00m\n",
      "Cell \u001b[1;32mIn[54], line 3\u001b[0m, in \u001b[0;36mdivide\u001b[1;34m(x, y)\u001b[0m\n\u001b[0;32m      1\u001b[0m \u001b[39mdef\u001b[39;00m \u001b[39mdivide\u001b[39m(x, y):\n\u001b[0;32m      2\u001b[0m     \u001b[39mif\u001b[39;00m y \u001b[39m==\u001b[39m \u001b[39m0\u001b[39m:\n\u001b[1;32m----> 3\u001b[0m         \u001b[39mraise\u001b[39;00m \u001b[39mZeroDivisionError\u001b[39;00m(\u001b[39m\"\u001b[39m\u001b[39mNo se puede dividir por cero\u001b[39m\u001b[39m\"\u001b[39m)\n\u001b[0;32m      4\u001b[0m     \u001b[39mreturn\u001b[39;00m x \u001b[39m/\u001b[39m y\n",
      "\u001b[1;31mZeroDivisionError\u001b[0m: No se puede dividir por cero"
     ]
    }
   ],
   "source": [
    "try:\n",
    "    divide(10, 0)\n",
    "    pass\n",
    "except ZeroDivisionError as e:\n",
    "    # Manejo parcial de la excepción\n",
    "    print(\"Estoy en el except\")\n",
    "    raise  # Vuelve a lanzar la excepción capturada\n"
   ]
  },
  {
   "attachments": {},
   "cell_type": "markdown",
   "metadata": {},
   "source": [
    "Lanzar una Excepción Personalizada: Puedes definir tus propias clases de excepción y utilizar `raise` para lanzar una instancia de tu excepción personalizada."
   ]
  },
  {
   "cell_type": "code",
   "execution_count": 58,
   "metadata": {},
   "outputs": [],
   "source": [
    "class MyException(Exception):\n",
    "    pass\n",
    "\n",
    "def my_function():\n",
    "    raise MyException(\"Esto es una excepción personalizada\")\n"
   ]
  },
  {
   "attachments": {},
   "cell_type": "markdown",
   "metadata": {},
   "source": [
    "# Testing y Test-Driven Development (TDD)"
   ]
  },
  {
   "attachments": {},
   "cell_type": "markdown",
   "metadata": {},
   "source": [
    "\n",
    "El Test-Driven Development (TDD) es una metodología de desarrollo que enfatiza escribir pruebas antes de escribir el código de producción. Se basa en un ciclo repetitivo y se desarrolla en tres etapas principales:\n",
    "\n",
    "+ Red: Escribe una prueba que falle para una nueva característica o mejora. Esta etapa garantiza que la prueba es necesaria y que captura los requisitos de la + característica.\n",
    "+ Green: Escribe el código mínimo necesario para hacer que la prueba pase. Esto asegura que la prueba es suficiente y que el código cumple con los requisitos.\n",
    "+ Refactor: Refactoriza el código para mejorar su estructura, legibilidad y mantenibilidad sin cambiar su comportamiento. Las pruebas existentes garantizan que el código refactorizado todavía funciona como se esperaba.\n",
    "\n",
    "Ventajas de TDD\n",
    "\n",
    "+ Calidad Mejorada: Al escribir pruebas primero, te aseguras de que tu código tiene una buena cobertura de pruebas, lo que puede llevar a una mejor calidad y menos errores.\n",
    "+ Diseño Mejorado: TDD puede fomentar un diseño modular y cohesionado, ya que escribes código que es necesario y probablemente más fácil de probar.\n",
    "+ Desarrollo Más Rápido: Aunque escribir pruebas puede parecer que ralentiza el desarrollo, a menudo resulta en un desarrollo más rápido a largo plazo, ya que se detectan + y corrigen los errores antes.\n",
    "+ Documentación Viva: Las pruebas actúan como una forma de documentación que describe cómo se espera que funcione el código.\n",
    "\n",
    "Desafíos de TDD\n",
    "\n",
    "Curva de Aprendizaje: Puede ser desafiante para los desarrolladores que son nuevos en TDD adoptar esta metodología.\n",
    "Sobrecarga Inicial: Escribir pruebas primero puede parecer una sobrecarga, especialmente para tareas pequeñas o triviales."
   ]
  }
 ],
 "metadata": {
  "kernelspec": {
   "display_name": ".venv",
   "language": "python",
   "name": "python3"
  },
  "language_info": {
   "codemirror_mode": {
    "name": "ipython",
    "version": 3
   },
   "file_extension": ".py",
   "mimetype": "text/x-python",
   "name": "python",
   "nbconvert_exporter": "python",
   "pygments_lexer": "ipython3",
   "version": "3.11.2"
  },
  "orig_nbformat": 4
 },
 "nbformat": 4,
 "nbformat_minor": 2
}
