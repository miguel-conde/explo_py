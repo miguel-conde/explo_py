{
 "cells": [
  {
   "cell_type": "markdown",
   "metadata": {},
   "source": [
    "## Definición de funciones con *args y **kwargs\n",
    "*args y **kwargs permiten pasar un número variable de argumentos a una función. *args se usa para pasar una lista de argumentos de longitud variable sin palabras clave, mientras que **kwargs permite pasar un número variable de argumentos con palabras clave.\n",
    "\n",
    "### Uso de *args:\n",
    "*args es una convención para definir funciones que aceptan cualquier número de argumentos posicionales adicionales.\n",
    "La estrella (*) antes del nombre args significa \"expandir\" esta variable en una secuencia de argumentos.\n",
    "Dentro de la función, args es accesible como una tupla.\n",
    "\n",
    "### Uso de **kwargs:\n",
    "**kwargs permite a una función tomar cualquier número de argumentos de palabras clave.\n",
    "Las dos estrellas (**) antes de kwargs significan \"expandir\" esta variable en un diccionario de argumentos de palabras clave.\n",
    "Dentro de la función, kwargs es accesible como un diccionario.\n",
    "\n",
    "### Ejemplos:\n",
    "Función con *args:"
   ]
  },
  {
   "cell_type": "code",
   "execution_count": 1,
   "metadata": {},
   "outputs": [
    {
     "name": "stdout",
     "output_type": "stream",
     "text": [
      "6\n",
      "15\n"
     ]
    }
   ],
   "source": [
    "def sum_all(*args):\n",
    "    return sum(args)\n",
    "\n",
    "print(sum_all(1, 2, 3))  # Salida: 6\n",
    "print(sum_all(1, 2, 3, 4, 5))  # Salida: 15\n"
   ]
  },
  {
   "cell_type": "markdown",
   "metadata": {},
   "source": [
    "Función con **kwargs:"
   ]
  },
  {
   "cell_type": "code",
   "execution_count": 2,
   "metadata": {},
   "outputs": [
    {
     "name": "stdout",
     "output_type": "stream",
     "text": [
      "Hello John!\n",
      "Hello there!\n"
     ]
    }
   ],
   "source": [
    "def greet(**kwargs):\n",
    "    if 'name' in kwargs:\n",
    "        print(f\"Hello {kwargs['name']}!\")\n",
    "    else:\n",
    "        print(\"Hello there!\")\n",
    "\n",
    "greet(name=\"John\")  # Salida: Hello John!\n",
    "greet()  # Salida: Hello there!\n"
   ]
  },
  {
   "cell_type": "markdown",
   "metadata": {},
   "source": [
    "Combinando *args y **kwargs:"
   ]
  },
  {
   "cell_type": "code",
   "execution_count": 3,
   "metadata": {},
   "outputs": [
    {
     "name": "stdout",
     "output_type": "stream",
     "text": [
      "(1, 2, 3)\n",
      "{'a': 4, 'b': 5}\n"
     ]
    }
   ],
   "source": [
    "def foo(*args, **kwargs):\n",
    "    print(args)  # Esto es una tupla de todos los argumentos posicionales\n",
    "    print(kwargs)  # Esto es un diccionario de todos los argumentos de palabra clave\n",
    "\n",
    "foo(1, 2, 3, a=4, b=5)\n",
    "# Salida:\n",
    "# (1, 2, 3)\n",
    "# {'a': 4, 'b': 5}\n"
   ]
  },
  {
   "cell_type": "markdown",
   "metadata": {},
   "source": [
    "####  Buenas prácticas:\n",
    "+ *args y **kwargs son solo convenciones; podrías usar *vars y **kvars o cualquier otro nombre que te guste, pero es altamente recomendable seguir la convención.\n",
    "+ Siempre coloca *args y **kwargs al final de la lista de parámetros cuando combines con argumentos fijos.\n",
    "\n",
    "#### Ejemplo avanzado:"
   ]
  },
  {
   "cell_type": "code",
   "execution_count": 4,
   "metadata": {},
   "outputs": [
    {
     "name": "stdout",
     "output_type": "stream",
     "text": [
      "User: {'email': 'john@example.com', 'password': 'securepassword', 'name': 'John', 'age': 30}\n",
      "Additional Info: ('555-1234',)\n"
     ]
    }
   ],
   "source": [
    "def register_user(email, password, *args, **kwargs):\n",
    "    user = {'email': email, 'password': password}\n",
    "    user.update(kwargs)\n",
    "    print(f\"User: {user}\")\n",
    "    print(f\"Additional Info: {args}\")\n",
    "\n",
    "register_user('john@example.com', 'securepassword', '555-1234', name=\"John\", age=30)\n",
    "# Salida:\n",
    "# User: {'email': 'john@example.com', 'password': 'securepassword', 'name': 'John', 'age': 30}\n",
    "# Additional Info: ('555-1234',)\n"
   ]
  },
  {
   "cell_type": "markdown",
   "metadata": {},
   "source": []
  }
 ],
 "metadata": {
  "kernelspec": {
   "display_name": ".venv",
   "language": "python",
   "name": "python3"
  },
  "language_info": {
   "codemirror_mode": {
    "name": "ipython",
    "version": 3
   },
   "file_extension": ".py",
   "mimetype": "text/x-python",
   "name": "python",
   "nbconvert_exporter": "python",
   "pygments_lexer": "ipython3",
   "version": "3.11.2"
  },
  "orig_nbformat": 4
 },
 "nbformat": 4,
 "nbformat_minor": 2
}
