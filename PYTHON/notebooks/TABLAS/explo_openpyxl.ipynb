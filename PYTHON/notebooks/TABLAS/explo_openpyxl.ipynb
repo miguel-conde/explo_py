{
 "cells": [
  {
   "cell_type": "code",
   "execution_count": 1,
   "metadata": {},
   "outputs": [],
   "source": [
    "import os\n",
    "import random\n",
    "import pandas as pd\n",
    "from openpyxl import Workbook, load_workbook\n",
    "from openpyxl.styles import Font, numbers\n",
    "from openpyxl.chart import BarChart, Reference\n",
    "from openpyxl.worksheet.table import Table, TableStyleInfo\n",
    "from openpyxl.drawing.image import Image\n",
    "\n",
    "import utils.globalsettings as gs\n",
    "\n",
    "# magic commands to reload the module\n",
    "%load_ext autoreload\n",
    "%autoreload 2"
   ]
  },
  {
   "cell_type": "markdown",
   "metadata": {},
   "source": [
    "# Creación y manejo de archivos Excel con openpyxl\n",
    "\n",
    "Este capítulo te enseñará cómo crear archivos Excel desde cero, cómo trabajar con diferentes hojas de cálculo dentro de esos archivos, y cómo manipular los datos dentro de las celdas.\n",
    "\n",
    "## Crear y Guardar Archivos Excel\n",
    "Empezaremos aprendiendo a crear un nuevo libro de Excel y cómo guardarlo en tu sistema. Ya viste un ejemplo de esto en el trabajo práctico anterior, pero ahora vamos a explorar más detalles y opciones."
   ]
  },
  {
   "cell_type": "code",
   "execution_count": 2,
   "metadata": {},
   "outputs": [],
   "source": [
    "# Crear un nuevo libro de trabajo\n",
    "wb = Workbook()\n",
    "\n",
    "# Guardar el libro de trabajo en un archivo\n",
    "wb.save(os.path.join(gs.the_folders.DIR_OUTPUTS_FILES, \"mi_nuevo_archivo_excel.xlsx\"))\n"
   ]
  },
  {
   "cell_type": "markdown",
   "metadata": {},
   "source": [
    "## Trabajar con Hojas de Cálculo\n",
    "Cada libro de Excel puede contener múltiples hojas de cálculo. openpyxl te permite añadir, eliminar, y seleccionar hojas de cálculo específicas para trabajar con ellas.\n",
    "\n",
    "### Añadir una nueva hoja de cálculo:"
   ]
  },
  {
   "cell_type": "code",
   "execution_count": 3,
   "metadata": {},
   "outputs": [],
   "source": [
    "ws1 = wb.create_sheet(title=\"Hoja1\")"
   ]
  },
  {
   "cell_type": "markdown",
   "metadata": {},
   "source": [
    "### Seleccionar una hoja de cálculo existente:"
   ]
  },
  {
   "cell_type": "code",
   "execution_count": 4,
   "metadata": {},
   "outputs": [],
   "source": [
    "ws2 = wb[\"Hoja1\"]\n"
   ]
  },
  {
   "cell_type": "markdown",
   "metadata": {},
   "source": [
    "### Eliminar una hoja de cálculo:"
   ]
  },
  {
   "cell_type": "code",
   "execution_count": 5,
   "metadata": {},
   "outputs": [],
   "source": [
    "wb.remove(ws1)\n"
   ]
  },
  {
   "cell_type": "markdown",
   "metadata": {},
   "source": [
    "## Escribir y Leer Datos en Celdas\n",
    "Manipular los datos dentro de las celdas es esencial para crear reportes útiles. openpyxl te permite escribir datos en las celdas y leer los datos existentes.\n",
    "\n",
    "### Escribir datos en una celda:"
   ]
  },
  {
   "cell_type": "code",
   "execution_count": 6,
   "metadata": {},
   "outputs": [],
   "source": [
    "ws = wb.create_sheet(title=\"Hoja1\")\n",
    "\n",
    "ws['A1'] = \"Esto es una prueba\""
   ]
  },
  {
   "cell_type": "markdown",
   "metadata": {},
   "source": [
    "### Leer datos de una celda:"
   ]
  },
  {
   "cell_type": "code",
   "execution_count": 7,
   "metadata": {},
   "outputs": [
    {
     "data": {
      "text/plain": [
       "'Esto es una prueba'"
      ]
     },
     "execution_count": 7,
     "metadata": {},
     "output_type": "execute_result"
    }
   ],
   "source": [
    "valor_a1 = ws['A1'].value\n",
    "valor_a1"
   ]
  },
  {
   "cell_type": "markdown",
   "metadata": {},
   "source": [
    "## Formateo Básico de Celdas\n",
    "El aspecto visual de tu hoja de cálculo es tan importante como los datos que contiene. openpyxl permite aplicar diferentes estilos a las celdas para mejorar la presentación de tus datos.\n",
    "\n",
    "### Establecer el tamaño de fuente y el color:"
   ]
  },
  {
   "cell_type": "code",
   "execution_count": 8,
   "metadata": {},
   "outputs": [],
   "source": [
    "ws['A1'].font = Font(size=14, color=\"FF0000\")\n"
   ]
  },
  {
   "cell_type": "markdown",
   "metadata": {},
   "source": [
    "### Aplicar formato a los números:"
   ]
  },
  {
   "cell_type": "code",
   "execution_count": 9,
   "metadata": {},
   "outputs": [],
   "source": [
    "ws['B1'].number_format = numbers.FORMAT_CURRENCY_USD_SIMPLE\n"
   ]
  },
  {
   "cell_type": "markdown",
   "metadata": {},
   "source": [
    "## Trabajo Práctico\n",
    "Para reforzar lo aprendido en este capítulo, realiza los siguientes ejercicios:\n",
    "\n",
    "1. Crea un archivo Excel que contenga al menos 2 hojas de cálculo. En cada hoja, añade datos que consideres útiles para practicar (por ejemplo, una lista de nombres en una hoja y una lista de números en otra).\n",
    "\n",
    "2. Aplica formateo básico a algunas de las celdas en ambas hojas. Experimenta con diferentes fuentes, colores y formatos de número.\n",
    "\n",
    "3. Lee los datos de algunas celdas que hayas escrito y muestra esos datos usando print()."
   ]
  },
  {
   "cell_type": "code",
   "execution_count": 10,
   "metadata": {},
   "outputs": [],
   "source": [
    "# Crear un nuevo libro de trabajo\n",
    "wb = Workbook()\n",
    "\n",
    "ws1 = wb.create_sheet(title=\"Hoja1\")\n",
    "ws2 = wb.create_sheet(title=\"Hoja2\")\n",
    "\n",
    "lst_nombres = [\"Juan\", \"Pedro\", \"Luis\", \"Ana\", \"Maria\", \"Lucia\", \"Carlos\", \"Pablo\", \"Sofia\", \"Jose\"]\n",
    "lst_hex_colors = [\"FF0000\", \"00FF00\", \"0000FF\", \"FFFF00\", \"00FFFF\", \"FF00FF\", \"C0C0C0\", \"808080\", \"800000\", \"808000\"]\n",
    "\n",
    "for i, n in enumerate(lst_nombres, start=1):\n",
    "    ws1[f\"A{i}\"] = n\n",
    "    ws1[f\"A{i}\"].font = Font(size=14+i, color=lst_hex_colors[i-1])\n",
    "\n",
    "lst_numeros = random.sample(range(1, 100), 10)\n",
    "# create list of number formats for each number\n",
    "lst_number_formats = [numbers.FORMAT_CURRENCY_USD_SIMPLE for _ in range(10)]\n",
    "numbers.FORMAT_NUMBER_00\n",
    "\n",
    "for i, n in enumerate(lst_numeros, start=1):\n",
    "    ws2[f\"B{i}\"] = n\n",
    "    if n % 2 == 0:\n",
    "        ws2[f\"B{i}\"].number_format = numbers.FORMAT_CURRENCY_USD_SIMPLE\n",
    "    else:\n",
    "        ws2[f\"B{i}\"].number_format = numbers.FORMAT_NUMBER_00\n",
    "\n",
    "# Guardar el libro de trabajo en un archivo\n",
    "wb.save(os.path.join(gs.the_folders.DIR_OUTPUTS_FILES, \"mi_nuevo_archivo_excel.xlsx\"))"
   ]
  },
  {
   "cell_type": "markdown",
   "metadata": {},
   "source": [
    "# Técnicas avanzadas para reportes en Excel\n",
    "En este capítulo, nos adentraremos en técnicas más avanzadas que te permitirán crear reportes más sofisticados y dinámicos en Excel utilizando openpyxl. Aprenderás a usar fórmulas, crear gráficos, y generar tablas, lo cual enriquecerá tus reportes y los hará más interactivos y útiles para el análisis de datos.\n",
    "\n",
    "## Uso de Fórmulas y Funciones de Excel\n",
    "openpyxl permite insertar fórmulas en las celdas de Excel, de la misma manera que lo harías directamente en Excel. Esto es especialmente útil para realizar cálculos automáticos basados en los datos de tu hoja de cálculo."
   ]
  },
  {
   "cell_type": "code",
   "execution_count": 11,
   "metadata": {},
   "outputs": [],
   "source": [
    "# Insertar una fórmula para sumar valores\n",
    "ws = wb[\"Sheet\"]\n",
    "\n",
    "for i in range(10):\n",
    "    ws[f\"A{i+2}\"] = i\n",
    "\n",
    "ws['A13'] = \"=SUM(A2:A11)\""
   ]
  },
  {
   "cell_type": "markdown",
   "metadata": {},
   "source": [
    "Recuerda que las fórmulas deben ser escritas en inglés, tal como se hace en la interfaz de Excel.\n",
    "\n",
    "## Creación y Manipulación de Gráficos\n",
    "Los gráficos son herramientas poderosas para visualizar datos. openpyxl soporta la creación de diversos tipos de gráficos, incluyendo gráficos de líneas, barras, y torta."
   ]
  },
  {
   "cell_type": "code",
   "execution_count": 12,
   "metadata": {},
   "outputs": [],
   "source": [
    "# Preparar los datos para el gráfico\n",
    "data = Reference(ws, min_col=1, min_row=2, max_col=1, max_row=11)\n",
    "\n",
    "# Crear un gráfico de barras\n",
    "chart = BarChart()\n",
    "chart.add_data(data)\n",
    "\n",
    "# Añadir el gráfico a la hoja de cálculo\n",
    "ws.add_chart(chart, \"D1\")\n"
   ]
  },
  {
   "cell_type": "code",
   "execution_count": 13,
   "metadata": {},
   "outputs": [
    {
     "data": {
      "text/plain": [
       "'Sheet'!$A$2:$A$11"
      ]
     },
     "execution_count": 13,
     "metadata": {},
     "output_type": "execute_result"
    }
   ],
   "source": [
    "data"
   ]
  },
  {
   "cell_type": "markdown",
   "metadata": {},
   "source": [
    "## Generación de Tablas\n",
    "Las tablas en Excel no solo organizan visualmente los datos, sino que también facilitan su análisis al permitir filtrar y ordenar la información de manera dinámica."
   ]
  },
  {
   "cell_type": "code",
   "execution_count": 14,
   "metadata": {},
   "outputs": [],
   "source": [
    "# Crear una tabla\n",
    "tab = Table(displayName=\"Tabla1\", ref=\"A1:B11\")\n",
    "\n",
    "# Aplicar un estilo a la tabla\n",
    "style = TableStyleInfo(name=\"TableStyleMedium9\", showFirstColumn=False,\n",
    "                       showLastColumn=False, showRowStripes=True, showColumnStripes=True)\n",
    "tab.tableStyleInfo = style\n",
    "\n",
    "# Añadir la tabla a la hoja de cálculo\n",
    "ws.add_table(tab)\n"
   ]
  },
  {
   "cell_type": "code",
   "execution_count": 15,
   "metadata": {},
   "outputs": [
    {
     "name": "stderr",
     "output_type": "stream",
     "text": [
      "c:\\Users\\migue\\Documents\\PROYECTOS DATA SCIENCE\\explo_py\\.venv\\Lib\\site-packages\\openpyxl\\worksheet\\_writer.py:274: UserWarning: File may not be readable: column headings must be strings.\n",
      "  warn(\"File may not be readable: column headings must be strings.\")\n"
     ]
    }
   ],
   "source": [
    "wb.save(os.path.join(gs.the_folders.DIR_OUTPUTS_FILES, \"mi_nuevo_archivo_excel.xlsx\"))"
   ]
  },
  {
   "cell_type": "markdown",
   "metadata": {},
   "source": [
    "## Trabajo Práctico\n",
    "Para aplicar lo aprendido en este capítulo, te propongo realizar los siguientes ejercicios:\n",
    "\n",
    "1. Utiliza fórmulas en tu archivo Excel para realizar cálculos básicos. Por ejemplo, suma una columna de números y usa la función AVERAGE para calcular el promedio.\n",
    "\n",
    "2. Crea un gráfico para visualizar los datos de una de tus hojas. Experimenta con diferentes tipos de gráficos para ver cuál representa mejor tus datos.\n",
    "\n",
    "3. Genera una tabla con un rango de datos y aplica un estilo de tabla para mejorar su visualización. Prueba las funcionalidades de filtrado y ordenamiento en Excel para familiarizarte con las ventajas de usar tablas."
   ]
  },
  {
   "cell_type": "markdown",
   "metadata": {},
   "source": [
    "# Integración de openpyxl con otras bibliotecas de Python\n",
    "\n",
    "La capacidad de openpyxl para trabajar con archivos Excel en Python se potencia significativamente cuando se integra con otras bibliotecas. Este capítulo te guiará a través de dos integraciones clave: Pandas para el manejo avanzado de datos, y Matplotlib o Seaborn para la incorporación de gráficos en tus archivos Excel.\n",
    "\n",
    "## Integración con Pandas\n",
    "Pandas es una biblioteca de Python diseñada para el análisis y la manipulación de datos. Ofrece estructuras de datos potentes y flexibles, como DataFrame, que facilitan el manejo de datos tabulares. La integración de Pandas con openpyxl te permite aprovechar lo mejor de ambos mundos: la manipulación de datos de alto nivel de Pandas y la capacidad de openpyxl para leer y escribir archivos Excel.\n",
    "\n",
    "**Ejemplo de Integración**"
   ]
  },
  {
   "cell_type": "code",
   "execution_count": 16,
   "metadata": {},
   "outputs": [],
   "source": [
    "# Exportar un DataFrame de Pandas a un archivo Excel:\n",
    "\n",
    "# Crear un DataFrame de ejemplo\n",
    "df = pd.DataFrame({\n",
    "    'Nombre': ['Ana', 'Luis', 'Julia', 'Marcos'],\n",
    "    'Edad': [28, 34, 29, 40],\n",
    "    'Ciudad': ['Madrid', 'Barcelona', 'Valencia', 'Bilbao']\n",
    "})\n",
    "\n",
    "# Exportar el DataFrame a Excel\n",
    "df.to_excel(os.path.join(gs.the_folders.DIR_OUTPUTS_FILES, 'datos.xlsx'), sheet_name='Empleados', index=False)\n"
   ]
  },
  {
   "cell_type": "code",
   "execution_count": 17,
   "metadata": {},
   "outputs": [
    {
     "name": "stdout",
     "output_type": "stream",
     "text": [
      "   Nombre  Edad     Ciudad\n",
      "0     Ana    28     Madrid\n",
      "1    Luis    34  Barcelona\n",
      "2   Julia    29   Valencia\n",
      "3  Marcos    40     Bilbao\n"
     ]
    }
   ],
   "source": [
    "# Leer un archivo Excel en un DataFrame de Pandas:\n",
    "\n",
    "# Leer el archivo Excel\n",
    "df_leido = pd.read_excel(os.path.join(gs.the_folders.DIR_OUTPUTS_FILES, 'datos.xlsx'), sheet_name='Empleados')\n",
    "print(df_leido)\n"
   ]
  },
  {
   "cell_type": "markdown",
   "metadata": {},
   "source": [
    "## Guardar un DataFrame Pandas en una hoja concreta de un libro Excel\n",
    "Para guardar un DataFrame de Pandas en una hoja específica de un libro de Excel, puedes utilizar el método to_excel de Pandas, especificando el nombre de la hoja en la que deseas guardar el DataFrame. Si el libro de Excel ya existe y quieres añadir una nueva hoja sin sobrescribir las existentes, puedes hacerlo usando el objeto ExcelWriter de Pandas, configurado para trabajar con openpyxl como motor.\n",
    "\n",
    "Aquí te muestro cómo hacerlo paso a paso:"
   ]
  },
  {
   "cell_type": "code",
   "execution_count": 61,
   "metadata": {},
   "outputs": [],
   "source": [
    "# Creación del DataFrame:\n",
    "\n",
    "# Crear un DataFrame de ejemplo\n",
    "df = pd.DataFrame({\n",
    "    'Nombre': ['Ana', 'Luis', 'Julia', 'Marcos'],\n",
    "    'Edad': [28, 34, 29, 40],\n",
    "    'Ciudad': ['Madrid', 'Barcelona', 'Valencia', 'Bilbao']\n",
    "})"
   ]
  },
  {
   "cell_type": "code",
   "execution_count": 62,
   "metadata": {},
   "outputs": [],
   "source": [
    "# Guardar el DataFrame en una hoja específica de un nuevo libro de Excel:\n",
    "df.to_excel(os.path.join(gs.the_folders.DIR_OUTPUTS_FILES, 'nuevo_archivo_excel.xlsx'), sheet_name='Empleados', index=False)"
   ]
  },
  {
   "cell_type": "code",
   "execution_count": 63,
   "metadata": {},
   "outputs": [],
   "source": [
    "# Agregar una hoja a un libro de Excel existente:\n",
    "# Si el archivo Excel ya existe y quieres agregar el DataFrame como una nueva hoja sin eliminar las hojas existentes, debes utilizar ExcelWriter con openpyxl como motor.\n",
    "\n",
    "path = os.path.join(gs.the_folders.DIR_OUTPUTS_FILES, 'nuevo_archivo_excel.xlsx')\n",
    "\n",
    "# Crear un objeto ExcelWriter con el motor de openpyxl\n",
    "with pd.ExcelWriter(path, mode = \"a\", engine=\"openpyxl\") as writer:\n",
    "    # Escribir el DataFrame en una nueva hoja de nombre 'NuevaHoja'\n",
    "    df.to_excel(writer, sheet_name='NuevaHoja', index=False)\n",
    "    df.to_excel(writer, sheet_name='HojaEspecifica', startrow=3, startcol=4, index=False, header=False)\n"
   ]
  },
  {
   "cell_type": "code",
   "execution_count": 69,
   "metadata": {},
   "outputs": [
    {
     "name": "stdout",
     "output_type": "stream",
     "text": [
      "{'Empleados': <Worksheet \"Empleados\">, 'NuevaHoja': <Worksheet \"NuevaHoja\">, 'HojaEspecifica': <Worksheet \"HojaEspecifica\">}\n"
     ]
    }
   ],
   "source": [
    "print({ws.title: ws for ws in writer.book.worksheets})"
   ]
  },
  {
   "cell_type": "markdown",
   "metadata": {},
   "source": [
    "## Integración con Matplotlib o Seaborn para Gráficos\n",
    "Tanto Matplotlib como Seaborn son bibliotecas de visualización de datos en Python. Permiten crear una amplia gama de gráficos estáticos, animados e interactivos. Aunque openpyxl tiene su propio soporte para gráficos, la integración con estas bibliotecas ofrece mayores posibilidades de visualización.\n",
    "\n",
    "**Ejemplo de Integración**\n",
    "\n",
    "Para integrar un gráfico de Matplotlib o Seaborn en un archivo Excel con openpyxl, primero necesitas guardar el gráfico como una imagen y luego insertarlo en la hoja de Excel."
   ]
  },
  {
   "cell_type": "code",
   "execution_count": 65,
   "metadata": {},
   "outputs": [
    {
     "data": {
      "image/png": "[encoded data removed]",
      "text/plain": [
       "<Figure size 1000x600 with 1 Axes>"
      ]
     },
     "metadata": {},
     "output_type": "display_data"
    }
   ],
   "source": [
    "# Crear un gráfico con Matplotlib:\n",
    "\n",
    "import matplotlib.pyplot as plt\n",
    "\n",
    "# Datos para el gráfico\n",
    "nombres = ['Ana', 'Luis', 'Julia', 'Marcos']\n",
    "edades = [28, 34, 29, 40]\n",
    "\n",
    "# Crear un gráfico de barras\n",
    "plt.figure(figsize=(10,6))\n",
    "plt.bar(nombres, edades, color='skyblue')\n",
    "plt.title('Edad por Persona')\n",
    "plt.xlabel('Nombre')\n",
    "plt.ylabel('Edad')\n",
    "\n",
    "# Guardar el gráfico como una imagen PNG\n",
    "plt.savefig(os.path.join(gs.the_folders.DIR_OUTPUTS_FILES, 'edad_por_persona.png'))\n"
   ]
  },
  {
   "cell_type": "code",
   "execution_count": 67,
   "metadata": {},
   "outputs": [],
   "source": [
    "# Insertar la imagen en un archivo Excel:\n",
    "\n",
    "# Cargar el libro de trabajo y seleccionar la hoja\n",
    "wb = load_workbook(os.path.join(gs.the_folders.DIR_OUTPUTS_FILES, 'datos.xlsx'))\n",
    "ws = wb['Empleados']\n",
    "\n",
    "# Cargar e insertar la imagen\n",
    "img = Image(os.path.join(gs.the_folders.DIR_OUTPUTS_FILES, 'edad_por_persona.png'))\n",
    "ws.add_image(img, 'E1')  # 'E1' indica la celda en la que se posicionará la imagen\n",
    "\n",
    "# Guardar los cambios en el archivo Excel\n",
    "wb.save('datos_con_grafico.xlsx')"
   ]
  },
  {
   "cell_type": "markdown",
   "metadata": {},
   "source": [
    "## Trabajo Práctico\n",
    "Para consolidar lo aprendido en este capítulo, realiza las siguientes tareas:\n",
    "\n",
    "1. Manipula datos con Pandas y exporta los resultados a un archivo Excel. Intenta realizar algunas operaciones comunes como filtrar datos, calcular promedios, o agrupar datos.\n",
    "\n",
    "2. Crea un gráfico visualmente atractivo con Matplotlib o Seaborn basado en los datos que has trabajado. Guarda este gráfico como imagen.\n",
    "\n",
    "3. Integra el gráfico en tu archivo Excel utilizando openpyxl, posicionándolo adecuadamente en tu hoja de trabajo."
   ]
  }
 ],
 "metadata": {
  "kernelspec": {
   "display_name": ".venv",
   "language": "python",
   "name": "python3"
  },
  "language_info": {
   "codemirror_mode": {
    "name": "ipython",
    "version": 3
   },
   "file_extension": ".py",
   "mimetype": "text/x-python",
   "name": "python",
   "nbconvert_exporter": "python",
   "pygments_lexer": "ipython3",
   "version": "3.11.8"
  }
 },
 "nbformat": 4,
 "nbformat_minor": 2
}
