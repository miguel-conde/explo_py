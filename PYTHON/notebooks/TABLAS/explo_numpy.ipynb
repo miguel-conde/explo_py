{
 "cells": [
  {
   "cell_type": "code",
   "execution_count": 1,
   "metadata": {},
   "outputs": [],
   "source": [
    "%load_ext autoreload\n",
    "%autoreload 2\n",
    "\n",
    "import pandas as pd\n",
    "import numpy as np\n",
    "import matplotlib.pyplot as plt\n",
    "import seaborn as sns\n",
    "\n",
    "from utils import globalsettings as gs"
   ]
  },
  {
   "cell_type": "code",
   "execution_count": 2,
   "metadata": {},
   "outputs": [
    {
     "data": {
      "text/plain": [
       "['media_data', 'extra_features', 'costs']"
      ]
     },
     "execution_count": 2,
     "metadata": {},
     "output_type": "execute_result"
    }
   ],
   "source": [
    "# Cargando el archivo .npz\n",
    "data_npz = np.load(gs.the_files.DATA_LIGHTWEIGHT)\n",
    "\n",
    "# Obtener los nombres de los arrays\n",
    "array_names = data_npz.files\n",
    "array_names\n"
   ]
  },
  {
   "cell_type": "code",
   "execution_count": 3,
   "metadata": {},
   "outputs": [
    {
     "data": {
      "text/plain": [
       "((160, 3, 5), (160, 2, 5), (3,))"
      ]
     },
     "execution_count": 3,
     "metadata": {},
     "output_type": "execute_result"
    }
   ],
   "source": [
    "# Cargando los arrays en variables con los mismos nombres\n",
    "media_data = data_npz['media_data']\n",
    "extra_features = data_npz['extra_features']\n",
    "costs = data_npz['costs']\n",
    "\n",
    "# Verificando las dimensiones de los arrays cargados\n",
    "media_data.shape, extra_features.shape, costs.shape\n"
   ]
  },
  {
   "cell_type": "code",
   "execution_count": 4,
   "metadata": {},
   "outputs": [
    {
     "data": {
      "text/html": [
       "<div>\n",
       "<style scoped>\n",
       "    .dataframe tbody tr th:only-of-type {\n",
       "        vertical-align: middle;\n",
       "    }\n",
       "\n",
       "    .dataframe tbody tr th {\n",
       "        vertical-align: top;\n",
       "    }\n",
       "\n",
       "    .dataframe thead th {\n",
       "        text-align: right;\n",
       "    }\n",
       "</style>\n",
       "<table border=\"1\" class=\"dataframe\">\n",
       "  <thead>\n",
       "    <tr style=\"text-align: right;\">\n",
       "      <th></th>\n",
       "      <th>channel1_geo1</th>\n",
       "      <th>channel1_geo2</th>\n",
       "      <th>channel1_geo3</th>\n",
       "      <th>channel1_geo4</th>\n",
       "      <th>channel1_geo5</th>\n",
       "      <th>channel2_geo1</th>\n",
       "      <th>channel2_geo2</th>\n",
       "      <th>channel2_geo3</th>\n",
       "      <th>channel2_geo4</th>\n",
       "      <th>channel2_geo5</th>\n",
       "      <th>channel3_geo1</th>\n",
       "      <th>channel3_geo2</th>\n",
       "      <th>channel3_geo3</th>\n",
       "      <th>channel3_geo4</th>\n",
       "      <th>channel3_geo5</th>\n",
       "    </tr>\n",
       "  </thead>\n",
       "  <tbody>\n",
       "    <tr>\n",
       "      <th>2022-01-03</th>\n",
       "      <td>20.309933</td>\n",
       "      <td>20.309933</td>\n",
       "      <td>20.309933</td>\n",
       "      <td>20.309933</td>\n",
       "      <td>20.309933</td>\n",
       "      <td>21.495794</td>\n",
       "      <td>21.495794</td>\n",
       "      <td>21.495794</td>\n",
       "      <td>21.495794</td>\n",
       "      <td>21.495794</td>\n",
       "      <td>23.264574</td>\n",
       "      <td>23.264574</td>\n",
       "      <td>23.264574</td>\n",
       "      <td>23.264574</td>\n",
       "      <td>23.264574</td>\n",
       "    </tr>\n",
       "    <tr>\n",
       "      <th>2022-01-10</th>\n",
       "      <td>20.574215</td>\n",
       "      <td>20.574215</td>\n",
       "      <td>20.574215</td>\n",
       "      <td>20.574215</td>\n",
       "      <td>20.574215</td>\n",
       "      <td>19.579594</td>\n",
       "      <td>19.579594</td>\n",
       "      <td>19.579594</td>\n",
       "      <td>19.579594</td>\n",
       "      <td>19.579594</td>\n",
       "      <td>21.324257</td>\n",
       "      <td>21.324257</td>\n",
       "      <td>21.324257</td>\n",
       "      <td>21.324257</td>\n",
       "      <td>21.324257</td>\n",
       "    </tr>\n",
       "    <tr>\n",
       "      <th>2022-01-17</th>\n",
       "      <td>18.423088</td>\n",
       "      <td>18.423088</td>\n",
       "      <td>18.423088</td>\n",
       "      <td>18.423088</td>\n",
       "      <td>18.423088</td>\n",
       "      <td>22.889912</td>\n",
       "      <td>22.889912</td>\n",
       "      <td>22.889912</td>\n",
       "      <td>22.889912</td>\n",
       "      <td>22.889912</td>\n",
       "      <td>20.188976</td>\n",
       "      <td>20.188976</td>\n",
       "      <td>20.188976</td>\n",
       "      <td>20.188976</td>\n",
       "      <td>20.188976</td>\n",
       "    </tr>\n",
       "    <tr>\n",
       "      <th>2022-01-24</th>\n",
       "      <td>19.161734</td>\n",
       "      <td>19.161734</td>\n",
       "      <td>19.161734</td>\n",
       "      <td>19.161734</td>\n",
       "      <td>19.161734</td>\n",
       "      <td>20.355442</td>\n",
       "      <td>20.355442</td>\n",
       "      <td>20.355442</td>\n",
       "      <td>20.355442</td>\n",
       "      <td>20.355442</td>\n",
       "      <td>20.265499</td>\n",
       "      <td>20.265499</td>\n",
       "      <td>20.265499</td>\n",
       "      <td>20.265499</td>\n",
       "      <td>20.265499</td>\n",
       "    </tr>\n",
       "    <tr>\n",
       "      <th>2022-01-31</th>\n",
       "      <td>20.657064</td>\n",
       "      <td>20.657064</td>\n",
       "      <td>20.657064</td>\n",
       "      <td>20.657064</td>\n",
       "      <td>20.657064</td>\n",
       "      <td>21.434008</td>\n",
       "      <td>21.434008</td>\n",
       "      <td>21.434008</td>\n",
       "      <td>21.434008</td>\n",
       "      <td>21.434008</td>\n",
       "      <td>21.574446</td>\n",
       "      <td>21.574446</td>\n",
       "      <td>21.574446</td>\n",
       "      <td>21.574446</td>\n",
       "      <td>21.574446</td>\n",
       "    </tr>\n",
       "  </tbody>\n",
       "</table>\n",
       "</div>"
      ],
      "text/plain": [
       "            channel1_geo1  channel1_geo2  channel1_geo3  channel1_geo4  \\\n",
       "2022-01-03      20.309933      20.309933      20.309933      20.309933   \n",
       "2022-01-10      20.574215      20.574215      20.574215      20.574215   \n",
       "2022-01-17      18.423088      18.423088      18.423088      18.423088   \n",
       "2022-01-24      19.161734      19.161734      19.161734      19.161734   \n",
       "2022-01-31      20.657064      20.657064      20.657064      20.657064   \n",
       "\n",
       "            channel1_geo5  channel2_geo1  channel2_geo2  channel2_geo3  \\\n",
       "2022-01-03      20.309933      21.495794      21.495794      21.495794   \n",
       "2022-01-10      20.574215      19.579594      19.579594      19.579594   \n",
       "2022-01-17      18.423088      22.889912      22.889912      22.889912   \n",
       "2022-01-24      19.161734      20.355442      20.355442      20.355442   \n",
       "2022-01-31      20.657064      21.434008      21.434008      21.434008   \n",
       "\n",
       "            channel2_geo4  channel2_geo5  channel3_geo1  channel3_geo2  \\\n",
       "2022-01-03      21.495794      21.495794      23.264574      23.264574   \n",
       "2022-01-10      19.579594      19.579594      21.324257      21.324257   \n",
       "2022-01-17      22.889912      22.889912      20.188976      20.188976   \n",
       "2022-01-24      20.355442      20.355442      20.265499      20.265499   \n",
       "2022-01-31      21.434008      21.434008      21.574446      21.574446   \n",
       "\n",
       "            channel3_geo3  channel3_geo4  channel3_geo5  \n",
       "2022-01-03      23.264574      23.264574      23.264574  \n",
       "2022-01-10      21.324257      21.324257      21.324257  \n",
       "2022-01-17      20.188976      20.188976      20.188976  \n",
       "2022-01-24      20.265499      20.265499      20.265499  \n",
       "2022-01-31      21.574446      21.574446      21.574446  "
      ]
     },
     "execution_count": 4,
     "metadata": {},
     "output_type": "execute_result"
    }
   ],
   "source": [
    "media_data_2d = media_data.reshape(160, -1)\n",
    "\n",
    "# Supongamos que estos son los valores para 'media_channel' y 'geo'\n",
    "media_channels = ['channel1', 'channel2', 'channel3']\n",
    "geos = ['geo1', 'geo2', 'geo3', 'geo4', 'geo5']\n",
    "\n",
    "# Crea las columnas basadas en las combinaciones de 'media_channel' y 'geo'\n",
    "columns = [f'{channel}_{geo}' for channel in media_channels for geo in geos]\n",
    "\n",
    "# Crea el DataFrame\n",
    "df_wide = pd.DataFrame(media_data_2d, columns=columns, index = pd.date_range(start='2022-01-03', periods=160, freq='W-MON'))\n",
    "\n",
    "df_wide.head()"
   ]
  },
  {
   "cell_type": "code",
   "execution_count": 5,
   "metadata": {},
   "outputs": [
    {
     "data": {
      "text/html": [
       "<div>\n",
       "<style scoped>\n",
       "    .dataframe tbody tr th:only-of-type {\n",
       "        vertical-align: middle;\n",
       "    }\n",
       "\n",
       "    .dataframe tbody tr th {\n",
       "        vertical-align: top;\n",
       "    }\n",
       "\n",
       "    .dataframe thead th {\n",
       "        text-align: right;\n",
       "    }\n",
       "</style>\n",
       "<table border=\"1\" class=\"dataframe\">\n",
       "  <thead>\n",
       "    <tr style=\"text-align: right;\">\n",
       "      <th></th>\n",
       "      <th>date</th>\n",
       "      <th>media_channel</th>\n",
       "      <th>geo</th>\n",
       "      <th>value</th>\n",
       "    </tr>\n",
       "  </thead>\n",
       "  <tbody>\n",
       "    <tr>\n",
       "      <th>0</th>\n",
       "      <td>2022-01-03</td>\n",
       "      <td>channel1</td>\n",
       "      <td>geo1</td>\n",
       "      <td>20.309933</td>\n",
       "    </tr>\n",
       "    <tr>\n",
       "      <th>1</th>\n",
       "      <td>2022-01-10</td>\n",
       "      <td>channel1</td>\n",
       "      <td>geo1</td>\n",
       "      <td>20.574215</td>\n",
       "    </tr>\n",
       "    <tr>\n",
       "      <th>2</th>\n",
       "      <td>2022-01-17</td>\n",
       "      <td>channel1</td>\n",
       "      <td>geo1</td>\n",
       "      <td>18.423088</td>\n",
       "    </tr>\n",
       "    <tr>\n",
       "      <th>3</th>\n",
       "      <td>2022-01-24</td>\n",
       "      <td>channel1</td>\n",
       "      <td>geo1</td>\n",
       "      <td>19.161734</td>\n",
       "    </tr>\n",
       "    <tr>\n",
       "      <th>4</th>\n",
       "      <td>2022-01-31</td>\n",
       "      <td>channel1</td>\n",
       "      <td>geo1</td>\n",
       "      <td>20.657064</td>\n",
       "    </tr>\n",
       "  </tbody>\n",
       "</table>\n",
       "</div>"
      ],
      "text/plain": [
       "        date media_channel   geo      value\n",
       "0 2022-01-03      channel1  geo1  20.309933\n",
       "1 2022-01-10      channel1  geo1  20.574215\n",
       "2 2022-01-17      channel1  geo1  18.423088\n",
       "3 2022-01-24      channel1  geo1  19.161734\n",
       "4 2022-01-31      channel1  geo1  20.657064"
      ]
     },
     "execution_count": 5,
     "metadata": {},
     "output_type": "execute_result"
    }
   ],
   "source": [
    "# Convirtiendo el DataFrame de formato ancho a formato largo\n",
    "df_long = df_wide.reset_index().melt(id_vars='index', value_vars=columns, var_name='media_geo', value_name='value')\n",
    "\n",
    "# Separando las columnas 'media_channel' y 'geo' a partir de la columna 'media_geo'\n",
    "df_long[['media_channel', 'geo']] = df_long['media_geo'].str.split('_', expand=True)\n",
    "\n",
    "# Renombrando la columna 'index' a 'date'\n",
    "df_long.rename(columns={'index': 'date'}, inplace=True)\n",
    "\n",
    "# Eliminando la columna 'media_geo' ya que ya hemos extraído la información en 'media_channel' y 'geo'\n",
    "df_long.drop(columns=['media_geo'], inplace=True)\n",
    "\n",
    "# Reordenando las columnas\n",
    "df_long = df_long[['date', 'media_channel', 'geo', 'value']]\n",
    "\n",
    "# Mostrando las primeras filas del DataFrame en formato largo\n",
    "df_long.head()\n"
   ]
  },
  {
   "cell_type": "code",
   "execution_count": 6,
   "metadata": {},
   "outputs": [],
   "source": [
    "df_long.to_csv(gs.the_files.MEDIA_LONG, index = False)"
   ]
  },
  {
   "cell_type": "code",
   "execution_count": 7,
   "metadata": {},
   "outputs": [
    {
     "data": {
      "text/html": [
       "<div>\n",
       "<style scoped>\n",
       "    .dataframe tbody tr th:only-of-type {\n",
       "        vertical-align: middle;\n",
       "    }\n",
       "\n",
       "    .dataframe tbody tr th {\n",
       "        vertical-align: top;\n",
       "    }\n",
       "\n",
       "    .dataframe thead th {\n",
       "        text-align: right;\n",
       "    }\n",
       "</style>\n",
       "<table border=\"1\" class=\"dataframe\">\n",
       "  <thead>\n",
       "    <tr style=\"text-align: right;\">\n",
       "      <th></th>\n",
       "      <th>date</th>\n",
       "      <th>feature</th>\n",
       "      <th>geo</th>\n",
       "      <th>value</th>\n",
       "    </tr>\n",
       "  </thead>\n",
       "  <tbody>\n",
       "    <tr>\n",
       "      <th>0</th>\n",
       "      <td>2022-01-03</td>\n",
       "      <td>feature1</td>\n",
       "      <td>geo1</td>\n",
       "      <td>4.242858</td>\n",
       "    </tr>\n",
       "    <tr>\n",
       "      <th>1</th>\n",
       "      <td>2022-01-10</td>\n",
       "      <td>feature1</td>\n",
       "      <td>geo1</td>\n",
       "      <td>4.760330</td>\n",
       "    </tr>\n",
       "    <tr>\n",
       "      <th>2</th>\n",
       "      <td>2022-01-17</td>\n",
       "      <td>feature1</td>\n",
       "      <td>geo1</td>\n",
       "      <td>5.610206</td>\n",
       "    </tr>\n",
       "    <tr>\n",
       "      <th>3</th>\n",
       "      <td>2022-01-24</td>\n",
       "      <td>feature1</td>\n",
       "      <td>geo1</td>\n",
       "      <td>6.484605</td>\n",
       "    </tr>\n",
       "    <tr>\n",
       "      <th>4</th>\n",
       "      <td>2022-01-31</td>\n",
       "      <td>feature1</td>\n",
       "      <td>geo1</td>\n",
       "      <td>4.094253</td>\n",
       "    </tr>\n",
       "  </tbody>\n",
       "</table>\n",
       "</div>"
      ],
      "text/plain": [
       "        date   feature   geo     value\n",
       "0 2022-01-03  feature1  geo1  4.242858\n",
       "1 2022-01-10  feature1  geo1  4.760330\n",
       "2 2022-01-17  feature1  geo1  5.610206\n",
       "3 2022-01-24  feature1  geo1  6.484605\n",
       "4 2022-01-31  feature1  geo1  4.094253"
      ]
     },
     "execution_count": 7,
     "metadata": {},
     "output_type": "execute_result"
    }
   ],
   "source": [
    "# Reshape del array 3D a 2D (160, 3, 5) -> (160, 2 * 5)\n",
    "extra_features_2d = extra_features.reshape(160, -1)\n",
    "\n",
    "# Ajustando las características de acuerdo con la forma real del array\n",
    "features = ['feature1', 'feature2']\n",
    "\n",
    "# Creando las columnas basadas en las combinaciones de 'feature' y 'geo'\n",
    "columns_extra = [f'{feature}_{geo}' for feature in features for geo in geos]\n",
    "\n",
    "# Creando el DataFrame con formato ancho\n",
    "df_extra_wide = pd.DataFrame(extra_features_2d, columns=columns_extra,\n",
    "                             index=pd.date_range(start='2022-01-03', periods=160, freq='W-MON'))\n",
    "\n",
    "# Convirtiendo el DataFrame de formato ancho a formato largo\n",
    "df_extra_long = df_extra_wide.reset_index().melt(id_vars='index', value_vars=columns_extra, var_name='feature_geo', value_name='value')\n",
    "\n",
    "# Separando las columnas 'feature' y 'geo' a partir de la columna 'feature_geo'\n",
    "df_extra_long[['feature', 'geo']] = df_extra_long['feature_geo'].str.split('_', expand=True)\n",
    "\n",
    "# Renombrando la columna 'index' a 'date'\n",
    "df_extra_long.rename(columns={'index': 'date'}, inplace=True)\n",
    "\n",
    "# Eliminando la columna 'feature_geo' ya que ya hemos extraído la información en 'feature' y 'geo'\n",
    "df_extra_long.drop(columns=['feature_geo'], inplace=True)\n",
    "\n",
    "# Reordenando las columnas\n",
    "df_extra_long = df_extra_long[['date', 'feature', 'geo', 'value']]\n",
    "\n",
    "# Mostrando las primeras filas del DataFrame en formato largo\n",
    "df_extra_long.head()\n"
   ]
  },
  {
   "cell_type": "code",
   "execution_count": 8,
   "metadata": {},
   "outputs": [],
   "source": [
    "df_extra_long.to_csv(gs.the_files.EXTRA_LONG, index = False)"
   ]
  },
  {
   "attachments": {},
   "cell_type": "markdown",
   "metadata": {},
   "source": [
    "# Selección"
   ]
  },
  {
   "attachments": {},
   "cell_type": "markdown",
   "metadata": {},
   "source": [
    "1. Indexación Básica\n",
    "\n",
    "Puedes acceder a un elemento específico en un array utilizando índices. Los índices comienzan en 0."
   ]
  },
  {
   "cell_type": "code",
   "execution_count": 9,
   "metadata": {},
   "outputs": [],
   "source": [
    "# Ejemplo de un Array 1D:\n",
    "\n",
    "arr_1d = np.array([10, 20, 30, 40, 50])\n",
    "element = arr_1d[2]  # Selecciona el tercer elemento"
   ]
  },
  {
   "cell_type": "code",
   "execution_count": 10,
   "metadata": {},
   "outputs": [],
   "source": [
    "# Ejemplo de un Array 2D:\n",
    "\n",
    "arr_2d = np.array([[1, 2, 3], [4, 5, 6], [7, 8, 9]])\n",
    "element = arr_2d[1, 2]  # Selecciona el tercer elemento de la segunda fila"
   ]
  },
  {
   "attachments": {},
   "cell_type": "markdown",
   "metadata": {},
   "source": [
    "\n",
    "\n",
    "2. Slicing\n",
    "\n",
    "Puedes seleccionar una sección (rebanada) del array utilizando el operador de slicing :."
   ]
  },
  {
   "cell_type": "code",
   "execution_count": 11,
   "metadata": {},
   "outputs": [],
   "source": [
    "sliced_row = arr_2d[1, :]  # Selecciona toda la segunda fila\n",
    "sliced_column = arr_2d[:, 1]  # Selecciona toda la segunda columna"
   ]
  },
  {
   "attachments": {},
   "cell_type": "markdown",
   "metadata": {},
   "source": [
    "\n",
    "3. Indexación Booleana\n",
    "\n",
    "Puedes utilizar una condición para seleccionar elementos que cumplan ciertos criterios."
   ]
  },
  {
   "cell_type": "code",
   "execution_count": 12,
   "metadata": {},
   "outputs": [],
   "source": [
    "arr = np.array([1, 2, 3, 4, 5])\n",
    "selected = arr[arr > 3]  # Selecciona elementos mayores que 3"
   ]
  },
  {
   "attachments": {},
   "cell_type": "markdown",
   "metadata": {},
   "source": [
    "\n",
    "4. Indexación de Matrices (Fancy Indexing)\n",
    "\n",
    "Puedes utilizar listas o arrays de índices para seleccionar elementos específicos."
   ]
  },
  {
   "cell_type": "code",
   "execution_count": 13,
   "metadata": {},
   "outputs": [],
   "source": [
    "arr = np.array([10, 20, 30, 40, 50])\n",
    "indices = [1, 3]\n",
    "selected = arr[indices]  # Selecciona los elementos en las posiciones 1 y 3"
   ]
  },
  {
   "attachments": {},
   "cell_type": "markdown",
   "metadata": {},
   "source": [
    "# Operaciones"
   ]
  },
  {
   "attachments": {},
   "cell_type": "markdown",
   "metadata": {},
   "source": [
    "Operaciones aritméticas\n",
    "\n",
    "Puedes realizar operaciones aritméticas elementales entre arrays del mismo tamaño. Esto incluye suma (+), resta (-), multiplicación (*), división (/), y potenciación (**)."
   ]
  },
  {
   "cell_type": "code",
   "execution_count": 14,
   "metadata": {},
   "outputs": [],
   "source": [
    "import numpy as np\n",
    "\n",
    "# Creando dos arrays numpy\n",
    "a = np.array([1, 2, 3])\n",
    "b = np.array([4, 5, 6])\n",
    "\n",
    "# Suma\n",
    "c = a + b\n",
    "# Resultado: array([5, 7, 9])\n"
   ]
  },
  {
   "attachments": {},
   "cell_type": "markdown",
   "metadata": {},
   "source": [
    "Operaciones matemáticas\n",
    "\n",
    "NumPy ofrece funciones matemáticas como sin, cos, exp, etc. Estas funciones se aplican elemento por elemento en el array."
   ]
  },
  {
   "cell_type": "code",
   "execution_count": 15,
   "metadata": {},
   "outputs": [],
   "source": [
    "# Creando un array numpy\n",
    "a = np.array([1, 2, 3])\n",
    "\n",
    "# Función exponencial\n",
    "b = np.exp(a)\n",
    "# Resultado: array([ 2.71828183,  7.3890561 , 20.08553692])\n"
   ]
  },
  {
   "attachments": {},
   "cell_type": "markdown",
   "metadata": {},
   "source": [
    "Operaciones de álgebra lineal\n",
    "\n",
    "NumPy ofrece varias funciones en el submódulo numpy.linalg para realizar operaciones de álgebra lineal, como cálculo de determinantes, resolución de sistemas lineales, cálculo de autovalores y autovectores, etc."
   ]
  },
  {
   "cell_type": "code",
   "execution_count": 16,
   "metadata": {},
   "outputs": [],
   "source": [
    "# Creando dos arrays 2D\n",
    "a = np.array([[1, 2], [3, 4]])\n",
    "b = np.array([[5, 6], [7, 8]])\n",
    "\n",
    "# Producto de matrices\n",
    "c = np.dot(a, b)\n",
    "# Resultado: array([[19, 22], [43, 50]])\n"
   ]
  },
  {
   "attachments": {},
   "cell_type": "markdown",
   "metadata": {},
   "source": [
    "Operaciones estadísticas\n",
    "\n",
    "NumPy también ofrece funciones para calcular estadísticas de los datos en arrays, como min, max, sum, mean, median, std, etc"
   ]
  },
  {
   "cell_type": "code",
   "execution_count": 17,
   "metadata": {},
   "outputs": [],
   "source": [
    "# Creando un array numpy\n",
    "a = np.array([1, 2, 3, 4, 5])\n",
    "\n",
    "# Media de los elementos del array\n",
    "m = np.mean(a)\n",
    "# Resultado: 3.0\n"
   ]
  },
  {
   "attachments": {},
   "cell_type": "markdown",
   "metadata": {},
   "source": [
    "Operaciones booleanas\n",
    "\n",
    "Puedes aplicar operaciones booleanas elemento por elemento en arrays. Esto es útil para la indexación booleana y la selección condicional de elementos."
   ]
  },
  {
   "cell_type": "code",
   "execution_count": 18,
   "metadata": {},
   "outputs": [],
   "source": [
    "# Creando un array numpy\n",
    "a = np.array([1, 2, 3, 4, 5])\n",
    "\n",
    "# Creando una máscara booleana para valores mayores que 3\n",
    "mask = a > 3\n",
    "# Resultado: array([False, False, False,  True,  True])\n"
   ]
  },
  {
   "attachments": {},
   "cell_type": "markdown",
   "metadata": {},
   "source": [
    "# Broadcasting\n",
    "\n",
    "Cuando los arrays en una operación no tienen las mismas dimensiones, NumPy intenta aplicar \"broadcasting\" para hacer que las dimensiones sean compatibles. El broadcasting es un potente mecanismo que permite que NumPy trabaje con arrays de diferentes formas cuando se realizan operaciones aritméticas.\n",
    "\n",
    "Aquí están las reglas del broadcasting:\n",
    "\n",
    "+ Regla 1: Si los dos arrays difieren en su número de dimensiones, la forma del que tiene menos dimensiones se rellena con unos en su lado izquierdo.\n",
    "+ Regla 2: Si la forma de los dos arrays no coincide en alguna dimensión, el array con forma igual a 1 en esa dimensión se estira para coincidir con la otra forma.\n",
    "+ Regla 3: Si en cualquier dimensión los tamaños difieren y ninguno es igual a 1, se genera un error."
   ]
  },
  {
   "cell_type": "code",
   "execution_count": 19,
   "metadata": {},
   "outputs": [],
   "source": [
    "import numpy as np\n",
    "\n",
    "a = np.array([1, 2, 3]) # Forma (3,)\n",
    "b = np.array([[10], [20], [30]]) # Forma (3, 1)\n",
    "\n",
    "# a se estira a (3, 3) y b se estira a (3, 3)\n",
    "c = a + b\n",
    "# Resultado:\n",
    "# array([[11, 12, 13],\n",
    "#        [21, 22, 23],\n",
    "#        [31, 32, 33]])\n"
   ]
  },
  {
   "attachments": {},
   "cell_type": "markdown",
   "metadata": {},
   "source": [
    "# Equivalencias con R"
   ]
  },
  {
   "attachments": {},
   "cell_type": "markdown",
   "metadata": {},
   "source": [
    "apply, sweep, aperm"
   ]
  },
  {
   "attachments": {},
   "cell_type": "markdown",
   "metadata": {},
   "source": [
    "apply \n",
    "\n",
    "La función apply en R es utilizada para aplicar una función a los márgenes de una matriz o array. En NumPy, puedes lograr un comportamiento similar utilizando la función np.apply_along_axis.\n",
    "\n",
    "La función np.apply_along_axis aplica una función a lo largo del eje especificado de un array. La función toma tres argumentos principales: la función que quieres aplicar, el eje a lo largo del cual quieres aplicar la función, y el array en sí.\n",
    "\n",
    "Aquí tienes un ejemplo que muestra cómo puedes usar np.apply_along_axis para replicar el comportamiento de apply en R:"
   ]
  },
  {
   "cell_type": "code",
   "execution_count": 20,
   "metadata": {},
   "outputs": [],
   "source": [
    "import numpy as np\n",
    "\n",
    "# Definiendo una función que quieres aplicar\n",
    "def my_function(x):\n",
    "    return x.mean()\n",
    "\n",
    "# Creando un array 2D\n",
    "array = np.array([[1, 2, 3],\n",
    "                  [4, 5, 6],\n",
    "                  [7, 8, 9]])\n",
    "\n",
    "# Aplicando la función a lo largo del eje 0 (columnas)\n",
    "result_along_axis0 = np.apply_along_axis(my_function, axis=0, arr=array)\n",
    "# Resultado: array([4., 5., 6.])\n",
    "\n",
    "# Aplicando la función a lo largo del eje 1 (filas)\n",
    "result_along_axis1 = np.apply_along_axis(my_function, axis=1, arr=array)\n",
    "# Resultado: array([2., 5., 8.])\n"
   ]
  },
  {
   "attachments": {},
   "cell_type": "markdown",
   "metadata": {},
   "source": [
    "# Random y distribuciones\n",
    "\n",
    "En NumPy, puedes establecer la semilla para la generación de números aleatorios utilizando numpy.random.seed(). Esta función asegura que los resultados aleatorios sean reproducibles. Es equivalente al set.seed() de R."
   ]
  },
  {
   "cell_type": "code",
   "execution_count": null,
   "metadata": {},
   "outputs": [],
   "source": [
    "np.random.seed(42)"
   ]
  },
  {
   "attachments": {},
   "cell_type": "markdown",
   "metadata": {},
   "source": [
    "Después de establecer la semilla, cualquier función que utilice la generación de números aleatorios de NumPy producirá los mismos resultados cada vez que se ejecute, siempre que se inicie con la misma semilla."
   ]
  },
  {
   "cell_type": "code",
   "execution_count": 33,
   "metadata": {},
   "outputs": [
    {
     "name": "stdout",
     "output_type": "stream",
     "text": [
      "[0.37454012 0.95071431 0.73199394 0.59865848 0.15601864]\n"
     ]
    }
   ],
   "source": [
    "np.random.seed(42)\n",
    "print(np.random.rand(5))  # Genera 5 números aleatorios entre 0 y 1"
   ]
  },
  {
   "attachments": {},
   "cell_type": "markdown",
   "metadata": {},
   "source": [
    "1. Generación Básica de Números Aleatorios\n",
    "\n",
    "a. Números Aleatorios Uniformes\n",
    "\n",
    "Para generar números aleatorios entre 0 y 1 (distribución uniforme):"
   ]
  },
  {
   "cell_type": "code",
   "execution_count": 35,
   "metadata": {},
   "outputs": [
    {
     "data": {
      "text/plain": [
       "array([0.37454012, 0.95071431, 0.73199394, 0.59865848, 0.15601864])"
      ]
     },
     "execution_count": 35,
     "metadata": {},
     "output_type": "execute_result"
    }
   ],
   "source": [
    "np.random.seed(42)\n",
    "np.random.rand(5)  # Genera 5 números aleatorios entre 0 y 1"
   ]
  },
  {
   "attachments": {},
   "cell_type": "markdown",
   "metadata": {},
   "source": [
    "b. Números Aleatorios Enteros\n",
    "\n",
    "Equivalente a sample en R, puedes usar `np.random.choice` o `np.random.randint`:"
   ]
  },
  {
   "cell_type": "code",
   "execution_count": 36,
   "metadata": {},
   "outputs": [
    {
     "data": {
      "text/plain": [
       "array([7, 7, 2, 5, 4])"
      ]
     },
     "execution_count": 36,
     "metadata": {},
     "output_type": "execute_result"
    }
   ],
   "source": [
    "np.random.choice(10, 5)  # Elige 5 números aleatorios entre 0 y 9\n",
    "np.random.randint(0, 10, 5)  # Genera 5 números aleatorios entre 0 (inclusive) y 10 (exclusivo)\n"
   ]
  },
  {
   "attachments": {},
   "cell_type": "markdown",
   "metadata": {},
   "source": [
    "2. Generación de Números Aleatorios de Distribuciones Estadísticas\n",
    "\n",
    "NumPy proporciona funciones para generar números aleatorios de muchas distribuciones estadísticas comunes:\n",
    "\n",
    "a. Distribución Normal (Gaussiana)"
   ]
  },
  {
   "cell_type": "code",
   "execution_count": 37,
   "metadata": {},
   "outputs": [
    {
     "data": {
      "text/plain": [
       "array([ 0.95036968,  0.81644508, -1.523876  , -0.42804606, -0.74240684])"
      ]
     },
     "execution_count": 37,
     "metadata": {},
     "output_type": "execute_result"
    }
   ],
   "source": [
    "np.random.randn(5)  # 5 números aleatorios de una distribución normal estándar (media=0, desviación estándar=1)\n",
    "np.random.normal(loc=0, scale=1, size=5)  # Especificando media (loc) y desviación estándar (scale)\n"
   ]
  },
  {
   "attachments": {},
   "cell_type": "markdown",
   "metadata": {},
   "source": [
    "b. Distribución Binomial"
   ]
  },
  {
   "cell_type": "code",
   "execution_count": 38,
   "metadata": {},
   "outputs": [
    {
     "data": {
      "text/plain": [
       "array([4, 5, 6, 4, 5])"
      ]
     },
     "execution_count": 38,
     "metadata": {},
     "output_type": "execute_result"
    }
   ],
   "source": [
    "n, p = 10, 0.5\n",
    "np.random.binomial(n, p, 5)  # 5 números aleatorios de una distribución binomial con n intentos y probabilidad p"
   ]
  },
  {
   "attachments": {},
   "cell_type": "markdown",
   "metadata": {},
   "source": [
    "c. Distribución Poisson"
   ]
  },
  {
   "cell_type": "code",
   "execution_count": 39,
   "metadata": {},
   "outputs": [
    {
     "data": {
      "text/plain": [
       "array([1, 2, 4, 2, 1])"
      ]
     },
     "execution_count": 39,
     "metadata": {},
     "output_type": "execute_result"
    }
   ],
   "source": [
    "lambda_p = 3\n",
    "np.random.poisson(lambda_p, 5)  # 5 números aleatorios de una distribución Poisson con lambda lambda_p\n"
   ]
  },
  {
   "attachments": {},
   "cell_type": "markdown",
   "metadata": {},
   "source": [
    "d. Distribución Exponencial"
   ]
  },
  {
   "cell_type": "code",
   "execution_count": 40,
   "metadata": {},
   "outputs": [
    {
     "data": {
      "text/plain": [
       "array([2.40042289, 0.29945778, 1.0862558 , 0.37354658, 0.7341109 ])"
      ]
     },
     "execution_count": 40,
     "metadata": {},
     "output_type": "execute_result"
    }
   ],
   "source": [
    "scale = 1.0\n",
    "np.random.exponential(scale, 5)  # 5 números aleatorios de una distribución exponencial\n"
   ]
  },
  {
   "attachments": {},
   "cell_type": "markdown",
   "metadata": {},
   "source": [
    "... y muchas otras distribuciones (gamma, beta, chi cuadrado, etc.)"
   ]
  },
  {
   "attachments": {},
   "cell_type": "markdown",
   "metadata": {},
   "source": [
    "3. Permutaciones y Mezcla de Arrays\n",
    "\n",
    "a. Mezcla de Arrays (Shuffle)"
   ]
  },
  {
   "cell_type": "code",
   "execution_count": 41,
   "metadata": {},
   "outputs": [],
   "source": [
    "arr = np.arange(10)\n",
    "np.random.shuffle(arr)  # Mezcla el array en su lugar\n"
   ]
  },
  {
   "attachments": {},
   "cell_type": "markdown",
   "metadata": {},
   "source": [
    "b. Permutación de Arrays"
   ]
  },
  {
   "cell_type": "code",
   "execution_count": 42,
   "metadata": {},
   "outputs": [],
   "source": [
    "arr = np.arange(10)\n",
    "permuted_arr = np.random.permutation(arr)  # Devuelve un array permutado\n"
   ]
  },
  {
   "attachments": {},
   "cell_type": "markdown",
   "metadata": {},
   "source": [
    "# Ejemplo"
   ]
  },
  {
   "cell_type": "code",
   "execution_count": 21,
   "metadata": {},
   "outputs": [
    {
     "data": {
      "text/plain": [
       "['media_data', 'extra_features', 'costs']"
      ]
     },
     "execution_count": 21,
     "metadata": {},
     "output_type": "execute_result"
    }
   ],
   "source": [
    "# Cargando el primer archivo: \"lightweight_data.npz\"\n",
    "import numpy as np\n",
    "\n",
    "# Cargando el archivo\n",
    "lightweight_data = np.load(gs.the_files.DATA_LIGHTWEIGHT)\n",
    "\n",
    "# Obteniendo los nombres de los arrays dentro del archivo\n",
    "lightweight_data_files = lightweight_data.files\n",
    "lightweight_data_files\n"
   ]
  },
  {
   "cell_type": "code",
   "execution_count": 22,
   "metadata": {},
   "outputs": [
    {
     "data": {
      "text/plain": [
       "['channel_coef_media',\n",
       " 'coef_extra_features',\n",
       " 'coef_media',\n",
       " 'coef_seasonality',\n",
       " 'coef_trend',\n",
       " 'expo_trend',\n",
       " 'gamma_seasonality',\n",
       " 'half_max_effective_concentration',\n",
       " 'intercept',\n",
       " 'lag_weight',\n",
       " 'media_transformed',\n",
       " 'mu',\n",
       " 'sigma',\n",
       " 'slope']"
      ]
     },
     "execution_count": 22,
     "metadata": {},
     "output_type": "execute_result"
    }
   ],
   "source": [
    "# Cargando el segundo archivo: \"lightweight_traze.npz\"\n",
    "lightweight_traze = np.load(gs.the_files.TRAZE_LIGHTWEIGHT)\n",
    "\n",
    "# Obteniendo los nombres de los arrays dentro del archivo\n",
    "lightweight_traze_files = lightweight_traze.files\n",
    "lightweight_traze_files\n"
   ]
  },
  {
   "cell_type": "code",
   "execution_count": 23,
   "metadata": {},
   "outputs": [
    {
     "name": "stdout",
     "output_type": "stream",
     "text": [
      "(160, 3, 5)\n",
      "(2000, 3, 5)\n"
     ]
    }
   ],
   "source": [
    "# Extrayendo los arrays\n",
    "media_data = lightweight_data['media_data']\n",
    "print(media_data.shape)\n",
    "\n",
    "coef_media = lightweight_traze['coef_media']\n",
    "print(coef_media.shape)"
   ]
  },
  {
   "cell_type": "code",
   "execution_count": 24,
   "metadata": {},
   "outputs": [
    {
     "data": {
      "text/plain": [
       "(2000, 160, 3, 5)"
      ]
     },
     "execution_count": 24,
     "metadata": {},
     "output_type": "execute_result"
    }
   ],
   "source": [
    "# Inicializando una lista para almacenar los resultados parciales\n",
    "result_list = []\n",
    "\n",
    "# Iterando a través de cada componente 3x5 en coef_media y multiplicándolo elemento a elemento con media_data\n",
    "for i in range(coef_media.shape[0]):\n",
    "    partial_result = media_data * coef_media[i]\n",
    "    result_list.append(partial_result)\n",
    "\n",
    "# Apilando los resultados para obtener el array final\n",
    "final_result = np.stack(result_list)\n",
    "\n",
    "# Verificando la forma del resultado final\n",
    "final_result_shape = final_result.shape\n",
    "final_result_shape\n",
    "\n",
    "# Si las dimensiones son i, j, k l:\n",
    "# Tenemos 2000 \"rebanadas\", cada una es una muestra:\n",
    "# - j = Fecha, k = medio, l = geo\n"
   ]
  },
  {
   "cell_type": "code",
   "execution_count": 25,
   "metadata": {},
   "outputs": [
    {
     "data": {
      "text/plain": [
       "(2000, 160, 5)"
      ]
     },
     "execution_count": 25,
     "metadata": {},
     "output_type": "execute_result"
    }
   ],
   "source": [
    "# Sumando a lo largo de la tercera dimensión (axis=2) - medio\n",
    "summed_result = np.sum(final_result, axis=2)\n",
    "\n",
    "# Verificando la forma del resultado sumado\n",
    "summed_result_shape = summed_result.shape\n",
    "summed_result_shape\n",
    "\n",
    "# Obtenemos las contribuciones de todos los medios\n",
    "# Quedan 2000 muestras j = fecha, l = geo\n"
   ]
  },
  {
   "cell_type": "code",
   "execution_count": 26,
   "metadata": {},
   "outputs": [
    {
     "data": {
      "text/plain": [
       "(160, 5)"
      ]
     },
     "execution_count": 26,
     "metadata": {},
     "output_type": "execute_result"
    }
   ],
   "source": [
    "median_results = np.median(summed_result, axis = 0)\n",
    "median_results.shape\n",
    "\n",
    "# Obtenemos las contribuciones medianas\n",
    "# j = fecha, i = geo"
   ]
  },
  {
   "cell_type": "code",
   "execution_count": 27,
   "metadata": {},
   "outputs": [
    {
     "name": "stdout",
     "output_type": "stream",
     "text": [
      "(2000, 2, 5)\n"
     ]
    }
   ],
   "source": [
    "coef_extra_features = lightweight_traze['coef_extra_features']\n",
    "print(coef_extra_features.shape)"
   ]
  },
  {
   "cell_type": "code",
   "execution_count": null,
   "metadata": {},
   "outputs": [],
   "source": []
  },
  {
   "cell_type": "code",
   "execution_count": 28,
   "metadata": {},
   "outputs": [
    {
     "data": {
      "text/plain": [
       "(2000, 5, 5)"
      ]
     },
     "execution_count": 28,
     "metadata": {},
     "output_type": "execute_result"
    }
   ],
   "source": [
    "coef_media_extra_features = np.concatenate([coef_media, coef_extra_features], axis = 1)\n",
    "coef_media_extra_features.shape"
   ]
  },
  {
   "cell_type": "code",
   "execution_count": 29,
   "metadata": {},
   "outputs": [
    {
     "name": "stdout",
     "output_type": "stream",
     "text": [
      "(160, 2, 5)\n"
     ]
    }
   ],
   "source": [
    "extra_features_data = lightweight_data['extra_features']\n",
    "print(extra_features_data.shape)"
   ]
  },
  {
   "cell_type": "code",
   "execution_count": 30,
   "metadata": {},
   "outputs": [
    {
     "name": "stdout",
     "output_type": "stream",
     "text": [
      "(160, 5, 5)\n"
     ]
    }
   ],
   "source": [
    "media_extra_features_data = np.concatenate([media_data, extra_features_data], axis = 1)\n",
    "print(media_extra_features_data.shape)"
   ]
  }
 ],
 "metadata": {
  "kernelspec": {
   "display_name": ".venv",
   "language": "python",
   "name": "python3"
  },
  "language_info": {
   "codemirror_mode": {
    "name": "ipython",
    "version": 3
   },
   "file_extension": ".py",
   "mimetype": "text/x-python",
   "name": "python",
   "nbconvert_exporter": "python",
   "pygments_lexer": "ipython3",
   "version": "3.11.2"
  },
  "orig_nbformat": 4
 },
 "nbformat": 4,
 "nbformat_minor": 2
}
