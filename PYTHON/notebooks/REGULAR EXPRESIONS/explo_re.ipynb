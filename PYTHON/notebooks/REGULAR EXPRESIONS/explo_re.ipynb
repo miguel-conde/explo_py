{
 "cells": [
  {
   "attachments": {},
   "cell_type": "markdown",
   "metadata": {},
   "source": [
    " Las expresiones regulares (o regex) son una herramienta poderosa para trabajar con cadenas de texto. Permiten buscar, coincidir y manipular texto de manera muy flexible. En Python, el módulo re proporciona funciones para trabajar con expresiones regulares.\n",
    "\n",
    "# Expresiones regulares en Python: Mini-curso"
   ]
  },
  {
   "attachments": {},
   "cell_type": "markdown",
   "metadata": {},
   "source": [
    "\n",
    "1. Conceptos básicos de regex:\n"
   ]
  },
  {
   "attachments": {},
   "cell_type": "markdown",
   "metadata": {},
   "source": [
    "\n",
    "Metacaracteres: Son caracteres con un significado especial:\n",
    "\n",
    "+ .: Coincide con cualquier carácter, excepto un salto de línea.\n",
    "+ ^: Coincide con el inicio de la cadena.\n",
    "+ $: Coincide con el final de la cadena.\n",
    "+ *: Coincide con 0 o más repeticiones del patrón anterior.\n",
    "+ +: Coincide con 1 o más repeticiones del patrón anterior.\n",
    "+ ?: Coincide con 0 o 1 repetición del patrón anterior.\n",
    "+ {n}: Coincide exactamente con n repeticiones.\n",
    "+ {n,}: Coincide con n o más repeticiones.\n",
    "+ {,m}: Coincide con m o menos repeticiones.\n",
    "+ {n,m}: Coincide entre n y m repeticiones.\n",
    "+ \\: Se utiliza para escapar metacaracteres.\n",
    "+ []: Define un conjunto de caracteres.\n",
    "+ |: Operador \"o\".\n",
    "+ (): Agrupa patrones.\n"
   ]
  },
  {
   "attachments": {},
   "cell_type": "markdown",
   "metadata": {},
   "source": [
    "\n",
    "Conjuntos predefinidos:\n",
    "\n",
    "+ \\d: Coincide con cualquier dígito. Equivalente a [0-9].\n",
    "+ \\D: Coincide con cualquier carácter no dígito.\n",
    "+ \\s: Coincide con cualquier carácter de espacio en blanco.\n",
    "+ \\S: Coincide con cualquier carácter no espacio en blanco.\n",
    "+ \\w: Coincide con cualquier carácter alfanumérico. Equivalente a [a-zA-Z0-9_].\n",
    "+ \\W: Coincide con cualquier carácter no alfanumérico.\n"
   ]
  },
  {
   "attachments": {},
   "cell_type": "markdown",
   "metadata": {},
   "source": [
    "\n",
    "2. Funciones principales del módulo re:\n",
    "+ re.search(): Busca una coincidencia en cualquier parte de la cadena.\n",
    "+ re.match(): Busca una coincidencia solo al principio de la cadena.\n",
    "+ re.findall(): Devuelve todas las coincidencias en una lista.\n",
    "+ re.finditer(): Devuelve un iterador con todas las coincidencias.\n",
    "+ re.sub(): Sustituye las coincidencias con una cadena.\n"
   ]
  },
  {
   "attachments": {},
   "cell_type": "markdown",
   "metadata": {},
   "source": [
    "\n",
    "3. Ejemplos prácticos:\n"
   ]
  },
  {
   "attachments": {},
   "cell_type": "markdown",
   "metadata": {},
   "source": [
    "\n",
    "a. Búsqueda básica"
   ]
  },
  {
   "cell_type": "code",
   "execution_count": 1,
   "metadata": {},
   "outputs": [
    {
     "name": "stdout",
     "output_type": "stream",
     "text": [
      "12345\n"
     ]
    }
   ],
   "source": [
    "import re\n",
    "\n",
    "texto = \"El número es 12345.\"\n",
    "coincidencia = re.search(r'\\d+', texto)\n",
    "if coincidencia:\n",
    "    print(coincidencia.group())  # Salida: 12345\n"
   ]
  },
  {
   "cell_type": "code",
   "execution_count": 5,
   "metadata": {},
   "outputs": [
    {
     "data": {
      "text/plain": [
       "['__repr__',\n",
       " '__getitem__',\n",
       " 'group',\n",
       " 'start',\n",
       " 'end',\n",
       " 'span',\n",
       " 'groups',\n",
       " 'groupdict',\n",
       " 'expand',\n",
       " '__copy__',\n",
       " '__deepcopy__',\n",
       " '__class_getitem__',\n",
       " 'string',\n",
       " 're',\n",
       " 'pos',\n",
       " 'endpos',\n",
       " 'lastindex',\n",
       " 'lastgroup',\n",
       " 'regs',\n",
       " '__doc__',\n",
       " '__module__',\n",
       " '__new__',\n",
       " '__hash__',\n",
       " '__str__',\n",
       " '__getattribute__',\n",
       " '__setattr__',\n",
       " '__delattr__',\n",
       " '__lt__',\n",
       " '__le__',\n",
       " '__eq__',\n",
       " '__ne__',\n",
       " '__gt__',\n",
       " '__ge__',\n",
       " '__init__',\n",
       " '__reduce_ex__',\n",
       " '__reduce__',\n",
       " '__getstate__',\n",
       " '__subclasshook__',\n",
       " '__init_subclass__',\n",
       " '__format__',\n",
       " '__sizeof__',\n",
       " '__dir__',\n",
       " '__class__']"
      ]
     },
     "execution_count": 5,
     "metadata": {},
     "output_type": "execute_result"
    }
   ],
   "source": [
    "coincidencia.__dir__()"
   ]
  },
  {
   "cell_type": "code",
   "execution_count": 8,
   "metadata": {},
   "outputs": [
    {
     "name": "stdout",
     "output_type": "stream",
     "text": [
      "['12345', '6789']\n"
     ]
    }
   ],
   "source": [
    "texto = \"El número es 12345, 6789.\"\n",
    "coincidencia = re.findall(r'\\d+', texto)\n",
    "if coincidencia:\n",
    "    print(coincidencia)  #"
   ]
  },
  {
   "cell_type": "code",
   "execution_count": 7,
   "metadata": {},
   "outputs": [
    {
     "data": {
      "text/plain": [
       "['12345', '6789']"
      ]
     },
     "execution_count": 7,
     "metadata": {},
     "output_type": "execute_result"
    }
   ],
   "source": [
    "coincidencia"
   ]
  },
  {
   "cell_type": "code",
   "execution_count": 11,
   "metadata": {},
   "outputs": [
    {
     "name": "stdout",
     "output_type": "stream",
     "text": [
      "12345\n",
      "6789\n"
     ]
    }
   ],
   "source": [
    "texto = \"El número es 12345, 6789.\"\n",
    "coincidencia = re.finditer(r'\\d+', texto)\n",
    "if coincidencia:\n",
    "    for num in coincidencia:\n",
    "        print(num.group())  #"
   ]
  },
  {
   "attachments": {},
   "cell_type": "markdown",
   "metadata": {},
   "source": [
    "b. Uso de grupos"
   ]
  },
  {
   "cell_type": "code",
   "execution_count": 12,
   "metadata": {},
   "outputs": [
    {
     "name": "stdout",
     "output_type": "stream",
     "text": [
      "(123)\n",
      "456-7890\n"
     ]
    }
   ],
   "source": [
    "texto = \"Mi número de teléfono es (123) 456-7890.\"\n",
    "coincidencia = re.search(r'(\\(\\d{3}\\)) (\\d{3}-\\d{4})', texto)\n",
    "if coincidencia:\n",
    "    print(coincidencia.group(1))  # Salida: (123)\n",
    "    print(coincidencia.group(2))  # Salida: 456-7890\n"
   ]
  },
  {
   "attachments": {},
   "cell_type": "markdown",
   "metadata": {},
   "source": [
    "c. Sustitución"
   ]
  },
  {
   "cell_type": "code",
   "execution_count": 13,
   "metadata": {},
   "outputs": [
    {
     "name": "stdout",
     "output_type": "stream",
     "text": [
      "blue, yellow, green\n"
     ]
    }
   ],
   "source": [
    "texto = \"blue, red, green\"\n",
    "nuevo_texto = re.sub(r'red', 'yellow', texto)\n",
    "print(nuevo_texto)  # Salida: blue, yellow, green\n"
   ]
  },
  {
   "attachments": {},
   "cell_type": "markdown",
   "metadata": {},
   "source": [
    "4. Flags:\n",
    "\n",
    "Los flags modifican el comportamiento de las expresiones regulares. Algunos comunes incluyen:\n",
    "\n",
    "+ re.IGNORECASE o re.I: Hace que la búsqueda sea insensible a mayúsculas/minúsculas.\n",
    "+ re.MULTILINE o re.M: Hace que ^ y $ coincidan con el inicio y el final de cada línea."
   ]
  },
  {
   "cell_type": "code",
   "execution_count": 14,
   "metadata": {},
   "outputs": [
    {
     "name": "stdout",
     "output_type": "stream",
     "text": [
      "['Hello', 'hello']\n"
     ]
    }
   ],
   "source": [
    "texto = \"Hello world\\nhello Python\"\n",
    "coincidencias = re.findall(r'^hello', texto, re.I | re.M)\n",
    "print(coincidencias)  # Salida: ['Hello', 'hello']\n"
   ]
  }
 ],
 "metadata": {
  "kernelspec": {
   "display_name": ".venv",
   "language": "python",
   "name": "python3"
  },
  "language_info": {
   "codemirror_mode": {
    "name": "ipython",
    "version": 3
   },
   "file_extension": ".py",
   "mimetype": "text/x-python",
   "name": "python",
   "nbconvert_exporter": "python",
   "pygments_lexer": "ipython3",
   "version": "3.11.2"
  },
  "orig_nbformat": 4
 },
 "nbformat": 4,
 "nbformat_minor": 2
}
