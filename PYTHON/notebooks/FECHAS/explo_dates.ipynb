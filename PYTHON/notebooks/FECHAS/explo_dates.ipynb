{
 "cells": [
  {
   "attachments": {},
   "cell_type": "markdown",
   "metadata": {},
   "source": [
    "# Tratamiento de fechas en Python puro\n"
   ]
  },
  {
   "attachments": {},
   "cell_type": "markdown",
   "metadata": {},
   "source": [
    "\n",
    "1. Módulo `datetime`\n",
    "\n",
    "Python tiene un módulo incorporado llamado `datetime` que te permite trabajar con fechas y tiempos. Las clases más utilizadas dentro de este módulo son `date`, `time`, `datetime`, `timedelta` y `tzinfo`.\n"
   ]
  },
  {
   "attachments": {},
   "cell_type": "markdown",
   "metadata": {},
   "source": [
    "\n",
    "a. Crear una fecha"
   ]
  },
  {
   "cell_type": "code",
   "execution_count": 1,
   "metadata": {},
   "outputs": [
    {
     "name": "stdout",
     "output_type": "stream",
     "text": [
      "2023-08-31\n"
     ]
    }
   ],
   "source": [
    "from datetime import date\n",
    "fecha = date(2023, 8, 31)\n",
    "print(fecha)\n"
   ]
  },
  {
   "attachments": {},
   "cell_type": "markdown",
   "metadata": {},
   "source": [
    "b. Obtener la fecha actual"
   ]
  },
  {
   "cell_type": "code",
   "execution_count": 2,
   "metadata": {},
   "outputs": [
    {
     "name": "stdout",
     "output_type": "stream",
     "text": [
      "2023-08-31 12:55:03.957832\n"
     ]
    }
   ],
   "source": [
    "from datetime import datetime\n",
    "hoy = datetime.now()\n",
    "print(hoy)\n"
   ]
  },
  {
   "attachments": {},
   "cell_type": "markdown",
   "metadata": {},
   "source": [
    "c. Diferencia entre fechas"
   ]
  },
  {
   "cell_type": "code",
   "execution_count": 3,
   "metadata": {},
   "outputs": [
    {
     "name": "stdout",
     "output_type": "stream",
     "text": [
      "5\n"
     ]
    }
   ],
   "source": [
    "fecha1 = date(2023, 8, 31)\n",
    "fecha2 = date(2023, 9, 5)\n",
    "diferencia = fecha2 - fecha1\n",
    "print(diferencia.days)\n"
   ]
  },
  {
   "attachments": {},
   "cell_type": "markdown",
   "metadata": {},
   "source": [
    "d. Sumar o restar días a una fecha"
   ]
  },
  {
   "cell_type": "code",
   "execution_count": 4,
   "metadata": {},
   "outputs": [
    {
     "name": "stdout",
     "output_type": "stream",
     "text": [
      "2023-09-05\n"
     ]
    }
   ],
   "source": [
    "from datetime import timedelta\n",
    "fecha = date(2023, 8, 31)\n",
    "nueva_fecha = fecha + timedelta(days=5)\n",
    "print(nueva_fecha)\n"
   ]
  },
  {
   "attachments": {},
   "cell_type": "markdown",
   "metadata": {},
   "source": [
    "2. Formateo de fechas\n",
    "\n",
    "Con el método strftime(), puedes convertir objetos de fecha y hora en cadenas de texto con el formato que desees."
   ]
  },
  {
   "cell_type": "code",
   "execution_count": 5,
   "metadata": {},
   "outputs": [
    {
     "name": "stdout",
     "output_type": "stream",
     "text": [
      "2023-08-31 13:04:03\n"
     ]
    }
   ],
   "source": [
    "hoy = datetime.now()\n",
    "formatted_date = hoy.strftime('%Y-%m-%d %H:%M:%S')\n",
    "print(formatted_date)\n"
   ]
  },
  {
   "attachments": {},
   "cell_type": "markdown",
   "metadata": {},
   "source": [
    "3. Parseo de fechas\n",
    "\n",
    "Para convertir una cadena de texto en un objeto de fecha, puedes usar el método strptime()."
   ]
  },
  {
   "cell_type": "code",
   "execution_count": 6,
   "metadata": {},
   "outputs": [
    {
     "name": "stdout",
     "output_type": "stream",
     "text": [
      "2023-08-31 20:00:00\n"
     ]
    }
   ],
   "source": [
    "fecha_str = \"2023-08-31 20:00:00\"\n",
    "fecha_obj = datetime.strptime(fecha_str, '%Y-%m-%d %H:%M:%S')\n",
    "print(fecha_obj)\n"
   ]
  },
  {
   "attachments": {},
   "cell_type": "markdown",
   "metadata": {},
   "source": [
    "# Tratamiento de fechas en Pandas\n",
    "Pandas es una biblioteca de Python que proporciona estructuras de datos y herramientas de análisis de datos. Es ampliamente utilizado para manipular datos tabulares."
   ]
  },
  {
   "attachments": {},
   "cell_type": "markdown",
   "metadata": {},
   "source": [
    "1. Convertir una columna a tipo datetime"
   ]
  },
  {
   "cell_type": "code",
   "execution_count": 7,
   "metadata": {},
   "outputs": [
    {
     "name": "stdout",
     "output_type": "stream",
     "text": [
      "fecha    datetime64[ns]\n",
      "dtype: object\n"
     ]
    }
   ],
   "source": [
    "import pandas as pd\n",
    "df = pd.DataFrame({'fecha': ['2023-08-31', '2023-09-01', '2023-09-02']})\n",
    "df['fecha'] = pd.to_datetime(df['fecha'])\n",
    "print(df.dtypes)\n"
   ]
  },
  {
   "attachments": {},
   "cell_type": "markdown",
   "metadata": {},
   "source": [
    "2. Extraer partes de una fecha"
   ]
  },
  {
   "cell_type": "code",
   "execution_count": 8,
   "metadata": {},
   "outputs": [],
   "source": [
    "df['año'] = df['fecha'].dt.year\n",
    "df['mes'] = df['fecha'].dt.month\n",
    "df['día'] = df['fecha'].dt.day\n"
   ]
  },
  {
   "attachments": {},
   "cell_type": "markdown",
   "metadata": {},
   "source": [
    "3. Filtrar por fechas"
   ]
  },
  {
   "cell_type": "code",
   "execution_count": 10,
   "metadata": {},
   "outputs": [],
   "source": [
    "start_date = '2023-08-31'\n",
    "end_date = '2023-09-01'\n",
    "mask = (df['fecha'] >= start_date) & (df['fecha'] <= end_date)\n",
    "filtered_df = df[mask]\n"
   ]
  },
  {
   "attachments": {},
   "cell_type": "markdown",
   "metadata": {},
   "source": [
    "4. Diferencia entre fechas\n",
    "\n"
   ]
  },
  {
   "cell_type": "code",
   "execution_count": 9,
   "metadata": {},
   "outputs": [],
   "source": [
    "df['diferencia'] = df['fecha'] - df['fecha'].shift(1)\n"
   ]
  },
  {
   "attachments": {},
   "cell_type": "markdown",
   "metadata": {},
   "source": [
    "5. Setear fechas como índice"
   ]
  },
  {
   "cell_type": "code",
   "execution_count": 11,
   "metadata": {},
   "outputs": [],
   "source": [
    "df.set_index('fecha', inplace=True)\n"
   ]
  },
  {
   "attachments": {},
   "cell_type": "markdown",
   "metadata": {},
   "source": [
    "# Zonas horarias"
   ]
  },
  {
   "attachments": {},
   "cell_type": "markdown",
   "metadata": {},
   "source": [
    "## Tratamiento de zonas horarias en Python puro\n",
    "\n",
    "El módulo datetime de Python tiene una clase tzinfo que es la base para trabajar con zonas horarias. Sin embargo, su manejo directo puede ser un poco complicado. Por eso, a menudo se utiliza una biblioteca externa llamada pytz.\n"
   ]
  },
  {
   "attachments": {},
   "cell_type": "markdown",
   "metadata": {},
   "source": [
    "\n",
    "1. Uso de pytz\n",
    "\n",
    "Para usar pytz, primero debes instalarla (usualmente con pip install pytz). Una vez hecho esto, puedes utilizarla para localizar fechas y horas:"
   ]
  },
  {
   "cell_type": "code",
   "execution_count": 12,
   "metadata": {},
   "outputs": [],
   "source": [
    "import pytz\n",
    "from datetime import datetime\n",
    "\n",
    "# Crear una fecha/hora \"naive\" (sin información de zona horaria)\n",
    "naive_dt = datetime.now()\n",
    "\n",
    "# Localizarla en una zona horaria\n",
    "local_dt = pytz.timezone('Europe/Madrid').localize(naive_dt)\n",
    "\n",
    "# Convertirla a otra zona horaria\n",
    "new_york_dt = local_dt.astimezone(pytz.timezone('America/New_York'))\n"
   ]
  },
  {
   "cell_type": "code",
   "execution_count": 13,
   "metadata": {},
   "outputs": [
    {
     "data": {
      "text/plain": [
       "<DstTzInfo 'Europe/Madrid' LMT-1 day, 23:45:00 STD>"
      ]
     },
     "execution_count": 13,
     "metadata": {},
     "output_type": "execute_result"
    }
   ],
   "source": [
    "pytz.timezone('Europe/Madrid')"
   ]
  },
  {
   "cell_type": "code",
   "execution_count": 14,
   "metadata": {},
   "outputs": [
    {
     "data": {
      "text/plain": [
       "datetime.datetime(2023, 8, 31, 13, 14, 1, 460914)"
      ]
     },
     "execution_count": 14,
     "metadata": {},
     "output_type": "execute_result"
    }
   ],
   "source": [
    "naive_dt"
   ]
  },
  {
   "cell_type": "code",
   "execution_count": 15,
   "metadata": {},
   "outputs": [
    {
     "data": {
      "text/plain": [
       "datetime.datetime(2023, 8, 31, 13, 14, 1, 460914, tzinfo=<DstTzInfo 'Europe/Madrid' CEST+2:00:00 DST>)"
      ]
     },
     "execution_count": 15,
     "metadata": {},
     "output_type": "execute_result"
    }
   ],
   "source": [
    "pytz.timezone('Europe/Madrid').localize(naive_dt)"
   ]
  },
  {
   "attachments": {},
   "cell_type": "markdown",
   "metadata": {},
   "source": [
    "## Tratamiento de zonas horarias en Pandas\n",
    "Pandas también integra capacidades de manejo de zonas horarias, y es compatible con pytz.\n"
   ]
  },
  {
   "attachments": {},
   "cell_type": "markdown",
   "metadata": {},
   "source": [
    "\n",
    "1. Convertir una columna datetime a una zona horaria específica"
   ]
  },
  {
   "cell_type": "code",
   "execution_count": 16,
   "metadata": {},
   "outputs": [],
   "source": [
    "import pandas as pd\n",
    "\n",
    "# Supongamos un DataFrame con una columna datetime\n",
    "df = pd.DataFrame({'fecha': pd.date_range(start=\"2023-08-31\", periods=3, freq='D')})\n",
    "\n",
    "# Convertir la columna a una zona horaria\n",
    "df['fecha'] = df['fecha'].dt.tz_localize('Europe/Madrid')\n"
   ]
  },
  {
   "attachments": {},
   "cell_type": "markdown",
   "metadata": {},
   "source": [
    "2. Cambiar la zona horaria de una columna datetime"
   ]
  },
  {
   "cell_type": "code",
   "execution_count": 17,
   "metadata": {},
   "outputs": [],
   "source": [
    "df['fecha'] = df['fecha'].dt.tz_convert('America/New_York')\n"
   ]
  },
  {
   "attachments": {},
   "cell_type": "markdown",
   "metadata": {},
   "source": [
    "3. Manejo de fechas \"naive\" y \"aware\"\n",
    "\n",
    "Es importante distinguir entre fechas/horas \"naive\" (sin información de zona horaria) y \"aware\" (con información de zona horaria). Pandas permite trabajar con ambas, pero es esencial ser consciente de cuál estás usando para evitar errores."
   ]
  },
  {
   "attachments": {},
   "cell_type": "markdown",
   "metadata": {},
   "source": [
    "# Consejos al trabajar con zonas horarias:\n",
    "\n",
    "+ **Siempre se consciente de si estás trabajando con fechas \"naive\" o \"aware\".**\n",
    "+ **Cuando trabajes con bases de datos o APIs, verifica la zona horaria**. No asumas que siempre recibirás datos en UTC o en tu zona horaria local.\n",
    "+ **Si es posible, almacena fechas en UTC**. Esto hace que sea más fácil trabajar con fechas de diferentes zonas horarias y convertirlas según sea necesario.\n",
    "+ **Usa bibliotecas y herramientas adecuadas**. `pytz` y las capacidades de Pandas simplifican mucho el manejo de zonas horarias en Python."
   ]
  },
  {
   "cell_type": "code",
   "execution_count": 18,
   "metadata": {},
   "outputs": [
    {
     "data": {
      "text/html": [
       "<div>\n",
       "<style scoped>\n",
       "    .dataframe tbody tr th:only-of-type {\n",
       "        vertical-align: middle;\n",
       "    }\n",
       "\n",
       "    .dataframe tbody tr th {\n",
       "        vertical-align: top;\n",
       "    }\n",
       "\n",
       "    .dataframe thead th {\n",
       "        text-align: right;\n",
       "    }\n",
       "</style>\n",
       "<table border=\"1\" class=\"dataframe\">\n",
       "  <thead>\n",
       "    <tr style=\"text-align: right;\">\n",
       "      <th></th>\n",
       "      <th>fecha_local</th>\n",
       "      <th>fecha_utc</th>\n",
       "    </tr>\n",
       "  </thead>\n",
       "  <tbody>\n",
       "    <tr>\n",
       "      <th>0</th>\n",
       "      <td>2023-08-31 12:00:00+02:00</td>\n",
       "      <td>2023-08-31 10:00:00+00:00</td>\n",
       "    </tr>\n",
       "    <tr>\n",
       "      <th>1</th>\n",
       "      <td>2023-08-31 13:00:00+02:00</td>\n",
       "      <td>2023-08-31 11:00:00+00:00</td>\n",
       "    </tr>\n",
       "    <tr>\n",
       "      <th>2</th>\n",
       "      <td>2023-08-31 14:00:00+02:00</td>\n",
       "      <td>2023-08-31 12:00:00+00:00</td>\n",
       "    </tr>\n",
       "  </tbody>\n",
       "</table>\n",
       "</div>"
      ],
      "text/plain": [
       "                fecha_local                 fecha_utc\n",
       "0 2023-08-31 12:00:00+02:00 2023-08-31 10:00:00+00:00\n",
       "1 2023-08-31 13:00:00+02:00 2023-08-31 11:00:00+00:00\n",
       "2 2023-08-31 14:00:00+02:00 2023-08-31 12:00:00+00:00"
      ]
     },
     "execution_count": 18,
     "metadata": {},
     "output_type": "execute_result"
    }
   ],
   "source": [
    "import pandas as pd\n",
    "import pytz\n",
    "\n",
    "# Crear un DataFrame con fechas en la zona horaria de Madrid\n",
    "df = pd.DataFrame({\n",
    "    'fecha_local': pd.date_range(start=\"2023-08-31 12:00:00\", periods=3, freq='H')\n",
    "})\n",
    "\n",
    "# Localizar las fechas en la zona horaria de Madrid\n",
    "df['fecha_local'] = df['fecha_local'].dt.tz_localize('Europe/Madrid')\n",
    "\n",
    "# Convertir las fechas a UTC\n",
    "df['fecha_utc'] = df['fecha_local'].dt.tz_convert('UTC')\n",
    "\n",
    "df\n"
   ]
  },
  {
   "attachments": {},
   "cell_type": "markdown",
   "metadata": {},
   "source": [
    "UTC significa \"Coordinated Universal Time\" en inglés, o \"Tiempo Universal Coordinado\" en español. Aunque puede parecer extraño, las siglas no coinciden exactamente con las palabras en inglés debido a un compromiso entre las denominaciones en inglés y en francés (\"Temps Universel Coordonné\").\n",
    "\n",
    "Algunos puntos clave sobre UTC:\n",
    "\n",
    "1. Estándar de Tiempo: UTC es el estándar de tiempo primario en el mundo que regula los relojes y el tiempo. Es el punto de referencia a partir del cual se determinan las zonas horarias del mundo.\n",
    "\n",
    "2. No es afectado por el horario de verano: A diferencia de las zonas horarias locales, UTC no cambia con las estaciones. No se ajusta hacia adelante o hacia atrás para el horario de verano.\n",
    "\n",
    "3. Basado en Tiempos Atómicos: UTC está basado en el tiempo atómico internacional, con ajustes ocasionales de segundos intercalares para compensar las pequeñas variaciones en la rotación de la Tierra.\n",
    "\n",
    "4. GMT vs. UTC: A menudo se escucha la referencia a GMT (Greenwich Mean Time) y se puede pensar que es lo mismo que UTC. Históricamente, GMT se usó como el estándar internacional para la referencia de tiempo, pero fue reemplazado por UTC en 1960 para permitir un tiempo más preciso con tecnologías modernas. Aunque en la práctica cotidiana, especialmente en contextos civiles, GMT y UTC suelen considerarse equivalentes, técnicamente hay diferencias entre ambos.\n",
    "\n",
    "5. Uso en Computación: En informática y en sistemas que requieren precisión temporal, es común almacenar y hacer referencia a las fechas y horas en UTC, especialmente en sistemas distribuidos o aplicaciones que se usan en diferentes zonas horarias. Posteriormente, se pueden convertir a la zona horaria local del usuario o sistema cuando se necesite mostrarlas.\n",
    "\n",
    "En resumen, UTC es esencial para garantizar la precisión y la coordinación del tiempo en todo el mundo, y es fundamental en muchos campos, desde la navegación y la aeronáutica hasta la informática y las telecomunicaciones."
   ]
  },
  {
   "attachments": {},
   "cell_type": "markdown",
   "metadata": {},
   "source": [
    "\n",
    "\"Zulu Time\" es otro término que se utiliza para referirse a UTC (Coordinated Universal Time). La palabra \"Zulu\" proviene del uso de la letra \"Z\" como sufijo en las notaciones de tiempo para denotar UTC. Por ejemplo, \"06:00Z\" significa \"06:00 UTC\".\n",
    "\n",
    "El sistema de notación que usa letras para zonas horarias es parte del alfabeto fonético de la OTAN, donde \"Zulu\" es la palabra para la letra \"Z\". En este sistema:\n",
    "\n",
    "+ \"Alpha Time\" (+1 hora de UTC) corresponde a \"A\",\n",
    "+ \"Bravo Time\" (+2 horas de UTC) corresponde a \"B\",\n",
    "+ ... y así sucesivamente.\n",
    "\n",
    "\"Zulu Time\" es comúnmente utilizado en la aviación, el ejército y otras disciplinas y profesiones que requieren una precisión de tiempo coordinada a nivel mundial. En estos contextos, es esencial que no haya ambigüedad sobre la hora, especialmente cuando se operan vuelos o se llevan a cabo operaciones en diferentes zonas horarias. Al referirse a \"Zulu Time\", todos saben que se está hablando de UTC, sin importar dónde se encuentren en el mundo."
   ]
  },
  {
   "cell_type": "code",
   "execution_count": null,
   "metadata": {},
   "outputs": [],
   "source": []
  }
 ],
 "metadata": {
  "kernelspec": {
   "display_name": ".venv",
   "language": "python",
   "name": "python3"
  },
  "language_info": {
   "codemirror_mode": {
    "name": "ipython",
    "version": 3
   },
   "file_extension": ".py",
   "mimetype": "text/x-python",
   "name": "python",
   "nbconvert_exporter": "python",
   "pygments_lexer": "ipython3",
   "version": "3.11.2"
  },
  "orig_nbformat": 4
 },
 "nbformat": 4,
 "nbformat_minor": 2
}
