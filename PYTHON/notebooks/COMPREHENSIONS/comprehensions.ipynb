{
 "cells": [
  {
   "cell_type": "markdown",
   "metadata": {},
   "source": [
    "# Mini Curso: Comprehensions en Python\n",
    "\n",
    "Objetivo del Curso:\n",
    "\n",
    "Aprender a utilizar list comprehensions, dictionary comprehensions, y comprehensions similares para escribir código más eficiente y pythonico.\n",
    "\n",
    "Capítulo 1: Introducción a List Comprehensions\n",
    "+ Concepto de list comprehensions.\n",
    "+ Sintaxis básica.\n",
    "+ Ejemplos de uso comparados con bucles for tradicionales.\n",
    "\n",
    "Capítulo 2: Avanzando con List Comprehensions\n",
    "+ Uso de condicionales en list comprehensions.\n",
    "+ List comprehensions anidadas.\n",
    "+ Ejercicios prácticos.\n",
    "\n",
    "Capítulo 3: Introducción a Dictionary Comprehensions\n",
    "+ Concepto de dictionary comprehensions.\n",
    "+ Sintaxis básica y ejemplos.\n",
    "+ Comparación con la creación tradicional de diccionarios.\n",
    "\n",
    "Capítulo 4: Avanzando con Dictionary Comprehensions\n",
    "+ Uso de condicionales.\n",
    "+ Comprehensions anidadas para diccionarios.\n",
    "+ Ejercicios prácticos.\n",
    "\n",
    "Capítulo 5: Set Comprehensions y Tuple Comprehensions (Generadores)\n",
    "+ Introducción a set comprehensions.\n",
    "+ Sintaxis y ejemplos prácticos.\n",
    "+ Introducción a tuple comprehensions (expresiones generadoras).\n",
    "+ Diferencias principales con list y dictionary comprehensions.\n",
    "+ Ejercicios prácticos.\n",
    "\n",
    "Capítulo 6: Mejores Prácticas y Consideraciones de Rendimiento\n",
    "+ Cuándo y por qué usar comprehensions.\n",
    "+ Comparación de rendimiento con bucles tradicionales.\n",
    "+ Limitaciones y buenas prácticas.\n",
    "+ Ejercicios Prácticos: Cada capítulo incluirá ejercicios prácticos para reforzar el aprendizaje.\n",
    "\n",
    "Proyecto Final: Implementar una serie de funciones que resuelvan problemas específicos utilizando comprehensions de manera eficiente."
   ]
  },
  {
   "cell_type": "markdown",
   "metadata": {},
   "source": [
    "## Introducción a List Comprehensions\n",
    "\n",
    "### Concepto de List Comprehensions\n",
    "Las list comprehensions en Python proporcionan una manera concisa de crear listas. Comúnmente se usan para realizar operaciones sobre los elementos de una lista, filtrar elementos bajo ciertas condiciones, y transformar estructuras de datos de manera eficiente y con menos código que los bucles for tradicionales.\n",
    "\n",
    "### Sintaxis Básica\n",
    "La sintaxis básica de una list comprehension es:\n",
    "\n",
    "```\n",
    "[nueva_expresion for elemento in iterable if condicion]\n",
    "```"
   ]
  },
  {
   "cell_type": "markdown",
   "metadata": {},
   "source": [
    "+ **nueva_expresion**: Lo que quieres que tenga cada elemento de la nueva lista, puede ser una transformación del elemento original.\n",
    "+ **elemento**: Variable que representa cada elemento del iterable original.\n",
    "+ **iterable**: Estructura de datos sobre la cual iterar (lista, rango, cadena, etc.).\n",
    "+ **condicion**: (Opcional) Una condición para filtrar los elementos del iterable."
   ]
  },
  {
   "cell_type": "markdown",
   "metadata": {},
   "source": [
    "### Ejemplos de Uso Comparados con Bucles For Tradicionales\n",
    "\n",
    "Veamos algunos ejemplos para comprender mejor cómo las list comprehensions pueden ser más eficientes y legibles en comparación con los bucles for tradicionales.\n",
    "\n",
    "**Ejemplo 1**: Crear una lista de los cuadrados de ciertos números\n",
    "\n",
    "* Usando bucle for tradicional:"
   ]
  },
  {
   "cell_type": "code",
   "execution_count": 1,
   "metadata": {},
   "outputs": [],
   "source": [
    "cuadrados = []\n",
    "for i in range(10):\n",
    "    cuadrados.append(i ** 2)"
   ]
  },
  {
   "cell_type": "markdown",
   "metadata": {},
   "source": [
    "* Usando list comprehension:"
   ]
  },
  {
   "cell_type": "code",
   "execution_count": 2,
   "metadata": {},
   "outputs": [],
   "source": [
    "cuadrados = [i ** 2 for i in range(10)]"
   ]
  },
  {
   "cell_type": "markdown",
   "metadata": {},
   "source": [
    "**Ejemplo 2**: Filtrar números impares de una lista\n",
    "\n",
    "* Usando bucle for tradicional:"
   ]
  },
  {
   "cell_type": "code",
   "execution_count": 3,
   "metadata": {},
   "outputs": [],
   "source": [
    "numeros = [1, 2, 3, 4, 5, 6, 7, 8, 9, 10]\n",
    "impares = []\n",
    "for numero in numeros:\n",
    "    if numero % 2 != 0:\n",
    "        impares.append(numero)"
   ]
  },
  {
   "cell_type": "markdown",
   "metadata": {},
   "source": [
    "* Usando list comprehension:"
   ]
  },
  {
   "cell_type": "code",
   "execution_count": 4,
   "metadata": {},
   "outputs": [],
   "source": [
    "impares = [numero for numero in numeros if numero % 2 != 0]"
   ]
  },
  {
   "cell_type": "markdown",
   "metadata": {},
   "source": [
    "Como puedes ver, las list comprehensions permiten realizar las mismas operaciones en menos líneas de código, lo que hace que el código sea más limpio y fácil de leer."
   ]
  },
  {
   "cell_type": "markdown",
   "metadata": {},
   "source": [
    "## Capítulo 2: Avanzando con List Comprehensions.\n",
    "\n",
    "### Uso de Condicionales en List Comprehensions\n",
    "\n",
    "Los condicionales en las list comprehensions permiten filtrar elementos de la lista resultante según ciertas condiciones. Ya hemos visto un ejemplo básico, pero puedes hacer cosas más complejas, como aplicar diferentes operaciones a los elementos dependiendo de la condición:"
   ]
  },
  {
   "cell_type": "code",
   "execution_count": 5,
   "metadata": {},
   "outputs": [],
   "source": [
    "# Ejemplo: \"Si es par, elevar al cuadrado; si es impar, multiplicar por 3\"\n",
    "resultados = [x**2 if x % 2 == 0 else x*3 for x in range(1, 11)]"
   ]
  },
  {
   "cell_type": "markdown",
   "metadata": {},
   "source": [
    "### List Comprehensions Anidadas\n",
    "Las list comprehensions anidadas te permiten trabajar con estructuras de datos más complejas, como listas de listas. Esto es útil para aplanar estas estructuras o para realizar cálculos más complejos:"
   ]
  },
  {
   "cell_type": "code",
   "execution_count": 6,
   "metadata": {},
   "outputs": [],
   "source": [
    "# Ejemplo: Aplanar una lista de listas\n",
    "listas = [[1, 2, 3], [4, 5], [6, 7]]\n",
    "aplanada = [elemento for sublista in listas for elemento in sublista]"
   ]
  },
  {
   "cell_type": "markdown",
   "metadata": {},
   "source": [
    "Este código toma cada `sublista` dentro de la lista `listas` y luego toma cada `elemento` dentro de cada `sublista` para crear una nueva lista aplanada."
   ]
  },
  {
   "cell_type": "markdown",
   "metadata": {},
   "source": [
    "### Ejercicios Prácticos\n",
    "Para afianzar lo aprendido, te propongo algunos ejercicios prácticos:\n",
    "\n",
    "1. **Filtrar y transformar**: Dada una lista de números, usa una list comprehension para crear una nueva lista que contenga solo los números pares multiplicados por 2."
   ]
  },
  {
   "cell_type": "code",
   "execution_count": 14,
   "metadata": {},
   "outputs": [
    {
     "data": {
      "text/plain": [
       "[20, 192, 24, 64, 84, 200, 24, 32, 8]"
      ]
     },
     "execution_count": 14,
     "metadata": {},
     "output_type": "execute_result"
    }
   ],
   "source": [
    "# Crea una lista de 20 números enteros aleatorios\n",
    "import random\n",
    "lista_enteros = [random.randint(0, 100) for _ in range(20)]\n",
    "\n",
    "[2*x for x in lista_enteros if x % 2 == 0]"
   ]
  },
  {
   "cell_type": "markdown",
   "metadata": {},
   "source": [
    "\n",
    "2. **List comprehension anidada**: Dado el siguiente arreglo de datos `[[1, 2, 3], [4, 5, 6], [7, 8, 9]]`, utiliza una list comprehension para seleccionar solo los elementos que son mayores a 5 en cada sublista."
   ]
  },
  {
   "cell_type": "code",
   "execution_count": 11,
   "metadata": {},
   "outputs": [
    {
     "data": {
      "text/plain": [
       "[6, 7, 8, 9]"
      ]
     },
     "execution_count": 11,
     "metadata": {},
     "output_type": "execute_result"
    }
   ],
   "source": [
    "datos = [[1, 2, 3], [4, 5, 6], [7, 8, 9]]\n",
    "\n",
    "[x for sublista in datos for x in sublista if x > 5]"
   ]
  },
  {
   "cell_type": "markdown",
   "metadata": {},
   "source": [
    "## Capítulo 3 - Dictionary Comprhenssions\n",
    "\n",
    "### Concepto de Dictionary Comprehensions\n",
    "Los dictionary comprehensions son similares a las list comprehensions, pero en lugar de crear listas, se utilizan para construir diccionarios de manera concisa. Permiten filtrar elementos de un iterable y transformarlos en pares clave-valor para construir un diccionario de manera directa y eficiente.\n",
    "\n",
    "### Sintaxis Básica \n",
    "La sintaxis básica de un dictionary comprehension es:\n",
    "\n",
    "```\n",
    "{clave: valor for (clave, valor) in iterable if condicion}\n",
    "```\n",
    "\n",
    "+ **clave**: La expresión que define las claves del nuevo diccionario.\n",
    "+ **valor**: La expresión que define los valores del nuevo diccionario.\n",
    "+ **iterable**: Una secuencia de elementos que se pueden desempaquetar en pares clave-valor, o cualquier iterable cuyos elementos se pueden transformar en claves y valores.\n",
    "+ **condicion**: (Opcional) Una condición para filtrar los elementos del iterable."
   ]
  },
  {
   "cell_type": "markdown",
   "metadata": {},
   "source": [
    "### Ejemplos\n",
    "\n",
    "**Ejemplo 1**: Crear un diccionario con cuadrados de números como claves y los números como valores"
   ]
  },
  {
   "cell_type": "code",
   "execution_count": 16,
   "metadata": {},
   "outputs": [
    {
     "data": {
      "text/plain": [
       "{0: 0, 1: 1, 2: 4, 3: 9, 4: 16, 5: 25}"
      ]
     },
     "execution_count": 16,
     "metadata": {},
     "output_type": "execute_result"
    }
   ],
   "source": [
    "cuadrados = {x: x**2 for x in range(6)}\n",
    "cuadrados"
   ]
  },
  {
   "cell_type": "markdown",
   "metadata": {},
   "source": [
    "**Ejemplo 2**: Filtrar elementos para crear un diccionario"
   ]
  },
  {
   "cell_type": "code",
   "execution_count": 18,
   "metadata": {},
   "outputs": [
    {
     "data": {
      "text/plain": [
       "{'cereza': 30}"
      ]
     },
     "execution_count": 18,
     "metadata": {},
     "output_type": "execute_result"
    }
   ],
   "source": [
    "productos = [(\"manzana\", 10), (\"banana\", 20), (\"cereza\", 30)]\n",
    "productos_caros = {producto: precio for (producto, precio) in productos if precio > 20}\n",
    "productos_caros"
   ]
  },
  {
   "cell_type": "markdown",
   "metadata": {},
   "source": [
    "Comparación con la Creación Tradicional de Diccionarios\n",
    "\n",
    "Crear diccionarios usando bucles for tradicionales puede requerir más líneas de código y ser menos directo en comparación con los dictionary comprehensions.\n",
    "\n",
    "Ejemplo tradicional equivalente al Ejemplo 2:"
   ]
  },
  {
   "cell_type": "code",
   "execution_count": 19,
   "metadata": {},
   "outputs": [],
   "source": [
    "productos_caros = {}\n",
    "for producto, precio in productos:\n",
    "    if precio > 20:\n",
    "        productos_caros[producto] = precio"
   ]
  },
  {
   "cell_type": "markdown",
   "metadata": {},
   "source": [
    "Aunque el resultado es el mismo, el dictionary comprehension simplifica el proceso, haciéndolo más legible y conciso."
   ]
  },
  {
   "cell_type": "markdown",
   "metadata": {},
   "source": [
    "## Capítulo 4: Avanzando con Dictionary Comprehensions\n",
    "\n",
    "### Uso de Condicionales\n",
    "\n",
    "Los condicionales en dictionary comprehensions pueden usarse tanto para filtrar elementos del iterable fuente como para modificar las claves y/o valores en el diccionario resultante basándose en condiciones.\n",
    "\n",
    "Ejemplo de filtrado:\n",
    "\n",
    "Supongamos que queremos crear un diccionario a partir de otro, pero solo incluir los elementos que cumplen con cierta condición:"
   ]
  },
  {
   "cell_type": "code",
   "execution_count": 21,
   "metadata": {},
   "outputs": [],
   "source": [
    "origen = {'a': 1, 'b': 2, 'c': 3, 'd': 4}\n",
    "filtrado = {k: v for k, v in origen.items() if v > 2}"
   ]
  },
  {
   "cell_type": "markdown",
   "metadata": {},
   "source": [
    "Aquí, filtrado contendrá solo los elementos cuyos valores son mayores que 2.\n",
    "\n",
    "Ejemplo de modificación condicional:\n",
    "\n",
    "Crear un diccionario donde las claves son los mismos números y los valores dependen de si el número es par o impar:"
   ]
  },
  {
   "cell_type": "code",
   "execution_count": 20,
   "metadata": {},
   "outputs": [
    {
     "data": {
      "text/plain": [
       "{1: 'impar', 2: 'par', 3: 'impar', 4: 'par'}"
      ]
     },
     "execution_count": 20,
     "metadata": {},
     "output_type": "execute_result"
    }
   ],
   "source": [
    "{ x: ('par' if x % 2 == 0 else 'impar') for x in range(1, 5) }"
   ]
  },
  {
   "cell_type": "markdown",
   "metadata": {},
   "source": [
    "### Comprehensions Anidadas para Diccionarios\n",
    "Aunque menos comunes que con las listas, puedes anidar comprehensions dentro de un dictionary comprehension para realizar operaciones más complejas, como crear diccionarios a partir de estructuras de datos anidadas.\n",
    "\n",
    "Ejemplo:\n",
    "Supongamos que queremos construir un diccionario que mapee cada elemento de una lista a un diccionario de sus factores:"
   ]
  },
  {
   "cell_type": "code",
   "execution_count": 22,
   "metadata": {},
   "outputs": [
    {
     "data": {
      "text/plain": [
       "{1: {1: True},\n",
       " 2: {1: True, 2: True},\n",
       " 3: {1: True, 2: False, 3: True},\n",
       " 4: {1: True, 2: True, 3: False, 4: True},\n",
       " 5: {1: True, 2: False, 3: False, 4: False, 5: True}}"
      ]
     },
     "execution_count": 22,
     "metadata": {},
     "output_type": "execute_result"
    }
   ],
   "source": [
    "{ x: {factor: x % factor == 0 for factor in range(1, x + 1)} for x in range(1, 6) }"
   ]
  },
  {
   "cell_type": "markdown",
   "metadata": {},
   "source": [
    "Este ejemplo crea un diccionario donde cada clave es un número del 1 al 5, y su valor es otro diccionario que indica si el número es divisible por sus factores.\n",
    "\n",
    "### Ejercicios Prácticos\n",
    "\n",
    "Para poner en práctica lo aprendido, aquí tienes algunos ejercicios:\n",
    "\n",
    "1. Filtrar y transformar en diccionario: Dada una lista de nombres de personas y su año de nacimiento, crea un diccionario con los nombres como claves y la edad como valores, incluyendo solo a las personas que tendrían más de 18 años en 2023."
   ]
  },
  {
   "cell_type": "code",
   "execution_count": 23,
   "metadata": {},
   "outputs": [
    {
     "data": {
      "text/plain": [
       "{'Juan': 35, 'Ana': 57, 'Helena': 58, 'Juanjo': 45, 'Marisa': 30}"
      ]
     },
     "execution_count": 23,
     "metadata": {},
     "output_type": "execute_result"
    }
   ],
   "source": [
    "lista = [['Juan', 1988], ['Ana', 1966], ['Helena', 1965], ['Javier', 2008], ['Juanjo', 1978], ['Marisa', 1993]]\n",
    "\n",
    "{nombre: (2023-anio) for nombre, anio in lista if (2023-anio) > 18}"
   ]
  },
  {
   "cell_type": "code",
   "execution_count": 26,
   "metadata": {},
   "outputs": [
    {
     "data": {
      "text/plain": [
       "{'Juan': 35, 'Ana': 57, 'Helena': 58, 'Juanjo': 45, 'Marisa': 30}"
      ]
     },
     "execution_count": 26,
     "metadata": {},
     "output_type": "execute_result"
    }
   ],
   "source": [
    "{nombre: edad for nombre, edad in {nombre: 2023-anio for nombre, anio in lista}.items() if edad > 18}"
   ]
  },
  {
   "cell_type": "markdown",
   "metadata": {},
   "source": [
    "\n",
    "2. Dictionary comprehension anidada: Dado un diccionario que mapea nombres de productos a sus precios, crea un nuevo diccionario con los mismos productos, pero con precios actualizados que incluyan un 10% de aumento solo para aquellos productos que originalmente cuestan más de 20 unidades."
   ]
  },
  {
   "cell_type": "code",
   "execution_count": 31,
   "metadata": {},
   "outputs": [
    {
     "data": {
      "text/plain": [
       "{'A': 24.200000000000003,\n",
       " 'C': 48.400000000000006,\n",
       " 'E': 72.60000000000001,\n",
       " 'G': 96.80000000000001,\n",
       " 'I': 121.00000000000001}"
      ]
     },
     "execution_count": 31,
     "metadata": {},
     "output_type": "execute_result"
    }
   ],
   "source": [
    "lista= [['A', 22], ['B', 15], ['C', 44], ['D', 12], ['E', 66], ['F', 19], ['G', 88], ['H', 5], ['I', 110], ['J', 7]]\n",
    "\n",
    "{producto: 1.1 * precio for producto, precio in lista if precio > 20}"
   ]
  },
  {
   "cell_type": "code",
   "execution_count": 33,
   "metadata": {},
   "outputs": [
    {
     "data": {
      "text/plain": [
       "{'A': 24.200000000000003,\n",
       " 'B': 15,\n",
       " 'C': 48.400000000000006,\n",
       " 'D': 12,\n",
       " 'E': 72.60000000000001,\n",
       " 'F': 19,\n",
       " 'G': 96.80000000000001,\n",
       " 'H': 5,\n",
       " 'I': 121.00000000000001,\n",
       " 'J': 7}"
      ]
     },
     "execution_count": 33,
     "metadata": {},
     "output_type": "execute_result"
    }
   ],
   "source": [
    "{producto: (1.1 * precio if precio > 20 else precio) for producto, precio in lista}"
   ]
  },
  {
   "cell_type": "markdown",
   "metadata": {},
   "source": [
    "## Capítulo 5: Set Comprehensions y Tuple Comprehensions (Generadores)\n",
    "\n",
    "### Introducción a set comprehensions.\n",
    "\n",
    "Los set comprehensions en Python permiten la creación concisa de conjuntos (sets), similares a como las list y dictionary comprehensions permiten crear listas y diccionarios. Un set comprehension se utiliza para transformar cualquier iterable en un conjunto, filtrando elementos y aplicando operaciones a cada elemento, todo en una única expresión concisa."
   ]
  },
  {
   "cell_type": "markdown",
   "metadata": {},
   "source": [
    "### Sintaxis y ejemplos prácticos.\n",
    "\n",
    "La sintaxis de un set comprehension es similar a la de una list comprehension, pero se utiliza `{}` en lugar de `[]`. **La diferencia clave es que los sets no permiten elementos duplicados**.\n",
    "\n",
    "Ejemplo: Crear un set de los cuadrados de números"
   ]
  },
  {
   "cell_type": "code",
   "execution_count": 34,
   "metadata": {},
   "outputs": [
    {
     "data": {
      "text/plain": [
       "{0, 1, 4, 9, 16, 25, 36, 49, 64, 81}"
      ]
     },
     "execution_count": 34,
     "metadata": {},
     "output_type": "execute_result"
    }
   ],
   "source": [
    "cuadrados = {x**2 for x in range(10)}\n",
    "cuadrados"
   ]
  },
  {
   "cell_type": "markdown",
   "metadata": {},
   "source": [
    "Ejemplo: Filtrar elementos únicos que cumplen una condición\n",
    "\n",
    "Supongamos que queremos los elementos únicos mayores que 5 de una lista de números:"
   ]
  },
  {
   "cell_type": "code",
   "execution_count": 36,
   "metadata": {},
   "outputs": [
    {
     "data": {
      "text/plain": [
       "{6, 7, 8}"
      ]
     },
     "execution_count": 36,
     "metadata": {},
     "output_type": "execute_result"
    }
   ],
   "source": [
    "numeros = [1, 2, 3, 6, 7, 8, 1, 2]\n",
    "unicos_mayores_que_5 = {x for x in numeros if x > 5}\n",
    "unicos_mayores_que_5"
   ]
  },
  {
   "cell_type": "markdown",
   "metadata": {},
   "source": [
    "\n",
    "### Introducción a tuple comprehensions (expresiones generadoras).\n",
    "\n",
    "Aunque a menudo se les llama \"tuple comprehensions\", técnicamente no existen en Python. En su lugar, tenemos expresiones generadoras, que producen un generador: un tipo de iterable que genera los elementos uno por uno, siendo más eficientes en términos de memoria.\n",
    "\n",
    "Sintaxis:\n",
    "\n",
    "```\n",
    "generador = (expresion for elemento in iterable if condicion)\n",
    "```"
   ]
  },
  {
   "cell_type": "markdown",
   "metadata": {},
   "source": [
    "Ejemplo: Crear un generador de cuadrados"
   ]
  },
  {
   "cell_type": "code",
   "execution_count": 37,
   "metadata": {},
   "outputs": [
    {
     "data": {
      "text/plain": [
       "<generator object <genexpr> at 0x0000017FAB1C1CB0>"
      ]
     },
     "execution_count": 37,
     "metadata": {},
     "output_type": "execute_result"
    }
   ],
   "source": [
    "cuadrados = (x**2 for x in range(10))\n",
    "cuadrados"
   ]
  },
  {
   "cell_type": "markdown",
   "metadata": {},
   "source": [
    "Para acceder a los elementos, puedes convertir el generador en una lista o iterar sobre él en un bucle."
   ]
  },
  {
   "cell_type": "code",
   "execution_count": 38,
   "metadata": {},
   "outputs": [
    {
     "data": {
      "text/plain": [
       "[0, 1, 4, 9, 16, 25, 36, 49, 64, 81]"
      ]
     },
     "execution_count": 38,
     "metadata": {},
     "output_type": "execute_result"
    }
   ],
   "source": [
    "list(cuadrados)"
   ]
  },
  {
   "cell_type": "code",
   "execution_count": 40,
   "metadata": {},
   "outputs": [
    {
     "name": "stdout",
     "output_type": "stream",
     "text": [
      "0\n",
      "1\n",
      "4\n",
      "9\n",
      "16\n",
      "25\n",
      "36\n",
      "49\n",
      "64\n",
      "81\n"
     ]
    }
   ],
   "source": [
    "cuadrados = (x**2 for x in range(10))\n",
    "\n",
    "for cuadrado in cuadrados:\n",
    "    print(cuadrado)"
   ]
  },
  {
   "cell_type": "markdown",
   "metadata": {},
   "source": [
    "### Diferencias principales con list y dictionary comprehensions.\n",
    "\n",
    "**Sets**: No permiten elementos duplicados y no mantienen un orden específico de elementos.\n",
    "**Generadores (expresiones generadoras)**: Son más eficientes en memoria porque generan elementos uno por uno, en lugar de almacenar todos los elementos en memoria de una vez.\n",
    "\n",
    "### Ejercicios prácticos.\n",
    "\n",
    "1. **Set Comprehension**: Dada una lista de palabras, utiliza un set comprehension para crear un conjunto que contenga la longitud de las palabras, excluyendo cualquier longitud duplicada.\n"
   ]
  },
  {
   "cell_type": "code",
   "execution_count": 41,
   "metadata": {},
   "outputs": [
    {
     "data": {
      "text/plain": [
       "{3, 4, 5}"
      ]
     },
     "execution_count": 41,
     "metadata": {},
     "output_type": "execute_result"
    }
   ],
   "source": [
    "lista_palabras = ['hola', 'que', 'tal', 'estas']\n",
    "\n",
    "{len(palabra) for palabra in lista_palabras}"
   ]
  },
  {
   "cell_type": "markdown",
   "metadata": {},
   "source": [
    "\n",
    "2. **Expresión Generadora**: Crea una expresión generadora que genere los números impares del 1 al 20. Luego, utiliza un bucle for para imprimir cada número generado.\n"
   ]
  },
  {
   "cell_type": "code",
   "execution_count": 42,
   "metadata": {},
   "outputs": [
    {
     "name": "stdout",
     "output_type": "stream",
     "text": [
      "1\n",
      "3\n",
      "5\n",
      "7\n",
      "9\n",
      "11\n",
      "13\n",
      "15\n",
      "17\n",
      "19\n"
     ]
    }
   ],
   "source": [
    "lista_impares = {x for x in range(1,21) if x % 2 != 0}\n",
    "\n",
    "for impar in lista_impares:\n",
    "    print(impar)"
   ]
  },
  {
   "cell_type": "markdown",
   "metadata": {},
   "source": [
    "## Capítulo 6: Mejores Prácticas y Consideraciones de Rendimiento\n",
    "\n",
    "### Cuándo y por qué usar comprehensions.\n",
    "\n",
    "### Comparación de rendimiento con bucles tradicionales.\n",
    "\n",
    "### Limitaciones y buenas prácticas.\n",
    "\n",
    "### Ejercicios Prácticos: Cada capítulo incluirá ejercicios prácticos para reforzar el aprendizaje.\n",
    "\n",
    "\n",
    "## Proyecto Final: Implementar una serie de funciones que resuelvan problemas específicos utilizando comprehensions de manera eficiente."
   ]
  }
 ],
 "metadata": {
  "kernelspec": {
   "display_name": ".venv",
   "language": "python",
   "name": "python3"
  },
  "language_info": {
   "codemirror_mode": {
    "name": "ipython",
    "version": 3
   },
   "file_extension": ".py",
   "mimetype": "text/x-python",
   "name": "python",
   "nbconvert_exporter": "python",
   "pygments_lexer": "ipython3",
   "version": "3.11.7"
  }
 },
 "nbformat": 4,
 "nbformat_minor": 2
}
