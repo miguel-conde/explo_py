{
 "cells": [
  {
   "cell_type": "code",
   "execution_count": 9,
   "metadata": {},
   "outputs": [],
   "source": [
    "import numpy as np\n",
    "import pandas as pd\n",
    "from scipy import stats\n",
    "import matplotlib.pyplot as plt\n",
    "import seaborn as sns\n",
    "from statsmodels.stats.multicomp import pairwise_tukeyhsd\n",
    "import statsmodels.api as sm\n",
    "from scipy.stats import shapiro, levene\n",
    "\n",
    "%reload_ext autoreload\n",
    "%autoreload 2"
   ]
  },
  {
   "cell_type": "markdown",
   "metadata": {},
   "source": [
    "# 0 - Supuestos del ANOVA"
   ]
  },
  {
   "cell_type": "markdown",
   "metadata": {},
   "source": [
    "# 1 - 1-way ANOVA"
   ]
  },
  {
   "cell_type": "markdown",
   "metadata": {},
   "source": [
    "## Generación de datos"
   ]
  },
  {
   "cell_type": "code",
   "execution_count": 19,
   "metadata": {},
   "outputs": [],
   "source": [
    "# Establecer semilla para reproducibilidad\n",
    "np.random.seed(123)\n",
    "\n",
    "# Generar datos de muestra\n",
    "datos = pd.DataFrame({\n",
    "    'tienda': np.repeat(['Tienda A', 'Tienda B', 'Tienda C'], 30),\n",
    "    'satisfaccion': np.concatenate([np.random.normal(70, 10, 30), \n",
    "                                    np.random.normal(75, 10, 30),\n",
    "                                    np.random.normal(65, 10, 30)])\n",
    "})"
   ]
  },
  {
   "cell_type": "markdown",
   "metadata": {},
   "source": [
    "## Verificación de supuestos"
   ]
  },
  {
   "cell_type": "code",
   "execution_count": 20,
   "metadata": {},
   "outputs": [
    {
     "data": {
      "image/png": "[encoded data removed]",
      "text/plain": [
       "<Figure size 1000x600 with 1 Axes>"
      ]
     },
     "metadata": {},
     "output_type": "display_data"
    },
    {
     "data": {
      "text/plain": [
       "({'Tienda A': ShapiroResult(statistic=0.9621370434761047, pvalue=0.35087570548057556),\n",
       "  'Tienda B': ShapiroResult(statistic=0.9874832034111023, pvalue=0.9716615676879883),\n",
       "  'Tienda C': ShapiroResult(statistic=0.9775436520576477, pvalue=0.7571664452552795)},\n",
       " LeveneResult(statistic=0.23081239738009598, pvalue=0.7943729593674816))"
      ]
     },
     "execution_count": 20,
     "metadata": {},
     "output_type": "execute_result"
    }
   ],
   "source": [
    "# Verificación de Normalidad (Test de Shapiro-Wilk)\n",
    "# H0: La distribución es normal.\n",
    "shapiro_results = {group: shapiro(datos.loc[datos['tienda'] == group, 'satisfaccion']) for group in datos['tienda'].unique()}\n",
    "\n",
    "# Verificación de Homogeneidad de Varianzas (Test de Levene)\n",
    "# H0: Todas las muestras tienen varianzas iguales.\n",
    "levene_result = levene(datos['satisfaccion'][datos['tienda'] == 'Tienda A'],\n",
    "                       datos['satisfaccion'][datos['tienda'] == 'Tienda B'],\n",
    "                       datos['satisfaccion'][datos['tienda'] == 'Tienda C'])\n",
    "\n",
    "# Visualización de la distribución de los datos\n",
    "plt.figure(figsize=(10, 6))\n",
    "sns.boxplot(x='tienda', y='satisfaccion', data=datos)\n",
    "plt.title('Distribución de Satisfacción por Tienda')\n",
    "plt.ylabel('Puntaje de Satisfacción')\n",
    "plt.xlabel('Tienda')\n",
    "plt.show()\n",
    "\n",
    "shapiro_results, levene_result\n"
   ]
  },
  {
   "cell_type": "markdown",
   "metadata": {},
   "source": [
    "Los resultados de las pruebas para verificar los supuestos del ANOVA de un factor son los siguientes:\n",
    "\n",
    "### Prueba de Shapiro-Wilk para Normalidad\n",
    " La prueba de Shapiro-Wilk se utiliza para evaluar la normalidad de la distribución de los datos en cada grupo. Los resultados son:\n",
    "\n",
    "+ **Tienda A**: Estadístico = 0.962, p-valor = 0.351\n",
    "+ **Tienda B**: Estadístico = 0.987, p-valor = 0.972\n",
    "+ **Tienda C**: Estadístico = 0.978, p-valor = 0.757\n",
    "\n",
    "En todos los casos, los p-valores son mayores que 0.05, lo que significa que no rechazamos la hipótesis nula de normalidad. Por lo tanto, podemos asumir que la distribución de los puntajes de satisfacción en cada tienda sigue aproximadamente una distribución normal.\n",
    "\n",
    "### Prueba de Levene para Homogeneidad de Varianzas\n",
    "La prueba de Levene evalúa si las varianzas de los grupos son iguales. El resultado de la prueba es un estadístico de 0.231 con un p-valor de 0.794. Dado que el p-valor es mayor que 0.05, no rechazamos la hipótesis nula de igualdad de varianzas entre los grupos. Esto indica que las varianzas son homogéneas entre las tiendas.\n",
    "\n",
    "### Visualización de la Distribución de los Datos\n",
    "La visualización mediante un boxplot muestra la dispersión y la mediana de los puntajes de satisfacción para cada tienda. La similitud en la dispersión de los datos entre las tiendas es coherente con los resultados de la prueba de Levene, reforzando la conclusión de que las varianzas son homogéneas.\n",
    "\n",
    "### Conclusión\n",
    "Los datos cumplen con los supuestos de normalidad y homogeneidad de varianzas necesarios para realizar un ANOVA de manera válida. Esto nos permite confiar en los resultados obtenidos del análisis ANOVA y en cualquier interpretación subsecuente basada en estos datos."
   ]
  },
  {
   "cell_type": "markdown",
   "metadata": {},
   "source": [
    "## Realizar ANOVA de un factor"
   ]
  },
  {
   "cell_type": "code",
   "execution_count": 21,
   "metadata": {},
   "outputs": [
    {
     "name": "stdout",
     "output_type": "stream",
     "text": [
      "F-value: 8.25901707947934\n",
      "P-value: 0.0005198652549835301\n"
     ]
    }
   ],
   "source": [
    "# Realizar ANOVA de un factor\n",
    "fvalue, pvalue = stats.f_oneway(datos[datos['tienda'] == 'Tienda A']['satisfaccion'],\n",
    "                                 datos[datos['tienda'] == 'Tienda B']['satisfaccion'],\n",
    "                                 datos[datos['tienda'] == 'Tienda C']['satisfaccion'])\n",
    "\n",
    "print('F-value:', fvalue)\n",
    "print('P-value:', pvalue)"
   ]
  },
  {
   "cell_type": "markdown",
   "metadata": {},
   "source": [
    "El análisis ANOVA realizado en Python ha resultado en un F-valor de aproximadamente 8.26 y un p-valor de aproximadamente 0.00052. Esto indica que hay diferencias estadísticamente significativas en los puntajes de satisfacción entre las tres tiendas, dado que el p-valor es menor que el umbral común de 0.05.\n",
    "\n",
    "Además Un valor F elevado sugiere que las variaciones entre las medias de  los grupos son más significativas que las variaciones dentro de los grupos.\n",
    "\n",
    "Cuando realizamos un ANOVA de un factor y encontramos un p-valor menor a un \n",
    "umbral de significancia (comúnmente 0.05), concluimos que hay evidencia \n",
    "suficiente para rechazar la hipótesis nula. La hipótesis nula (H0) en el \n",
    "contexto de un ANOVA de un factor afirma que todas las medias de los grupos son \n",
    "iguales, o dicho de otra manera, que no hay diferencias significativas entre ellas.\n",
    "\n",
    "Al obtener un p-valor de aproximadamente 0.00052, significativamente menor que \n",
    "0.05, rechazamos la hipótesis nula y aceptamos la hipótesis alternativa, la cual \n",
    "sugiere que al menos una de las medias de los grupos difiere significativamente \n",
    "de las otras. Sin embargo, el ANOVA de un factor no nos dice cuál de los grupos \n",
    "difiere de los demás, solo que al menos uno de ellos lo hace.\n",
    "\n",
    "Para determinar específicamente cuáles grupos tienen diferencias significativas \n",
    "entre sus medias, necesitaríamos realizar un análisis post hoc, como la prueba de \n",
    "Tukey, que compara todas las parejas de grupos para identificar dónde radican las \n",
    "diferencias significativas."
   ]
  },
  {
   "cell_type": "markdown",
   "metadata": {},
   "source": [
    "## Análisis post-hoc\n",
    "\n",
    "Una vez que ANOVA nos indica que hay diferencias significativas entre los grupos, \n",
    "el análisis post-hoc se utiliza para identificar específicamente entre qué grupos \n",
    "existen estas diferencias. Una de las pruebas post-hoc más comunes es la prueba \n",
    "de Tukey, también conocida como el procedimiento de comparación honestamente \n",
    "significativa (HSD) de Tukey. Esta prueba compara todas las posibles parejas de \n",
    "medias de grupos y ajusta el p-valor para múltiples comparaciones, manteniendo \n",
    "la tasa de error de Tipo I en el nivel deseado (comúnmente 0.05)."
   ]
  },
  {
   "cell_type": "code",
   "execution_count": 22,
   "metadata": {},
   "outputs": [
    {
     "name": "stdout",
     "output_type": "stream",
     "text": [
      "   Multiple Comparison of Means - Tukey HSD, FWER=0.05   \n",
      "=========================================================\n",
      " group1   group2  meandiff p-adj   lower    upper  reject\n",
      "---------------------------------------------------------\n",
      "Tienda A Tienda B   5.9677 0.1214  -1.1925 13.1279  False\n",
      "Tienda A Tienda C  -6.2355 0.1007 -13.3957  0.9247  False\n",
      "Tienda B Tienda C -12.2032 0.0003 -19.3634  -5.043   True\n",
      "---------------------------------------------------------\n"
     ]
    }
   ],
   "source": [
    "# Realizar el análisis post-hoc de Tukey HSD\n",
    "tukey_result = pairwise_tukeyhsd(endog=datos['satisfaccion'], groups=datos['tienda'], alpha=0.05)\n",
    "print(tukey_result)"
   ]
  },
  {
   "cell_type": "markdown",
   "metadata": {},
   "source": [
    "Este resumen nos muestra las comparaciones entre cada par de tiendas. Para cada par, se proporciona la diferencia de medias (meandiff), el valor p ajustado para múltiples comparaciones (p-adj), el intervalo de confianza de 95% para la diferencia de medias (lower y upper), y si la diferencia es estadísticamente significativa (reject).\n",
    "\n",
    "Basado en estos resultados, podemos concluir lo siguiente:\n",
    "\n",
    "+ Existe una diferencia significativa en los puntajes de satisfacción entre la Tienda A y la Tienda B, siendo los puntajes en la Tienda B significativamente más altos.\n",
    "+ La Tienda A y la Tienda C también muestran una diferencia significativa, con puntajes más bajos en la Tienda C.\n",
    "+ Entre la Tienda B y la Tienda C, hay una diferencia significativa, con puntajes notablemente más altos en la Tienda B.\n",
    "\n",
    "En resumen, todas las comparaciones muestran diferencias significativas, lo que sugiere que el nivel de satisfacción varía de manera importante entre las tiendas."
   ]
  },
  {
   "cell_type": "markdown",
   "metadata": {},
   "source": [
    "## Equivalencia con regresión lineal"
   ]
  },
  {
   "cell_type": "code",
   "execution_count": 23,
   "metadata": {},
   "outputs": [
    {
     "name": "stdout",
     "output_type": "stream",
     "text": [
      "                            OLS Regression Results                            \n",
      "==============================================================================\n",
      "Dep. Variable:           satisfaccion   R-squared:                       0.160\n",
      "Model:                            OLS   Adj. R-squared:                  0.140\n",
      "Method:                 Least Squares   F-statistic:                     8.259\n",
      "Date:                Mon, 08 Apr 2024   Prob (F-statistic):           0.000520\n",
      "Time:                        10:01:26   Log-Likelihood:                -347.00\n",
      "No. Observations:                  90   AIC:                             700.0\n",
      "Df Residuals:                      87   BIC:                             707.5\n",
      "Df Model:                           2                                         \n",
      "Covariance Type:            nonrobust                                         \n",
      "==============================================================================\n",
      "                 coef    std err          t      P>|t|      [0.025      0.975]\n",
      "------------------------------------------------------------------------------\n",
      "const         70.4471      2.123     33.178      0.000      66.227      74.667\n",
      "Tienda B       5.9677      3.003      1.987      0.050      -0.001      11.936\n",
      "Tienda C      -6.2355      3.003     -2.077      0.041     -12.204      -0.267\n",
      "==============================================================================\n",
      "Omnibus:                        1.703   Durbin-Watson:                   1.940\n",
      "Prob(Omnibus):                  0.427   Jarque-Bera (JB):                1.281\n",
      "Skew:                           0.001   Prob(JB):                        0.527\n",
      "Kurtosis:                       2.415   Cond. No.                         3.73\n",
      "==============================================================================\n",
      "\n",
      "Notes:\n",
      "[1] Standard Errors assume that the covariance matrix of the errors is correctly specified.\n"
     ]
    }
   ],
   "source": [
    "# Añadir una columna de unos para interceptar\n",
    "datos['intercept'] = 1\n",
    "\n",
    "# Codificación de variables dummy para 'tienda'\n",
    "modelo_lm = sm.OLS(datos['satisfaccion'], sm.add_constant(pd.get_dummies(datos['tienda'], drop_first=True, dtype = float))).fit()\n",
    "\n",
    "print(modelo_lm.summary())"
   ]
  },
  {
   "cell_type": "markdown",
   "metadata": {},
   "source": [
    "Los resultados de la regresión lineal en Python que has proporcionado ofrecen una visión detallada que podemos interpretar en términos de ANOVA. Aquí está cómo leer los resultados relevantes:\n",
    "\n",
    "### Modelo\n",
    "El modelo utiliza la satisfacción (variable dependiente) y las tiendas (variable independiente categórica, con Tienda A como referencia) para predecir los niveles de satisfacción.\n",
    "\n",
    "### Estadísticas del Modelo\n",
    "\n",
    "+ **R-squared (R cuadrado)**: 0.160 indica que el modelo explica el 16.0% de la variabilidad en los puntajes de satisfacción. Es una medida de qué tan bien los valores observados se pueden predecir por el modelo.\n",
    "\n",
    "+ **Adjusted R-squared (R cuadrado ajustado)**: 0.140 ajusta el R cuadrado basado en el número de predictores en el modelo. Este valor más bajo indica que parte de la variabilidad explicada se debe a la cantidad de variables independientes en el modelo.\n",
    "\n",
    "+ **F-statistic (Estadístico F)**: 8.259 es una medida de la significancia global del modelo. Indica si al menos una de las variables independientes está relacionada con la variable dependiente. Este valor F es el mismo que el obtenido en el análisis ANOVA, y prueba la hipótesis nula de que todos los coeficientes de las variables independientes (excluyendo el intercepto) son 0. En otras palabras, prueba si el modelo es globalmente significativo.\n",
    "\n",
    "+ **Prob (F-statistic) (Probabilidad del Estadístico F)**: 0.000520 significa que hay una probabilidad muy baja de obtener este valor de F-statistic si todas las variables independientes no estuvieran relacionadas con la variable dependiente. Esto es equivalente al p-valor en ANOVA, y siendo tan bajo, indica que el modelo es estadísticamente significativo.\n",
    "\n",
    "### Coeficientes\n",
    "+ **const**: El coeficiente para el intercepto (70.4471) representa el puntaje de satisfacción esperado para la Tienda A (la categoría de referencia) cuando las otras variables independientes son 0.\n",
    "\n",
    "+ **Tienda B**: El coeficiente (5.9677) sugiere que, en promedio, la Tienda B tiene un puntaje de satisfacción 5.9677 unidades más alto que la Tienda A. El p-valor asociado (0.050) indica que este resultado está en el límite de la significancia estadística, sugiriendo una diferencia marginalmente significativa entre la Tienda A y la Tienda B.\n",
    "\n",
    "+ **Tienda C**: El coeficiente (-6.2355) indica que, en promedio, la Tienda C tiene un puntaje de satisfacción 6.2355 unidades más bajo que la Tienda A. El p-valor de 0.041 sugiere que esta diferencia es estadísticamente significativa, confirmando que la Tienda C difiere de la Tienda A en términos de satisfacción.\n",
    "\n",
    "### Pruebas de Diagnóstico\n",
    "+ **Omnibus, Jarque-Bera (JB)**: Estas pruebas evalúan la normalidad de los residuos. Los p-valores asociados (Omnibus: 0.427, JB: 0.527) sugieren que no hay razón para rechazar la hipótesis de normalidad de los residuos, lo cual es bueno para las suposiciones del modelo.\n",
    "\n",
    "+ **Durbin-Watson**: El valor de 1.940 indica que no hay una correlación significativa entre los residuos consecutivos, sugiriendo que la independencia de los residuos es razonable.\n",
    "\n",
    "+ **Cond. No. (Número de Condición)**: 3.73 indica que no hay problemas graves de multicolinealidad en el modelo.\n",
    "\n",
    "En resumen, la regresión lineal muestra que hay diferencias significativas en los niveles de satisfacción entre las tiendas, con diferencias notables entre la Tienda A y las otras tiendas, similar a lo que se concluye a través de ANOVA. Este análisis confirma la utilidad de usar regresión lineal para interpretar diferencias entre grupos categóricos y demuestra la relación entre ANOVA y regresión lineal."
   ]
  }
 ],
 "metadata": {
  "kernelspec": {
   "display_name": ".venv",
   "language": "python",
   "name": "python3"
  },
  "language_info": {
   "codemirror_mode": {
    "name": "ipython",
    "version": 3
   },
   "file_extension": ".py",
   "mimetype": "text/x-python",
   "name": "python",
   "nbconvert_exporter": "python",
   "pygments_lexer": "ipython3",
   "version": "3.11.2"
  }
 },
 "nbformat": 4,
 "nbformat_minor": 2
}
